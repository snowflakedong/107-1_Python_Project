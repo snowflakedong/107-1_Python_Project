{
 "cells": [
  {
   "cell_type": "markdown",
   "metadata": {},
   "source": [
    "# getClimate\n",
    "---\n",
    "### getClimate(position, date, info)\n",
    "* postition : City  (ex. 台北市)\n",
    "* date : YYYY-MM-DD (ex. 2018-01-01)\n",
    "* info : station_info.csv"
   ]
  },
  {
   "cell_type": "code",
   "execution_count": 1,
   "metadata": {},
   "outputs": [],
   "source": [
    "import pandas as pd\n",
    "import numpy as np"
   ]
  },
  {
   "cell_type": "code",
   "execution_count": 2,
   "metadata": {},
   "outputs": [
    {
     "data": {
      "text/html": [
       "<div>\n",
       "<style scoped>\n",
       "    .dataframe tbody tr th:only-of-type {\n",
       "        vertical-align: middle;\n",
       "    }\n",
       "\n",
       "    .dataframe tbody tr th {\n",
       "        vertical-align: top;\n",
       "    }\n",
       "\n",
       "    .dataframe thead th {\n",
       "        text-align: right;\n",
       "    }\n",
       "</style>\n",
       "<table border=\"1\" class=\"dataframe\">\n",
       "  <thead>\n",
       "    <tr style=\"text-align: right;\">\n",
       "      <th></th>\n",
       "      <th>Chinese</th>\n",
       "      <th>City</th>\n",
       "      <th>English</th>\n",
       "      <th>Url</th>\n",
       "    </tr>\n",
       "  </thead>\n",
       "  <tbody>\n",
       "    <tr>\n",
       "      <th>0</th>\n",
       "      <td>板橋</td>\n",
       "      <td>新北市</td>\n",
       "      <td>BANQIAO</td>\n",
       "      <td>https://e-service.cwb.gov.tw/HistoryDataQuery/...</td>\n",
       "    </tr>\n",
       "    <tr>\n",
       "      <th>1</th>\n",
       "      <td>淡水</td>\n",
       "      <td>新北市</td>\n",
       "      <td>TAMSUI</td>\n",
       "      <td>https://e-service.cwb.gov.tw/HistoryDataQuery/...</td>\n",
       "    </tr>\n",
       "    <tr>\n",
       "      <th>2</th>\n",
       "      <td>鞍部</td>\n",
       "      <td>臺北市</td>\n",
       "      <td>ANBU</td>\n",
       "      <td>https://e-service.cwb.gov.tw/HistoryDataQuery/...</td>\n",
       "    </tr>\n",
       "    <tr>\n",
       "      <th>3</th>\n",
       "      <td>臺北</td>\n",
       "      <td>臺北市</td>\n",
       "      <td>TAIPEI</td>\n",
       "      <td>https://e-service.cwb.gov.tw/HistoryDataQuery/...</td>\n",
       "    </tr>\n",
       "    <tr>\n",
       "      <th>4</th>\n",
       "      <td>竹子湖</td>\n",
       "      <td>臺北市</td>\n",
       "      <td>ZHUZIHU</td>\n",
       "      <td>https://e-service.cwb.gov.tw/HistoryDataQuery/...</td>\n",
       "    </tr>\n",
       "  </tbody>\n",
       "</table>\n",
       "</div>"
      ],
      "text/plain": [
       "  Chinese City  English                                                Url\n",
       "0      板橋  新北市  BANQIAO  https://e-service.cwb.gov.tw/HistoryDataQuery/...\n",
       "1      淡水  新北市   TAMSUI  https://e-service.cwb.gov.tw/HistoryDataQuery/...\n",
       "2      鞍部  臺北市     ANBU  https://e-service.cwb.gov.tw/HistoryDataQuery/...\n",
       "3      臺北  臺北市   TAIPEI  https://e-service.cwb.gov.tw/HistoryDataQuery/...\n",
       "4     竹子湖  臺北市  ZHUZIHU  https://e-service.cwb.gov.tw/HistoryDataQuery/..."
      ]
     },
     "execution_count": 2,
     "metadata": {},
     "output_type": "execute_result"
    }
   ],
   "source": [
    "# Set values for example\n",
    "position = '台北市'\n",
    "date = '2018-01-01'\n",
    "info = pd.read_csv('station_info.csv')\n",
    "info.head()"
   ]
  },
  {
   "cell_type": "code",
   "execution_count": 3,
   "metadata": {},
   "outputs": [],
   "source": [
    "precipitation = []\n",
    "temperature = []"
   ]
  },
  {
   "cell_type": "code",
   "execution_count": 4,
   "metadata": {},
   "outputs": [
    {
     "name": "stdout",
     "output_type": "stream",
     "text": [
      "臺北市\n"
     ]
    }
   ],
   "source": [
    "if position[0] == '台':\n",
    "    position = '臺' + position[1:]\n",
    "print(position)"
   ]
  },
  {
   "cell_type": "code",
   "execution_count": 5,
   "metadata": {
    "scrolled": true
   },
   "outputs": [
    {
     "data": {
      "text/html": [
       "<div>\n",
       "<style scoped>\n",
       "    .dataframe tbody tr th:only-of-type {\n",
       "        vertical-align: middle;\n",
       "    }\n",
       "\n",
       "    .dataframe tbody tr th {\n",
       "        vertical-align: top;\n",
       "    }\n",
       "\n",
       "    .dataframe thead th {\n",
       "        text-align: right;\n",
       "    }\n",
       "</style>\n",
       "<table border=\"1\" class=\"dataframe\">\n",
       "  <thead>\n",
       "    <tr style=\"text-align: right;\">\n",
       "      <th></th>\n",
       "      <th>Chinese</th>\n",
       "      <th>City</th>\n",
       "      <th>English</th>\n",
       "      <th>Url</th>\n",
       "    </tr>\n",
       "  </thead>\n",
       "  <tbody>\n",
       "    <tr>\n",
       "      <th>2</th>\n",
       "      <td>鞍部</td>\n",
       "      <td>臺北市</td>\n",
       "      <td>ANBU</td>\n",
       "      <td>https://e-service.cwb.gov.tw/HistoryDataQuery/...</td>\n",
       "    </tr>\n",
       "    <tr>\n",
       "      <th>3</th>\n",
       "      <td>臺北</td>\n",
       "      <td>臺北市</td>\n",
       "      <td>TAIPEI</td>\n",
       "      <td>https://e-service.cwb.gov.tw/HistoryDataQuery/...</td>\n",
       "    </tr>\n",
       "    <tr>\n",
       "      <th>4</th>\n",
       "      <td>竹子湖</td>\n",
       "      <td>臺北市</td>\n",
       "      <td>ZHUZIHU</td>\n",
       "      <td>https://e-service.cwb.gov.tw/HistoryDataQuery/...</td>\n",
       "    </tr>\n",
       "    <tr>\n",
       "      <th>49</th>\n",
       "      <td>社子</td>\n",
       "      <td>臺北市</td>\n",
       "      <td>Shezih</td>\n",
       "      <td>https://e-service.cwb.gov.tw/HistoryDataQuery/...</td>\n",
       "    </tr>\n",
       "    <tr>\n",
       "      <th>50</th>\n",
       "      <td>大直</td>\n",
       "      <td>臺北市</td>\n",
       "      <td>Dazhi</td>\n",
       "      <td>https://e-service.cwb.gov.tw/HistoryDataQuery/...</td>\n",
       "    </tr>\n",
       "  </tbody>\n",
       "</table>\n",
       "</div>"
      ],
      "text/plain": [
       "   Chinese City  English                                                Url\n",
       "2       鞍部  臺北市     ANBU  https://e-service.cwb.gov.tw/HistoryDataQuery/...\n",
       "3       臺北  臺北市   TAIPEI  https://e-service.cwb.gov.tw/HistoryDataQuery/...\n",
       "4      竹子湖  臺北市  ZHUZIHU  https://e-service.cwb.gov.tw/HistoryDataQuery/...\n",
       "49      社子  臺北市   Shezih  https://e-service.cwb.gov.tw/HistoryDataQuery/...\n",
       "50      大直  臺北市    Dazhi  https://e-service.cwb.gov.tw/HistoryDataQuery/..."
      ]
     },
     "execution_count": 5,
     "metadata": {},
     "output_type": "execute_result"
    }
   ],
   "source": [
    "info[info['City']==position].head()"
   ]
  },
  {
   "cell_type": "code",
   "execution_count": 6,
   "metadata": {},
   "outputs": [
    {
     "data": {
      "text/plain": [
       "Int64Index([2, 3, 4, 49, 50, 51, 52, 53, 54, 55, 57, 58, 69, 71, 427, 429], dtype='int64')"
      ]
     },
     "execution_count": 6,
     "metadata": {},
     "output_type": "execute_result"
    }
   ],
   "source": [
    "info[info['City']==position].index"
   ]
  },
  {
   "cell_type": "markdown",
   "metadata": {},
   "source": [
    "### Take index = 2 as example"
   ]
  },
  {
   "cell_type": "code",
   "execution_count": 7,
   "metadata": {},
   "outputs": [
    {
     "data": {
      "text/plain": [
       "[                      0   1                        2   3\n",
       " 0  æ¸¬ç«:466910_éé¨ NaN  è§æ¸¬æé:2018-01-01 NaN,\n",
       "                           0                         1   \\\n",
       " 0                        NaN                     Press   \n",
       " 1   è§æ¸¬æé(LST)ObsTime  æ¸¬ç«æ°£å£(hPa)StnPres   \n",
       " 2                          1                     926.9   \n",
       " 3                          2                     926.8   \n",
       " 4                          3                     926.7   \n",
       " 5                          4                     926.7   \n",
       " 6                          5                     926.9   \n",
       " 7                          6                     927.2   \n",
       " 8                          7                     927.7   \n",
       " 9                          8                     928.2   \n",
       " 10                         9                     928.4   \n",
       " 11                        10                     928.3   \n",
       " 12                        11                     927.9   \n",
       " 13                        12                     927.0   \n",
       " 14                        13                     926.3   \n",
       " 15                        14                     925.6   \n",
       " 16                        15                     925.5   \n",
       " 17                        16                     925.3   \n",
       " 18                        17                     925.7   \n",
       " 19                        18                     926.0   \n",
       " 20                        19                     926.4   \n",
       " 21                        20                     926.8   \n",
       " 22                        21                     926.9   \n",
       " 23                        22                     927.5   \n",
       " 24                        23                     927.2   \n",
       " 25                        24                     927.3   \n",
       " \n",
       "                              2                       3   \\\n",
       " 0                   temperature               dew point   \n",
       " 1   æµ·å¹³é¢æ°£å£(hPa)SeaPres  æ°£æº«(â)Temperature   \n",
       " 2                        1541.0                     8.3   \n",
       " 3                        1539.9                     8.2   \n",
       " 4                        1539.4                     8.2   \n",
       " 5                        1539.2                     8.6   \n",
       " 6                        1540.2                     8.2   \n",
       " 7                        1543.8                     8.6   \n",
       " 8                        1547.4                     8.9   \n",
       " 9                        1551.9                     8.9   \n",
       " 10                       1553.6                     9.0   \n",
       " 11                       1554.2                     9.8   \n",
       " 12                       1552.7                    10.4   \n",
       " 13                       1549.8                    11.4   \n",
       " 14                       1538.6                    10.6   \n",
       " 15                       1531.9                    10.3   \n",
       " 16                       1530.9                    10.2   \n",
       " 17                       1529.6                    10.2   \n",
       " 18                       1532.7                    10.2   \n",
       " 19                       1536.3                    10.6   \n",
       " 20                       1540.4                    10.7   \n",
       " 21                       1544.3                    10.9   \n",
       " 22                       1545.8                    11.3   \n",
       " 23                       1552.2                    11.3   \n",
       " 24                       1550.5                    11.5   \n",
       " 25                       1552.8                    11.6   \n",
       " \n",
       "                                4                  5              6   \\\n",
       " 0                              RH              WD/WS          Precp   \n",
       " 1   é²é»æº«åº¦(â)Td dew point  ç¸å°æº¼åº¦(%)RH  é¢¨é(m/s)WS   \n",
       " 2                             8.3                100            2.7   \n",
       " 3                             8.2                100            3.8   \n",
       " 4                             8.1                 99            3.2   \n",
       " 5                             8.6                100            2.0   \n",
       " 6                             8.2                100            3.3   \n",
       " 7                             8.6                100            6.1   \n",
       " 8                             8.9                100            3.1   \n",
       " 9                             8.8                 99            6.0   \n",
       " 10                            9.0                100            5.6   \n",
       " 11                            9.8                100            5.4   \n",
       " 12                           10.4                100            5.8   \n",
       " 13                           10.4                 94            5.9   \n",
       " 14                            9.7                 94            4.5   \n",
       " 15                            9.8                 97            5.8   \n",
       " 16                            9.8                 97            5.1   \n",
       " 17                            9.7                 97            6.1   \n",
       " 18                            9.9                 98            5.8   \n",
       " 19                           10.2                 97            5.7   \n",
       " 20                           10.4                 98            7.0   \n",
       " 21                           10.6                 98            4.4   \n",
       " 22                           11.1                 99            3.3   \n",
       " 23                           11.1                 99            5.6   \n",
       " 24                           11.3                 99            3.1   \n",
       " 25                           11.4                 99            3.5   \n",
       " \n",
       "                      7                        8   \\\n",
       " 0              SunShine               visibility   \n",
       " 1   é¢¨å(360degree)WD  æå¤§é£é¢¨(m/s)WSGust   \n",
       " 2                   220                      9.0   \n",
       " 3                   180                     12.2   \n",
       " 4                   190                     12.7   \n",
       " 5                   200                     11.1   \n",
       " 6                   170                     13.2   \n",
       " 7                   170                     16.4   \n",
       " 8                   190                     13.2   \n",
       " 9                   160                     14.4   \n",
       " 10                  160                     12.9   \n",
       " 11                  170                     13.6   \n",
       " 12                  160                     13.5   \n",
       " 13                  160                     13.5   \n",
       " 14                  180                     13.4   \n",
       " 15                  160                     14.1   \n",
       " 16                  160                     12.5   \n",
       " 17                  150                     13.7   \n",
       " 18                  150                     14.2   \n",
       " 19                  150                     12.2   \n",
       " 20                  150                     14.8   \n",
       " 21                  160                     15.9   \n",
       " 22                  190                     14.5   \n",
       " 23                  150                     12.8   \n",
       " 24                  180                     11.3   \n",
       " 25                  190                     12.2   \n",
       " \n",
       "                                      9                   10  \\\n",
       " 0                                   NaN                 NaN   \n",
       " 1   æå¤§é£é¢¨é¢¨å(360degree)WDGust  éæ°´é(mm)Precp   \n",
       " 2                                   100                 0.5   \n",
       " 3                                   150                 0.5   \n",
       " 4                                   150                   T   \n",
       " 5                                   170                 0.5   \n",
       " 6                                   150                   T   \n",
       " 7                                   190                   T   \n",
       " 8                                   170                 0.5   \n",
       " 9                                   160                   T   \n",
       " 10                                  150                   T   \n",
       " 11                                  170                   T   \n",
       " 12                                  150                 0.0   \n",
       " 13                                  170                 0.0   \n",
       " 14                                  200                 0.0   \n",
       " 15                                  140                 0.0   \n",
       " 16                                  150                 0.0   \n",
       " 17                                  140                 0.0   \n",
       " 18                                  200                 0.5   \n",
       " 19                                  120                 0.0   \n",
       " 20                                  160                 0.0   \n",
       " 21                                  150                 0.5   \n",
       " 22                                  150                 0.5   \n",
       " 23                                  140                 0.5   \n",
       " 24                                  160                   T   \n",
       " 25                                  140                   T   \n",
       " \n",
       "                            11                        12  \\\n",
       " 0                         NaN                       NaN   \n",
       " 1   éæ°´ææ¸(hr)PrecpHour  æ¥ç\n",
       " §ææ¸(hr)SunShine   \n",
       " 2                         1.0                       NaN   \n",
       " 3                         1.0                       NaN   \n",
       " 4                         1.0                       NaN   \n",
       " 5                         1.0                       NaN   \n",
       " 6                         1.0                       NaN   \n",
       " 7                         1.0                       0.0   \n",
       " 8                         1.0                       0.0   \n",
       " 9                         1.0                       0.0   \n",
       " 10                        1.0                       0.0   \n",
       " 11                        0.5                       0.0   \n",
       " 12                        0.0                       0.0   \n",
       " 13                        0.0                       0.4   \n",
       " 14                        0.0                       0.0   \n",
       " 15                        0.0                       0.0   \n",
       " 16                        0.0                       0.0   \n",
       " 17                        0.0                       0.0   \n",
       " 18                        0.3                       0.0   \n",
       " 19                        0.0                       0.0   \n",
       " 20                        0.0                       0.0   \n",
       " 21                        0.6                       NaN   \n",
       " 22                        1.0                       NaN   \n",
       " 23                        1.0                       NaN   \n",
       " 24                        1.0                       NaN   \n",
       " 25                        0.5                       NaN   \n",
       " \n",
       "                                     13                 14  \n",
       " 0                                  NaN                NaN  \n",
       " 1   å\n",
       " ¨å¤©ç©ºæ¥å°é(MJ/ã¡)GloblRad  è½è¦åº¦(km)Visb  \n",
       " 2                                 0.00                NaN  \n",
       " 3                                 0.00                NaN  \n",
       " 4                                 0.00                NaN  \n",
       " 5                                 0.00                NaN  \n",
       " 6                                 0.00               10.0  \n",
       " 7                                 0.00                NaN  \n",
       " 8                                 0.00                NaN  \n",
       " 9                                 0.00                0.1  \n",
       " 10                                0.01                3.0  \n",
       " 11                                0.46                NaN  \n",
       " 12                                0.58                7.0  \n",
       " 13                                1.48                NaN  \n",
       " 14                                0.83                NaN  \n",
       " 15                                0.32                0.1  \n",
       " 16                                0.02                NaN  \n",
       " 17                                0.00                NaN  \n",
       " 18                                0.00                0.1  \n",
       " 19                                0.00                NaN  \n",
       " 20                                0.00                NaN  \n",
       " 21                                0.00                0.1  \n",
       " 22                                0.00                0.1  \n",
       " 23                                0.00                NaN  \n",
       " 24                                0.00                NaN  \n",
       " 25                                0.00                NaN  ]"
      ]
     },
     "execution_count": 7,
     "metadata": {},
     "output_type": "execute_result"
    }
   ],
   "source": [
    "data = pd.read_html(info.loc[2,'Url'] + date)\n",
    "data  # Show first few data"
   ]
  },
  {
   "cell_type": "code",
   "execution_count": 8,
   "metadata": {
    "scrolled": true
   },
   "outputs": [
    {
     "data": {
      "text/html": [
       "<div>\n",
       "<style scoped>\n",
       "    .dataframe tbody tr th:only-of-type {\n",
       "        vertical-align: middle;\n",
       "    }\n",
       "\n",
       "    .dataframe tbody tr th {\n",
       "        vertical-align: top;\n",
       "    }\n",
       "\n",
       "    .dataframe thead th {\n",
       "        text-align: right;\n",
       "    }\n",
       "</style>\n",
       "<table border=\"1\" class=\"dataframe\">\n",
       "  <thead>\n",
       "    <tr style=\"text-align: right;\">\n",
       "      <th></th>\n",
       "      <th>3</th>\n",
       "      <th>10</th>\n",
       "    </tr>\n",
       "  </thead>\n",
       "  <tbody>\n",
       "    <tr>\n",
       "      <th>2</th>\n",
       "      <td>8.3</td>\n",
       "      <td>0.5</td>\n",
       "    </tr>\n",
       "    <tr>\n",
       "      <th>3</th>\n",
       "      <td>8.2</td>\n",
       "      <td>0.5</td>\n",
       "    </tr>\n",
       "    <tr>\n",
       "      <th>4</th>\n",
       "      <td>8.2</td>\n",
       "      <td>T</td>\n",
       "    </tr>\n",
       "    <tr>\n",
       "      <th>5</th>\n",
       "      <td>8.6</td>\n",
       "      <td>0.5</td>\n",
       "    </tr>\n",
       "    <tr>\n",
       "      <th>6</th>\n",
       "      <td>8.2</td>\n",
       "      <td>T</td>\n",
       "    </tr>\n",
       "    <tr>\n",
       "      <th>7</th>\n",
       "      <td>8.6</td>\n",
       "      <td>T</td>\n",
       "    </tr>\n",
       "    <tr>\n",
       "      <th>8</th>\n",
       "      <td>8.9</td>\n",
       "      <td>0.5</td>\n",
       "    </tr>\n",
       "    <tr>\n",
       "      <th>9</th>\n",
       "      <td>8.9</td>\n",
       "      <td>T</td>\n",
       "    </tr>\n",
       "    <tr>\n",
       "      <th>10</th>\n",
       "      <td>9.0</td>\n",
       "      <td>T</td>\n",
       "    </tr>\n",
       "    <tr>\n",
       "      <th>11</th>\n",
       "      <td>9.8</td>\n",
       "      <td>T</td>\n",
       "    </tr>\n",
       "  </tbody>\n",
       "</table>\n",
       "</div>"
      ],
      "text/plain": [
       "     3    10\n",
       "2   8.3  0.5\n",
       "3   8.2  0.5\n",
       "4   8.2    T\n",
       "5   8.6  0.5\n",
       "6   8.2    T\n",
       "7   8.6    T\n",
       "8   8.9  0.5\n",
       "9   8.9    T\n",
       "10  9.0    T\n",
       "11  9.8    T"
      ]
     },
     "execution_count": 8,
     "metadata": {},
     "output_type": "execute_result"
    }
   ],
   "source": [
    "data = data[1].iloc[2:,[3,10]]\n",
    "data.head(10)"
   ]
  },
  {
   "cell_type": "code",
   "execution_count": 9,
   "metadata": {
    "scrolled": true
   },
   "outputs": [
    {
     "data": {
      "text/plain": [
       "2    8.3\n",
       "3    8.2\n",
       "4    8.2\n",
       "5    8.6\n",
       "6    8.2\n",
       "Name: 3, dtype: float32"
      ]
     },
     "execution_count": 9,
     "metadata": {},
     "output_type": "execute_result"
    }
   ],
   "source": [
    "temp = pd.to_numeric(data[3], errors = 'coerce', downcast = 'float')\n",
    "temp.head()"
   ]
  },
  {
   "cell_type": "code",
   "execution_count": 10,
   "metadata": {},
   "outputs": [
    {
     "data": {
      "text/plain": [
       "9.912499"
      ]
     },
     "execution_count": 10,
     "metadata": {},
     "output_type": "execute_result"
    }
   ],
   "source": [
    "temp.mean()"
   ]
  },
  {
   "cell_type": "code",
   "execution_count": 11,
   "metadata": {},
   "outputs": [
    {
     "data": {
      "text/plain": [
       "2     0.5\n",
       "3     0.5\n",
       "4     NaN\n",
       "5     0.5\n",
       "6     NaN\n",
       "7     NaN\n",
       "8     0.5\n",
       "9     NaN\n",
       "10    NaN\n",
       "11    NaN\n",
       "12    0.0\n",
       "13    0.0\n",
       "14    0.0\n",
       "15    0.0\n",
       "16    0.0\n",
       "17    0.0\n",
       "18    0.5\n",
       "19    0.0\n",
       "20    0.0\n",
       "21    0.5\n",
       "22    0.5\n",
       "23    0.5\n",
       "24    NaN\n",
       "25    NaN\n",
       "Name: 10, dtype: float32"
      ]
     },
     "execution_count": 11,
     "metadata": {},
     "output_type": "execute_result"
    }
   ],
   "source": [
    "temp = pd.to_numeric(data[10], errors = 'coerce', downcast = 'float')\n",
    "temp"
   ]
  },
  {
   "cell_type": "code",
   "execution_count": 12,
   "metadata": {},
   "outputs": [
    {
     "data": {
      "text/plain": [
       "0.25"
      ]
     },
     "execution_count": 12,
     "metadata": {},
     "output_type": "execute_result"
    }
   ],
   "source": [
    "temp.mean()"
   ]
  }
 ],
 "metadata": {
  "kernelspec": {
   "display_name": "Python 3",
   "language": "python",
   "name": "python3"
  },
  "language_info": {
   "codemirror_mode": {
    "name": "ipython",
    "version": 3
   },
   "file_extension": ".py",
   "mimetype": "text/x-python",
   "name": "python",
   "nbconvert_exporter": "python",
   "pygments_lexer": "ipython3",
   "version": "3.5.2"
  },
  "varInspector": {
   "cols": {
    "lenName": 16,
    "lenType": 16,
    "lenVar": 40
   },
   "kernels_config": {
    "python": {
     "delete_cmd_postfix": "",
     "delete_cmd_prefix": "del ",
     "library": "var_list.py",
     "varRefreshCmd": "print(var_dic_list())"
    },
    "r": {
     "delete_cmd_postfix": ") ",
     "delete_cmd_prefix": "rm(",
     "library": "var_list.r",
     "varRefreshCmd": "cat(var_dic_list()) "
    }
   },
   "types_to_exclude": [
    "module",
    "function",
    "builtin_function_or_method",
    "instance",
    "_Feature"
   ],
   "window_display": false
  }
 },
 "nbformat": 4,
 "nbformat_minor": 2
}
