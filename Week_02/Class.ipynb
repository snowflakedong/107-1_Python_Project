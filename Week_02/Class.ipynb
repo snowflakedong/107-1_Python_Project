{
 "cells": [
  {
   "cell_type": "markdown",
   "metadata": {},
   "source": [
    "# Week_2\n",
    "---"
   ]
  },
  {
   "cell_type": "markdown",
   "metadata": {},
   "source": [
    "### Import Librarys and Set Plot "
   ]
  },
  {
   "cell_type": "code",
   "execution_count": 1,
   "metadata": {},
   "outputs": [],
   "source": [
    "import matplotlib.pyplot as plt\n",
    "import pandas as pd\n",
    "import numpy as np\n",
    "from func import *\n",
    "%matplotlib inline"
   ]
  },
  {
   "cell_type": "markdown",
   "metadata": {},
   "source": [
    "---\n",
    "### Search for interested big data information"
   ]
  },
  {
   "cell_type": "code",
   "execution_count": 2,
   "metadata": {
    "scrolled": true
   },
   "outputs": [
    {
     "data": {
      "text/html": [
       "<div>\n",
       "<style scoped>\n",
       "    .dataframe tbody tr th:only-of-type {\n",
       "        vertical-align: middle;\n",
       "    }\n",
       "\n",
       "    .dataframe tbody tr th {\n",
       "        vertical-align: top;\n",
       "    }\n",
       "\n",
       "    .dataframe thead th {\n",
       "        text-align: right;\n",
       "    }\n",
       "</style>\n",
       "<table border=\"1\" class=\"dataframe\">\n",
       "  <thead>\n",
       "    <tr style=\"text-align: right;\">\n",
       "      <th></th>\n",
       "      <th>0</th>\n",
       "      <th>1</th>\n",
       "      <th>2</th>\n",
       "    </tr>\n",
       "  </thead>\n",
       "  <tbody>\n",
       "    <tr>\n",
       "      <th>DateId</th>\n",
       "      <td>20150703</td>\n",
       "      <td>20150703</td>\n",
       "      <td>20150703</td>\n",
       "    </tr>\n",
       "    <tr>\n",
       "      <th>MemberId</th>\n",
       "      <td>1388133</td>\n",
       "      <td>1388133</td>\n",
       "      <td>1388133</td>\n",
       "    </tr>\n",
       "    <tr>\n",
       "      <th>OrderGroupCode</th>\n",
       "      <td>b'\\xd0_\\x8eby\\xe8\\x88\\xa5\\x85\\xe4\\x15\\nMC\\xeaO...</td>\n",
       "      <td>b'\\xd0_\\x8eby\\xe8\\x88\\xa5\\x85\\xe4\\x15\\nMC\\xeaO...</td>\n",
       "      <td>b'\\xd0_\\x8eby\\xe8\\x88\\xa5\\x85\\xe4\\x15\\nMC\\xeaO...</td>\n",
       "    </tr>\n",
       "    <tr>\n",
       "      <th>TrackSourceTypeDef</th>\n",
       "      <td>Web</td>\n",
       "      <td>Web</td>\n",
       "      <td>Web</td>\n",
       "    </tr>\n",
       "    <tr>\n",
       "      <th>TrackDeviceTypeDef</th>\n",
       "      <td>Mobile</td>\n",
       "      <td>Mobile</td>\n",
       "      <td>Mobile</td>\n",
       "    </tr>\n",
       "    <tr>\n",
       "      <th>PayProfileTypeDef</th>\n",
       "      <td>SevenEleven</td>\n",
       "      <td>SevenEleven</td>\n",
       "      <td>SevenEleven</td>\n",
       "    </tr>\n",
       "    <tr>\n",
       "      <th>SalesOrderSlaveId</th>\n",
       "      <td>4457777</td>\n",
       "      <td>4457778</td>\n",
       "      <td>4457779</td>\n",
       "    </tr>\n",
       "    <tr>\n",
       "      <th>SalePageId</th>\n",
       "      <td>1242871</td>\n",
       "      <td>1242880</td>\n",
       "      <td>1242880</td>\n",
       "    </tr>\n",
       "    <tr>\n",
       "      <th>IsMajor</th>\n",
       "      <td>True</td>\n",
       "      <td>True</td>\n",
       "      <td>True</td>\n",
       "    </tr>\n",
       "    <tr>\n",
       "      <th>IsGift</th>\n",
       "      <td>False</td>\n",
       "      <td>False</td>\n",
       "      <td>False</td>\n",
       "    </tr>\n",
       "    <tr>\n",
       "      <th>IsSalePageGift</th>\n",
       "      <td>False</td>\n",
       "      <td>False</td>\n",
       "      <td>False</td>\n",
       "    </tr>\n",
       "    <tr>\n",
       "      <th>Quantity</th>\n",
       "      <td>1</td>\n",
       "      <td>1</td>\n",
       "      <td>1</td>\n",
       "    </tr>\n",
       "    <tr>\n",
       "      <th>UnitPrice</th>\n",
       "      <td>350</td>\n",
       "      <td>199</td>\n",
       "      <td>199</td>\n",
       "    </tr>\n",
       "    <tr>\n",
       "      <th>PromotionDiscount</th>\n",
       "      <td>0</td>\n",
       "      <td>0</td>\n",
       "      <td>0</td>\n",
       "    </tr>\n",
       "    <tr>\n",
       "      <th>ECouponId</th>\n",
       "      <td>0</td>\n",
       "      <td>0</td>\n",
       "      <td>0</td>\n",
       "    </tr>\n",
       "    <tr>\n",
       "      <th>ECouponDiscount</th>\n",
       "      <td>0</td>\n",
       "      <td>0</td>\n",
       "      <td>0</td>\n",
       "    </tr>\n",
       "    <tr>\n",
       "      <th>SalesOrderSlaveTotalPayment</th>\n",
       "      <td>350</td>\n",
       "      <td>199</td>\n",
       "      <td>199</td>\n",
       "    </tr>\n",
       "    <tr>\n",
       "      <th>SalesOrderSlaveDateTime</th>\n",
       "      <td>2015-07-03 07:30:02.007</td>\n",
       "      <td>2015-07-03 07:30:02.023</td>\n",
       "      <td>2015-07-03 07:30:02.040</td>\n",
       "    </tr>\n",
       "    <tr>\n",
       "      <th>SalesOrderReceiverId</th>\n",
       "      <td>1480890</td>\n",
       "      <td>1480890</td>\n",
       "      <td>1480890</td>\n",
       "    </tr>\n",
       "    <tr>\n",
       "      <th>City</th>\n",
       "      <td>嘉義縣</td>\n",
       "      <td>嘉義縣</td>\n",
       "      <td>嘉義縣</td>\n",
       "    </tr>\n",
       "    <tr>\n",
       "      <th>District</th>\n",
       "      <td>水上鄉</td>\n",
       "      <td>水上鄉</td>\n",
       "      <td>水上鄉</td>\n",
       "    </tr>\n",
       "    <tr>\n",
       "      <th>ZipCode</th>\n",
       "      <td>608</td>\n",
       "      <td>608</td>\n",
       "      <td>608</td>\n",
       "    </tr>\n",
       "    <tr>\n",
       "      <th>StoreName</th>\n",
       "      <td>中庄門市</td>\n",
       "      <td>中庄門市</td>\n",
       "      <td>中庄門市</td>\n",
       "    </tr>\n",
       "    <tr>\n",
       "      <th>StoreId</th>\n",
       "      <td>910828</td>\n",
       "      <td>910828</td>\n",
       "      <td>910828</td>\n",
       "    </tr>\n",
       "    <tr>\n",
       "      <th>DeliverTypeDef</th>\n",
       "      <td>SevenEleven</td>\n",
       "      <td>SevenEleven</td>\n",
       "      <td>SevenEleven</td>\n",
       "    </tr>\n",
       "    <tr>\n",
       "      <th>StatusDef</th>\n",
       "      <td>Finish</td>\n",
       "      <td>Finish</td>\n",
       "      <td>Finish</td>\n",
       "    </tr>\n",
       "    <tr>\n",
       "      <th>ReturnGoodsDateId</th>\n",
       "      <td>NaN</td>\n",
       "      <td>NaN</td>\n",
       "      <td>NaN</td>\n",
       "    </tr>\n",
       "    <tr>\n",
       "      <th>CauseDef</th>\n",
       "      <td>NaN</td>\n",
       "      <td>NaN</td>\n",
       "      <td>NaN</td>\n",
       "    </tr>\n",
       "  </tbody>\n",
       "</table>\n",
       "</div>"
      ],
      "text/plain": [
       "                                                                             0  \\\n",
       "DateId                                                                20150703   \n",
       "MemberId                                                               1388133   \n",
       "OrderGroupCode               b'\\xd0_\\x8eby\\xe8\\x88\\xa5\\x85\\xe4\\x15\\nMC\\xeaO...   \n",
       "TrackSourceTypeDef                                                         Web   \n",
       "TrackDeviceTypeDef                                                      Mobile   \n",
       "PayProfileTypeDef                                                  SevenEleven   \n",
       "SalesOrderSlaveId                                                      4457777   \n",
       "SalePageId                                                             1242871   \n",
       "IsMajor                                                                   True   \n",
       "IsGift                                                                   False   \n",
       "IsSalePageGift                                                           False   \n",
       "Quantity                                                                     1   \n",
       "UnitPrice                                                                  350   \n",
       "PromotionDiscount                                                            0   \n",
       "ECouponId                                                                    0   \n",
       "ECouponDiscount                                                              0   \n",
       "SalesOrderSlaveTotalPayment                                                350   \n",
       "SalesOrderSlaveDateTime                                2015-07-03 07:30:02.007   \n",
       "SalesOrderReceiverId                                                   1480890   \n",
       "City                                                                       嘉義縣   \n",
       "District                                                                   水上鄉   \n",
       "ZipCode                                                                    608   \n",
       "StoreName                                                                 中庄門市   \n",
       "StoreId                                                                 910828   \n",
       "DeliverTypeDef                                                     SevenEleven   \n",
       "StatusDef                                                               Finish   \n",
       "ReturnGoodsDateId                                                          NaN   \n",
       "CauseDef                                                                   NaN   \n",
       "\n",
       "                                                                             1  \\\n",
       "DateId                                                                20150703   \n",
       "MemberId                                                               1388133   \n",
       "OrderGroupCode               b'\\xd0_\\x8eby\\xe8\\x88\\xa5\\x85\\xe4\\x15\\nMC\\xeaO...   \n",
       "TrackSourceTypeDef                                                         Web   \n",
       "TrackDeviceTypeDef                                                      Mobile   \n",
       "PayProfileTypeDef                                                  SevenEleven   \n",
       "SalesOrderSlaveId                                                      4457778   \n",
       "SalePageId                                                             1242880   \n",
       "IsMajor                                                                   True   \n",
       "IsGift                                                                   False   \n",
       "IsSalePageGift                                                           False   \n",
       "Quantity                                                                     1   \n",
       "UnitPrice                                                                  199   \n",
       "PromotionDiscount                                                            0   \n",
       "ECouponId                                                                    0   \n",
       "ECouponDiscount                                                              0   \n",
       "SalesOrderSlaveTotalPayment                                                199   \n",
       "SalesOrderSlaveDateTime                                2015-07-03 07:30:02.023   \n",
       "SalesOrderReceiverId                                                   1480890   \n",
       "City                                                                       嘉義縣   \n",
       "District                                                                   水上鄉   \n",
       "ZipCode                                                                    608   \n",
       "StoreName                                                                 中庄門市   \n",
       "StoreId                                                                 910828   \n",
       "DeliverTypeDef                                                     SevenEleven   \n",
       "StatusDef                                                               Finish   \n",
       "ReturnGoodsDateId                                                          NaN   \n",
       "CauseDef                                                                   NaN   \n",
       "\n",
       "                                                                             2  \n",
       "DateId                                                                20150703  \n",
       "MemberId                                                               1388133  \n",
       "OrderGroupCode               b'\\xd0_\\x8eby\\xe8\\x88\\xa5\\x85\\xe4\\x15\\nMC\\xeaO...  \n",
       "TrackSourceTypeDef                                                         Web  \n",
       "TrackDeviceTypeDef                                                      Mobile  \n",
       "PayProfileTypeDef                                                  SevenEleven  \n",
       "SalesOrderSlaveId                                                      4457779  \n",
       "SalePageId                                                             1242880  \n",
       "IsMajor                                                                   True  \n",
       "IsGift                                                                   False  \n",
       "IsSalePageGift                                                           False  \n",
       "Quantity                                                                     1  \n",
       "UnitPrice                                                                  199  \n",
       "PromotionDiscount                                                            0  \n",
       "ECouponId                                                                    0  \n",
       "ECouponDiscount                                                              0  \n",
       "SalesOrderSlaveTotalPayment                                                199  \n",
       "SalesOrderSlaveDateTime                                2015-07-03 07:30:02.040  \n",
       "SalesOrderReceiverId                                                   1480890  \n",
       "City                                                                       嘉義縣  \n",
       "District                                                                   水上鄉  \n",
       "ZipCode                                                                    608  \n",
       "StoreName                                                                 中庄門市  \n",
       "StoreId                                                                 910828  \n",
       "DeliverTypeDef                                                     SevenEleven  \n",
       "StatusDef                                                               Finish  \n",
       "ReturnGoodsDateId                                                          NaN  \n",
       "CauseDef                                                                   NaN  "
      ]
     },
     "execution_count": 2,
     "metadata": {},
     "output_type": "execute_result"
    }
   ],
   "source": [
    "data = pd.read_csv('../../NTU_大數據與商業分析Datasets/Orders.csv', nrows = 3).T\n",
    "data"
   ]
  },
  {
   "cell_type": "markdown",
   "metadata": {},
   "source": [
    "---\n",
    "### Import interested Values"
   ]
  },
  {
   "cell_type": "code",
   "execution_count": 3,
   "metadata": {},
   "outputs": [
    {
     "data": {
      "text/html": [
       "<div>\n",
       "<style scoped>\n",
       "    .dataframe tbody tr th:only-of-type {\n",
       "        vertical-align: middle;\n",
       "    }\n",
       "\n",
       "    .dataframe tbody tr th {\n",
       "        vertical-align: top;\n",
       "    }\n",
       "\n",
       "    .dataframe thead th {\n",
       "        text-align: right;\n",
       "    }\n",
       "</style>\n",
       "<table border=\"1\" class=\"dataframe\">\n",
       "  <thead>\n",
       "    <tr style=\"text-align: right;\">\n",
       "      <th></th>\n",
       "      <th>Date</th>\n",
       "      <th>Payment</th>\n",
       "      <th>City</th>\n",
       "    </tr>\n",
       "  </thead>\n",
       "  <tbody>\n",
       "    <tr>\n",
       "      <th>0</th>\n",
       "      <td>2015-07-03 07:30:02.007</td>\n",
       "      <td>350.0</td>\n",
       "      <td>嘉義縣</td>\n",
       "    </tr>\n",
       "    <tr>\n",
       "      <th>1</th>\n",
       "      <td>2015-07-03 07:30:02.023</td>\n",
       "      <td>199.0</td>\n",
       "      <td>嘉義縣</td>\n",
       "    </tr>\n",
       "    <tr>\n",
       "      <th>2</th>\n",
       "      <td>2015-07-03 07:30:02.040</td>\n",
       "      <td>199.0</td>\n",
       "      <td>嘉義縣</td>\n",
       "    </tr>\n",
       "    <tr>\n",
       "      <th>3</th>\n",
       "      <td>2015-07-03 07:30:02.057</td>\n",
       "      <td>225.0</td>\n",
       "      <td>嘉義縣</td>\n",
       "    </tr>\n",
       "    <tr>\n",
       "      <th>4</th>\n",
       "      <td>2015-07-03 07:33:01.600</td>\n",
       "      <td>100.0</td>\n",
       "      <td>桃園市</td>\n",
       "    </tr>\n",
       "  </tbody>\n",
       "</table>\n",
       "</div>"
      ],
      "text/plain": [
       "                      Date  Payment City\n",
       "0  2015-07-03 07:30:02.007    350.0  嘉義縣\n",
       "1  2015-07-03 07:30:02.023    199.0  嘉義縣\n",
       "2  2015-07-03 07:30:02.040    199.0  嘉義縣\n",
       "3  2015-07-03 07:30:02.057    225.0  嘉義縣\n",
       "4  2015-07-03 07:33:01.600    100.0  桃園市"
      ]
     },
     "execution_count": 3,
     "metadata": {},
     "output_type": "execute_result"
    }
   ],
   "source": [
    "data = pd.read_csv('../../NTU_大數據與商業分析Datasets/Orders.csv', index_col = False, #low_memory=False,\n",
    "                   usecols = ['SalesOrderSlaveDateTime', 'SalesOrderSlaveTotalPayment', 'City'])\\\n",
    "                [['SalesOrderSlaveDateTime', 'SalesOrderSlaveTotalPayment', 'City']]\n",
    "data.columns = ['Date', 'Payment', 'City']\n",
    "data.head()"
   ]
  },
  {
   "cell_type": "markdown",
   "metadata": {},
   "source": [
    "---\n",
    "### Look for Unwanted Values"
   ]
  },
  {
   "cell_type": "code",
   "execution_count": 4,
   "metadata": {},
   "outputs": [
    {
     "data": {
      "text/plain": [
       "array(['嘉義縣', '桃園市', '台南市', '新北市', '新竹市', '台北市', '苗栗縣', '台中市', '高雄市',\n",
       "       '彰化縣', '屏東縣', '新竹縣', '宜蘭縣', '花蓮縣', '雲林縣', '台東縣', '基隆市', '南投縣',\n",
       "       '嘉義市', '台東市', '澎湖縣', '屏東市', 'New', '<fo', 'Kao', 'Kot', 'Tao',\n",
       "       'Hy ', nan, '25 ', 'Keb', '1st', 'Tai', 'Ins', '桃園縣', 'Đại', 'Cha',\n",
       "       'Xin', 'Quậ', 'Nan', 'No.', 'Hsi', 'Daf', 'Aya', 'Jia'],\n",
       "      dtype=object)"
      ]
     },
     "execution_count": 4,
     "metadata": {},
     "output_type": "execute_result"
    }
   ],
   "source": [
    "data.loc[:,'City'].unique()"
   ]
  },
  {
   "cell_type": "markdown",
   "metadata": {},
   "source": [
    "---\n",
    "### Remove Unwanted Values (\\u4e00 ~ \\u9fff : Chinese ASCII)"
   ]
  },
  {
   "cell_type": "code",
   "execution_count": 5,
   "metadata": {},
   "outputs": [
    {
     "data": {
      "text/plain": [
       "array(['嘉義縣', '桃園市', '台南市', '新北市', '新竹市', '台北市', '苗栗縣', '台中市', '高雄市',\n",
       "       '彰化縣', '屏東縣', '新竹縣', '宜蘭縣', '花蓮縣', '雲林縣', '台東縣', '基隆市', '南投縣',\n",
       "       '嘉義市', '台東市', '澎湖縣', '屏東市', '桃園縣'], dtype=object)"
      ]
     },
     "execution_count": 5,
     "metadata": {},
     "output_type": "execute_result"
    }
   ],
   "source": [
    "data = data[('\\u4e00' <= data['City'].str[0]) & (data['City'].str[0] <= '\\u9fff')]\n",
    "data.loc[:,'City'].unique()"
   ]
  },
  {
   "cell_type": "markdown",
   "metadata": {},
   "source": [
    "---\n",
    "### Change City Data"
   ]
  },
  {
   "cell_type": "code",
   "execution_count": 6,
   "metadata": {},
   "outputs": [
    {
     "data": {
      "text/plain": [
       "array(['嘉義縣', '桃園市', '台南市', '新北市', '新竹市', '台北市', '苗栗縣', '台中市', '高雄市',\n",
       "       '彰化縣', '屏東縣', '新竹縣', '宜蘭縣', '花蓮縣', '雲林縣', '台東縣', '基隆市', '南投縣',\n",
       "       '嘉義市', '澎湖縣'], dtype=object)"
      ]
     },
     "execution_count": 6,
     "metadata": {},
     "output_type": "execute_result"
    }
   ],
   "source": [
    "data.loc[:,'City'].replace('桃園縣', '桃園市', inplace = True)\n",
    "data.loc[:,'City'].replace('台北縣', '新北市', inplace = True)\n",
    "data.loc[:,'City'].replace('台東市', '台東縣', inplace = True)\n",
    "data.loc[:,'City'].replace('屏東市', '屏東縣', inplace = True)\n",
    "data.loc[:,'City'].replace('台南縣', '台南市', inplace = True)\n",
    "data.loc[:,'City'].unique()"
   ]
  },
  {
   "cell_type": "markdown",
   "metadata": {},
   "source": [
    "---\n",
    "### Add Date Columns for Web Crawler"
   ]
  },
  {
   "cell_type": "code",
   "execution_count": 7,
   "metadata": {},
   "outputs": [
    {
     "data": {
      "text/html": [
       "<div>\n",
       "<style scoped>\n",
       "    .dataframe tbody tr th:only-of-type {\n",
       "        vertical-align: middle;\n",
       "    }\n",
       "\n",
       "    .dataframe tbody tr th {\n",
       "        vertical-align: top;\n",
       "    }\n",
       "\n",
       "    .dataframe thead th {\n",
       "        text-align: right;\n",
       "    }\n",
       "</style>\n",
       "<table border=\"1\" class=\"dataframe\">\n",
       "  <thead>\n",
       "    <tr style=\"text-align: right;\">\n",
       "      <th></th>\n",
       "      <th>Date</th>\n",
       "      <th>Year</th>\n",
       "      <th>Month</th>\n",
       "      <th>Day</th>\n",
       "      <th>Payment</th>\n",
       "      <th>City</th>\n",
       "    </tr>\n",
       "  </thead>\n",
       "  <tbody>\n",
       "    <tr>\n",
       "      <th>0</th>\n",
       "      <td>2015-07-03 07:30:02.007</td>\n",
       "      <td>2015</td>\n",
       "      <td>7</td>\n",
       "      <td>3</td>\n",
       "      <td>350.0</td>\n",
       "      <td>嘉義縣</td>\n",
       "    </tr>\n",
       "    <tr>\n",
       "      <th>1</th>\n",
       "      <td>2015-07-03 07:30:02.023</td>\n",
       "      <td>2015</td>\n",
       "      <td>7</td>\n",
       "      <td>3</td>\n",
       "      <td>199.0</td>\n",
       "      <td>嘉義縣</td>\n",
       "    </tr>\n",
       "    <tr>\n",
       "      <th>2</th>\n",
       "      <td>2015-07-03 07:30:02.040</td>\n",
       "      <td>2015</td>\n",
       "      <td>7</td>\n",
       "      <td>3</td>\n",
       "      <td>199.0</td>\n",
       "      <td>嘉義縣</td>\n",
       "    </tr>\n",
       "    <tr>\n",
       "      <th>3</th>\n",
       "      <td>2015-07-03 07:30:02.057</td>\n",
       "      <td>2015</td>\n",
       "      <td>7</td>\n",
       "      <td>3</td>\n",
       "      <td>225.0</td>\n",
       "      <td>嘉義縣</td>\n",
       "    </tr>\n",
       "    <tr>\n",
       "      <th>4</th>\n",
       "      <td>2015-07-03 07:33:01.600</td>\n",
       "      <td>2015</td>\n",
       "      <td>7</td>\n",
       "      <td>3</td>\n",
       "      <td>100.0</td>\n",
       "      <td>桃園市</td>\n",
       "    </tr>\n",
       "  </tbody>\n",
       "</table>\n",
       "</div>"
      ],
      "text/plain": [
       "                      Date  Year Month Day  Payment City\n",
       "0  2015-07-03 07:30:02.007  2015     7   3    350.0  嘉義縣\n",
       "1  2015-07-03 07:30:02.023  2015     7   3    199.0  嘉義縣\n",
       "2  2015-07-03 07:30:02.040  2015     7   3    199.0  嘉義縣\n",
       "3  2015-07-03 07:30:02.057  2015     7   3    225.0  嘉義縣\n",
       "4  2015-07-03 07:33:01.600  2015     7   3    100.0  桃園市"
      ]
     },
     "execution_count": 7,
     "metadata": {},
     "output_type": "execute_result"
    }
   ],
   "source": [
    "data.insert(1, 'Year', pd.DatetimeIndex(data['Date']).year.astype('str'))\n",
    "data.insert(2, 'Month', pd.DatetimeIndex(data['Date']).month.astype('str'))\n",
    "data.insert(3, 'Day', pd.DatetimeIndex(data['Date']).day.astype('str'))\n",
    "data.head()"
   ]
  },
  {
   "cell_type": "markdown",
   "metadata": {},
   "source": [
    "---\n",
    "### Select Wanted City\n",
    "* 新竹市 has the least stations (only two) but it costs about 10 mins to catch data"
   ]
  },
  {
   "cell_type": "code",
   "execution_count": 8,
   "metadata": {
    "scrolled": true
   },
   "outputs": [
    {
     "data": {
      "text/html": [
       "<div>\n",
       "<style scoped>\n",
       "    .dataframe tbody tr th:only-of-type {\n",
       "        vertical-align: middle;\n",
       "    }\n",
       "\n",
       "    .dataframe tbody tr th {\n",
       "        vertical-align: top;\n",
       "    }\n",
       "\n",
       "    .dataframe thead th {\n",
       "        text-align: right;\n",
       "    }\n",
       "</style>\n",
       "<table border=\"1\" class=\"dataframe\">\n",
       "  <thead>\n",
       "    <tr style=\"text-align: right;\">\n",
       "      <th></th>\n",
       "      <th></th>\n",
       "      <th></th>\n",
       "      <th></th>\n",
       "      <th>Payment</th>\n",
       "    </tr>\n",
       "    <tr>\n",
       "      <th>City</th>\n",
       "      <th>Year</th>\n",
       "      <th>Month</th>\n",
       "      <th>Day</th>\n",
       "      <th></th>\n",
       "    </tr>\n",
       "  </thead>\n",
       "  <tbody>\n",
       "    <tr>\n",
       "      <th rowspan=\"5\" valign=\"top\">新竹市</th>\n",
       "      <th rowspan=\"5\" valign=\"top\">2015</th>\n",
       "      <th rowspan=\"5\" valign=\"top\">10</th>\n",
       "      <th>1</th>\n",
       "      <td>36264.0</td>\n",
       "    </tr>\n",
       "    <tr>\n",
       "      <th>10</th>\n",
       "      <td>26858.0</td>\n",
       "    </tr>\n",
       "    <tr>\n",
       "      <th>11</th>\n",
       "      <td>44666.0</td>\n",
       "    </tr>\n",
       "    <tr>\n",
       "      <th>12</th>\n",
       "      <td>51533.0</td>\n",
       "    </tr>\n",
       "    <tr>\n",
       "      <th>13</th>\n",
       "      <td>27453.0</td>\n",
       "    </tr>\n",
       "  </tbody>\n",
       "</table>\n",
       "</div>"
      ],
      "text/plain": [
       "                     Payment\n",
       "City Year Month Day         \n",
       "新竹市  2015 10    1    36264.0\n",
       "                10   26858.0\n",
       "                11   44666.0\n",
       "                12   51533.0\n",
       "                13   27453.0"
      ]
     },
     "execution_count": 8,
     "metadata": {},
     "output_type": "execute_result"
    }
   ],
   "source": [
    "Hsinchu = data[data['City']=='新竹市']\n",
    "group = Hsinchu.groupby(['City', 'Year', 'Month', 'Day']).sum()\n",
    "group.head()"
   ]
  },
  {
   "cell_type": "markdown",
   "metadata": {},
   "source": [
    "---\n",
    "### Import station info for web crawler"
   ]
  },
  {
   "cell_type": "code",
   "execution_count": 9,
   "metadata": {},
   "outputs": [
    {
     "data": {
      "text/html": [
       "<div>\n",
       "<style scoped>\n",
       "    .dataframe tbody tr th:only-of-type {\n",
       "        vertical-align: middle;\n",
       "    }\n",
       "\n",
       "    .dataframe tbody tr th {\n",
       "        vertical-align: top;\n",
       "    }\n",
       "\n",
       "    .dataframe thead th {\n",
       "        text-align: right;\n",
       "    }\n",
       "</style>\n",
       "<table border=\"1\" class=\"dataframe\">\n",
       "  <thead>\n",
       "    <tr style=\"text-align: right;\">\n",
       "      <th></th>\n",
       "      <th>Chinese</th>\n",
       "      <th>City</th>\n",
       "      <th>English</th>\n",
       "      <th>Url</th>\n",
       "    </tr>\n",
       "  </thead>\n",
       "  <tbody>\n",
       "    <tr>\n",
       "      <th>0</th>\n",
       "      <td>板橋</td>\n",
       "      <td>新北市</td>\n",
       "      <td>BANQIAO</td>\n",
       "      <td>https://e-service.cwb.gov.tw/HistoryDataQuery/...</td>\n",
       "    </tr>\n",
       "    <tr>\n",
       "      <th>1</th>\n",
       "      <td>淡水</td>\n",
       "      <td>新北市</td>\n",
       "      <td>TAMSUI</td>\n",
       "      <td>https://e-service.cwb.gov.tw/HistoryDataQuery/...</td>\n",
       "    </tr>\n",
       "    <tr>\n",
       "      <th>2</th>\n",
       "      <td>鞍部</td>\n",
       "      <td>臺北市</td>\n",
       "      <td>ANBU</td>\n",
       "      <td>https://e-service.cwb.gov.tw/HistoryDataQuery/...</td>\n",
       "    </tr>\n",
       "    <tr>\n",
       "      <th>3</th>\n",
       "      <td>臺北</td>\n",
       "      <td>臺北市</td>\n",
       "      <td>TAIPEI</td>\n",
       "      <td>https://e-service.cwb.gov.tw/HistoryDataQuery/...</td>\n",
       "    </tr>\n",
       "    <tr>\n",
       "      <th>4</th>\n",
       "      <td>竹子湖</td>\n",
       "      <td>臺北市</td>\n",
       "      <td>ZHUZIHU</td>\n",
       "      <td>https://e-service.cwb.gov.tw/HistoryDataQuery/...</td>\n",
       "    </tr>\n",
       "  </tbody>\n",
       "</table>\n",
       "</div>"
      ],
      "text/plain": [
       "  Chinese City  English                                                Url\n",
       "0      板橋  新北市  BANQIAO  https://e-service.cwb.gov.tw/HistoryDataQuery/...\n",
       "1      淡水  新北市   TAMSUI  https://e-service.cwb.gov.tw/HistoryDataQuery/...\n",
       "2      鞍部  臺北市     ANBU  https://e-service.cwb.gov.tw/HistoryDataQuery/...\n",
       "3      臺北  臺北市   TAIPEI  https://e-service.cwb.gov.tw/HistoryDataQuery/...\n",
       "4     竹子湖  臺北市  ZHUZIHU  https://e-service.cwb.gov.tw/HistoryDataQuery/..."
      ]
     },
     "execution_count": 9,
     "metadata": {},
     "output_type": "execute_result"
    }
   ],
   "source": [
    "station_info = getUrls()\n",
    "station_info.head()"
   ]
  },
  {
   "cell_type": "markdown",
   "metadata": {},
   "source": [
    "---\n",
    "### Start web crawler and calcuate time spend"
   ]
  },
  {
   "cell_type": "code",
   "execution_count": 10,
   "metadata": {},
   "outputs": [
    {
     "name": "stdout",
     "output_type": "stream",
     "text": [
      "Elapsed time: 11 (min) 41.8 (sec)\n"
     ]
    }
   ],
   "source": [
    "Temperature = []\n",
    "Precipitation = []\n",
    "\n",
    "tStart = time.time()\n",
    "for i in range(len(group)):\n",
    "    info = group.iloc[i].name\n",
    "    temp = getClimate(info[0], info[1] + '-' + info[2].zfill(2) + '-' + info[3].zfill(2), station_info)\n",
    "    Temperature.append(temp[0])\n",
    "    Precipitation.append(temp[1])\n",
    "tEnd = time.time()\n",
    "print('Elapsed time: %d (min) %.1f (sec)' % ((tEnd - tStart)/60, (tEnd - tStart)%60,))"
   ]
  },
  {
   "cell_type": "code",
   "execution_count": 11,
   "metadata": {},
   "outputs": [
    {
     "data": {
      "text/plain": [
       "[27.413858, 23.693748, 21.770834, 22.545834, 22.5625]"
      ]
     },
     "execution_count": 11,
     "metadata": {},
     "output_type": "execute_result"
    }
   ],
   "source": [
    "Temperature[0:5]  # Show first few elements"
   ]
  },
  {
   "cell_type": "code",
   "execution_count": 12,
   "metadata": {},
   "outputs": [
    {
     "data": {
      "text/plain": [
       "[0.0, 0.0, 0.0, 0.0, 0.0]"
      ]
     },
     "execution_count": 12,
     "metadata": {},
     "output_type": "execute_result"
    }
   ],
   "source": [
    "Precipitation[0:5] # Show first few elements"
   ]
  },
  {
   "cell_type": "markdown",
   "metadata": {},
   "source": [
    "---\n",
    "### Total Payment v.s. Temperature\n",
    "* 越熱越容易上網買東西\n",
    "  * 大約在 22 度附近所花費的金額最高\n",
    "  * 溫度越高越多人購買東西（大概 29 度點最密集）"
   ]
  },
  {
   "cell_type": "code",
   "execution_count": 13,
   "metadata": {},
   "outputs": [
    {
     "data": {
      "text/plain": [
       "Text(0,0.5,'Total Payment ($)')"
      ]
     },
     "execution_count": 13,
     "metadata": {},
     "output_type": "execute_result"
    },
    {
     "data": {
      "image/png": "[encoded data removed]",
      "text/plain": [
       "<Figure size 432x288 with 1 Axes>"
      ]
     },
     "metadata": {
      "needs_background": "light"
     },
     "output_type": "display_data"
    }
   ],
   "source": [
    "plt.plot(Temperature, group.Payment, '.')\n",
    "plt.xlabel('Temperature (C)')\n",
    "plt.ylabel('Total Payment ($)')"
   ]
  },
  {
   "cell_type": "markdown",
   "metadata": {},
   "source": [
    "### Total Payment v.s. Precipitation\n",
    "* 沒有下雨時比較多人買東西"
   ]
  },
  {
   "cell_type": "code",
   "execution_count": 14,
   "metadata": {},
   "outputs": [
    {
     "data": {
      "text/plain": [
       "Text(0,0.5,'Total Payment ($)')"
      ]
     },
     "execution_count": 14,
     "metadata": {},
     "output_type": "execute_result"
    },
    {
     "data": {
      "image/png": "[encoded data removed]",
      "text/plain": [
       "<Figure size 432x288 with 1 Axes>"
      ]
     },
     "metadata": {
      "needs_background": "light"
     },
     "output_type": "display_data"
    }
   ],
   "source": [
    "plt.plot(Precipitation, group.Payment, '.')\n",
    "plt.xlabel('Precipitation (mm)')\n",
    "plt.ylabel('Total Payment ($)')"
   ]
  },
  {
   "cell_type": "markdown",
   "metadata": {},
   "source": [
    "###  Precipitation v.s. Temperature\n",
    "* 新竹的平均溫差滿大的\n",
    "* 新竹不怎麼下雨"
   ]
  },
  {
   "cell_type": "code",
   "execution_count": 15,
   "metadata": {},
   "outputs": [
    {
     "data": {
      "text/plain": [
       "Text(0,0.5,'Precipitation (mm)')"
      ]
     },
     "execution_count": 15,
     "metadata": {},
     "output_type": "execute_result"
    },
    {
     "data": {
      "image/png": "[encoded data removed]",
      "text/plain": [
       "<Figure size 432x288 with 1 Axes>"
      ]
     },
     "metadata": {
      "needs_background": "light"
     },
     "output_type": "display_data"
    }
   ],
   "source": [
    "plt.plot(Temperature, Precipitation, '.')\n",
    "plt.xlabel('Temperature (C)')\n",
    "plt.ylabel('Precipitation (mm)')"
   ]
  }
 ],
 "metadata": {
  "kernelspec": {
   "display_name": "Python 3",
   "language": "python",
   "name": "python3"
  },
  "language_info": {
   "codemirror_mode": {
    "name": "ipython",
    "version": 3
   },
   "file_extension": ".py",
   "mimetype": "text/x-python",
   "name": "python",
   "nbconvert_exporter": "python",
   "pygments_lexer": "ipython3",
   "version": "3.5.2"
  },
  "varInspector": {
   "cols": {
    "lenName": 16,
    "lenType": 16,
    "lenVar": 40
   },
   "kernels_config": {
    "python": {
     "delete_cmd_postfix": "",
     "delete_cmd_prefix": "del ",
     "library": "var_list.py",
     "varRefreshCmd": "print(var_dic_list())"
    },
    "r": {
     "delete_cmd_postfix": ") ",
     "delete_cmd_prefix": "rm(",
     "library": "var_list.r",
     "varRefreshCmd": "cat(var_dic_list()) "
    }
   },
   "types_to_exclude": [
    "module",
    "function",
    "builtin_function_or_method",
    "instance",
    "_Feature"
   ],
   "window_display": false
  }
 },
 "nbformat": 4,
 "nbformat_minor": 2
}
