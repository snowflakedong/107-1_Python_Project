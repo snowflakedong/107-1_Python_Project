{
 "cells": [
  {
   "cell_type": "markdown",
   "metadata": {},
   "source": [
    "# Week_3\n",
    "### 將資料分組後做視覺化分析\n",
    "1. 取出需要的資料並對資料進行分類處理\n",
    "2. 將資料依照時間作圖判斷資料趨勢"
   ]
  },
  {
   "cell_type": "markdown",
   "metadata": {},
   "source": [
    "##### 匯入需要的函式庫"
   ]
  },
  {
   "cell_type": "code",
   "execution_count": 1,
   "metadata": {},
   "outputs": [],
   "source": [
    "#import matplotlib.pyplot as plt\n",
    "#import seaborn as sns\n",
    "import pandas as pd\n",
    "import numpy as np\n",
    "from func import *\n",
    "%matplotlib inline"
   ]
  },
  {
   "cell_type": "markdown",
   "metadata": {},
   "source": [
    "##### 觀察資料，尋找需要的資料"
   ]
  },
  {
   "cell_type": "code",
   "execution_count": 2,
   "metadata": {
    "scrolled": true
   },
   "outputs": [
    {
     "data": {
      "text/html": [
       "<div>\n",
       "<style scoped>\n",
       "    .dataframe tbody tr th:only-of-type {\n",
       "        vertical-align: middle;\n",
       "    }\n",
       "\n",
       "    .dataframe tbody tr th {\n",
       "        vertical-align: top;\n",
       "    }\n",
       "\n",
       "    .dataframe thead th {\n",
       "        text-align: right;\n",
       "    }\n",
       "</style>\n",
       "<table border=\"1\" class=\"dataframe\">\n",
       "  <thead>\n",
       "    <tr style=\"text-align: right;\">\n",
       "      <th></th>\n",
       "      <th>0</th>\n",
       "      <th>1</th>\n",
       "    </tr>\n",
       "  </thead>\n",
       "  <tbody>\n",
       "    <tr>\n",
       "      <th>DateId</th>\n",
       "      <td>20150703</td>\n",
       "      <td>20150703</td>\n",
       "    </tr>\n",
       "    <tr>\n",
       "      <th>MemberId</th>\n",
       "      <td>1388133</td>\n",
       "      <td>1388133</td>\n",
       "    </tr>\n",
       "    <tr>\n",
       "      <th>OrderGroupCode</th>\n",
       "      <td>b'\\xd0_\\x8eby\\xe8\\x88\\xa5\\x85\\xe4\\x15\\nMC\\xeaO...</td>\n",
       "      <td>b'\\xd0_\\x8eby\\xe8\\x88\\xa5\\x85\\xe4\\x15\\nMC\\xeaO...</td>\n",
       "    </tr>\n",
       "    <tr>\n",
       "      <th>TrackSourceTypeDef</th>\n",
       "      <td>Web</td>\n",
       "      <td>Web</td>\n",
       "    </tr>\n",
       "    <tr>\n",
       "      <th>TrackDeviceTypeDef</th>\n",
       "      <td>Mobile</td>\n",
       "      <td>Mobile</td>\n",
       "    </tr>\n",
       "    <tr>\n",
       "      <th>PayProfileTypeDef</th>\n",
       "      <td>SevenEleven</td>\n",
       "      <td>SevenEleven</td>\n",
       "    </tr>\n",
       "    <tr>\n",
       "      <th>SalesOrderSlaveId</th>\n",
       "      <td>4457777</td>\n",
       "      <td>4457778</td>\n",
       "    </tr>\n",
       "    <tr>\n",
       "      <th>SalePageId</th>\n",
       "      <td>1242871</td>\n",
       "      <td>1242880</td>\n",
       "    </tr>\n",
       "    <tr>\n",
       "      <th>IsMajor</th>\n",
       "      <td>True</td>\n",
       "      <td>True</td>\n",
       "    </tr>\n",
       "    <tr>\n",
       "      <th>IsGift</th>\n",
       "      <td>False</td>\n",
       "      <td>False</td>\n",
       "    </tr>\n",
       "    <tr>\n",
       "      <th>IsSalePageGift</th>\n",
       "      <td>False</td>\n",
       "      <td>False</td>\n",
       "    </tr>\n",
       "    <tr>\n",
       "      <th>Quantity</th>\n",
       "      <td>1</td>\n",
       "      <td>1</td>\n",
       "    </tr>\n",
       "    <tr>\n",
       "      <th>UnitPrice</th>\n",
       "      <td>350</td>\n",
       "      <td>199</td>\n",
       "    </tr>\n",
       "    <tr>\n",
       "      <th>PromotionDiscount</th>\n",
       "      <td>0</td>\n",
       "      <td>0</td>\n",
       "    </tr>\n",
       "    <tr>\n",
       "      <th>ECouponId</th>\n",
       "      <td>0</td>\n",
       "      <td>0</td>\n",
       "    </tr>\n",
       "    <tr>\n",
       "      <th>ECouponDiscount</th>\n",
       "      <td>0</td>\n",
       "      <td>0</td>\n",
       "    </tr>\n",
       "    <tr>\n",
       "      <th>SalesOrderSlaveTotalPayment</th>\n",
       "      <td>350</td>\n",
       "      <td>199</td>\n",
       "    </tr>\n",
       "    <tr>\n",
       "      <th>SalesOrderSlaveDateTime</th>\n",
       "      <td>2015-07-03 07:30:02.007</td>\n",
       "      <td>2015-07-03 07:30:02.023</td>\n",
       "    </tr>\n",
       "    <tr>\n",
       "      <th>SalesOrderReceiverId</th>\n",
       "      <td>1480890</td>\n",
       "      <td>1480890</td>\n",
       "    </tr>\n",
       "    <tr>\n",
       "      <th>City</th>\n",
       "      <td>嘉義縣</td>\n",
       "      <td>嘉義縣</td>\n",
       "    </tr>\n",
       "    <tr>\n",
       "      <th>District</th>\n",
       "      <td>水上鄉</td>\n",
       "      <td>水上鄉</td>\n",
       "    </tr>\n",
       "    <tr>\n",
       "      <th>ZipCode</th>\n",
       "      <td>608</td>\n",
       "      <td>608</td>\n",
       "    </tr>\n",
       "    <tr>\n",
       "      <th>StoreName</th>\n",
       "      <td>中庄門市</td>\n",
       "      <td>中庄門市</td>\n",
       "    </tr>\n",
       "    <tr>\n",
       "      <th>StoreId</th>\n",
       "      <td>910828</td>\n",
       "      <td>910828</td>\n",
       "    </tr>\n",
       "    <tr>\n",
       "      <th>DeliverTypeDef</th>\n",
       "      <td>SevenEleven</td>\n",
       "      <td>SevenEleven</td>\n",
       "    </tr>\n",
       "    <tr>\n",
       "      <th>StatusDef</th>\n",
       "      <td>Finish</td>\n",
       "      <td>Finish</td>\n",
       "    </tr>\n",
       "    <tr>\n",
       "      <th>ReturnGoodsDateId</th>\n",
       "      <td>NaN</td>\n",
       "      <td>NaN</td>\n",
       "    </tr>\n",
       "    <tr>\n",
       "      <th>CauseDef</th>\n",
       "      <td>NaN</td>\n",
       "      <td>NaN</td>\n",
       "    </tr>\n",
       "  </tbody>\n",
       "</table>\n",
       "</div>"
      ],
      "text/plain": [
       "                                                                             0  \\\n",
       "DateId                                                                20150703   \n",
       "MemberId                                                               1388133   \n",
       "OrderGroupCode               b'\\xd0_\\x8eby\\xe8\\x88\\xa5\\x85\\xe4\\x15\\nMC\\xeaO...   \n",
       "TrackSourceTypeDef                                                         Web   \n",
       "TrackDeviceTypeDef                                                      Mobile   \n",
       "PayProfileTypeDef                                                  SevenEleven   \n",
       "SalesOrderSlaveId                                                      4457777   \n",
       "SalePageId                                                             1242871   \n",
       "IsMajor                                                                   True   \n",
       "IsGift                                                                   False   \n",
       "IsSalePageGift                                                           False   \n",
       "Quantity                                                                     1   \n",
       "UnitPrice                                                                  350   \n",
       "PromotionDiscount                                                            0   \n",
       "ECouponId                                                                    0   \n",
       "ECouponDiscount                                                              0   \n",
       "SalesOrderSlaveTotalPayment                                                350   \n",
       "SalesOrderSlaveDateTime                                2015-07-03 07:30:02.007   \n",
       "SalesOrderReceiverId                                                   1480890   \n",
       "City                                                                       嘉義縣   \n",
       "District                                                                   水上鄉   \n",
       "ZipCode                                                                    608   \n",
       "StoreName                                                                 中庄門市   \n",
       "StoreId                                                                 910828   \n",
       "DeliverTypeDef                                                     SevenEleven   \n",
       "StatusDef                                                               Finish   \n",
       "ReturnGoodsDateId                                                          NaN   \n",
       "CauseDef                                                                   NaN   \n",
       "\n",
       "                                                                             1  \n",
       "DateId                                                                20150703  \n",
       "MemberId                                                               1388133  \n",
       "OrderGroupCode               b'\\xd0_\\x8eby\\xe8\\x88\\xa5\\x85\\xe4\\x15\\nMC\\xeaO...  \n",
       "TrackSourceTypeDef                                                         Web  \n",
       "TrackDeviceTypeDef                                                      Mobile  \n",
       "PayProfileTypeDef                                                  SevenEleven  \n",
       "SalesOrderSlaveId                                                      4457778  \n",
       "SalePageId                                                             1242880  \n",
       "IsMajor                                                                   True  \n",
       "IsGift                                                                   False  \n",
       "IsSalePageGift                                                           False  \n",
       "Quantity                                                                     1  \n",
       "UnitPrice                                                                  199  \n",
       "PromotionDiscount                                                            0  \n",
       "ECouponId                                                                    0  \n",
       "ECouponDiscount                                                              0  \n",
       "SalesOrderSlaveTotalPayment                                                199  \n",
       "SalesOrderSlaveDateTime                                2015-07-03 07:30:02.023  \n",
       "SalesOrderReceiverId                                                   1480890  \n",
       "City                                                                       嘉義縣  \n",
       "District                                                                   水上鄉  \n",
       "ZipCode                                                                    608  \n",
       "StoreName                                                                 中庄門市  \n",
       "StoreId                                                                 910828  \n",
       "DeliverTypeDef                                                     SevenEleven  \n",
       "StatusDef                                                               Finish  \n",
       "ReturnGoodsDateId                                                          NaN  \n",
       "CauseDef                                                                   NaN  "
      ]
     },
     "execution_count": 2,
     "metadata": {},
     "output_type": "execute_result"
    }
   ],
   "source": [
    "data = pd.read_csv(r'../../NTU_大數據與商業分析Datasets/Orders.csv', nrows = 2).T\n",
    "data"
   ]
  },
  {
   "cell_type": "markdown",
   "metadata": {},
   "source": [
    "##### 匯入需要的資料群"
   ]
  },
  {
   "cell_type": "code",
   "execution_count": 3,
   "metadata": {
    "scrolled": true
   },
   "outputs": [
    {
     "data": {
      "text/html": [
       "<div>\n",
       "<style scoped>\n",
       "    .dataframe tbody tr th:only-of-type {\n",
       "        vertical-align: middle;\n",
       "    }\n",
       "\n",
       "    .dataframe tbody tr th {\n",
       "        vertical-align: top;\n",
       "    }\n",
       "\n",
       "    .dataframe thead th {\n",
       "        text-align: right;\n",
       "    }\n",
       "</style>\n",
       "<table border=\"1\" class=\"dataframe\">\n",
       "  <thead>\n",
       "    <tr style=\"text-align: right;\">\n",
       "      <th></th>\n",
       "      <th>DateId</th>\n",
       "      <th>MemberId</th>\n",
       "      <th>IsMajor</th>\n",
       "      <th>PromotionDiscount</th>\n",
       "      <th>ECouponDiscount</th>\n",
       "      <th>SalesOrderSlaveTotalPayment</th>\n",
       "      <th>ReturnGoodsDateId</th>\n",
       "    </tr>\n",
       "  </thead>\n",
       "  <tbody>\n",
       "    <tr>\n",
       "      <th>0</th>\n",
       "      <td>20150703</td>\n",
       "      <td>1388133</td>\n",
       "      <td>True</td>\n",
       "      <td>0.0</td>\n",
       "      <td>0.0</td>\n",
       "      <td>350.0</td>\n",
       "      <td>NaN</td>\n",
       "    </tr>\n",
       "    <tr>\n",
       "      <th>1</th>\n",
       "      <td>20150703</td>\n",
       "      <td>1388133</td>\n",
       "      <td>True</td>\n",
       "      <td>0.0</td>\n",
       "      <td>0.0</td>\n",
       "      <td>199.0</td>\n",
       "      <td>NaN</td>\n",
       "    </tr>\n",
       "    <tr>\n",
       "      <th>2</th>\n",
       "      <td>20150703</td>\n",
       "      <td>1388133</td>\n",
       "      <td>True</td>\n",
       "      <td>0.0</td>\n",
       "      <td>0.0</td>\n",
       "      <td>199.0</td>\n",
       "      <td>NaN</td>\n",
       "    </tr>\n",
       "    <tr>\n",
       "      <th>3</th>\n",
       "      <td>20150703</td>\n",
       "      <td>1388133</td>\n",
       "      <td>True</td>\n",
       "      <td>0.0</td>\n",
       "      <td>0.0</td>\n",
       "      <td>225.0</td>\n",
       "      <td>NaN</td>\n",
       "    </tr>\n",
       "    <tr>\n",
       "      <th>4</th>\n",
       "      <td>20150703</td>\n",
       "      <td>365787</td>\n",
       "      <td>True</td>\n",
       "      <td>0.0</td>\n",
       "      <td>0.0</td>\n",
       "      <td>100.0</td>\n",
       "      <td>NaN</td>\n",
       "    </tr>\n",
       "  </tbody>\n",
       "</table>\n",
       "</div>"
      ],
      "text/plain": [
       "     DateId  MemberId  IsMajor  PromotionDiscount  ECouponDiscount  \\\n",
       "0  20150703   1388133     True                0.0              0.0   \n",
       "1  20150703   1388133     True                0.0              0.0   \n",
       "2  20150703   1388133     True                0.0              0.0   \n",
       "3  20150703   1388133     True                0.0              0.0   \n",
       "4  20150703    365787     True                0.0              0.0   \n",
       "\n",
       "   SalesOrderSlaveTotalPayment  ReturnGoodsDateId  \n",
       "0                        350.0                NaN  \n",
       "1                        199.0                NaN  \n",
       "2                        199.0                NaN  \n",
       "3                        225.0                NaN  \n",
       "4                        100.0                NaN  "
      ]
     },
     "execution_count": 3,
     "metadata": {},
     "output_type": "execute_result"
    }
   ],
   "source": [
    "data = pd.read_csv('../../NTU_大數據與商業分析Datasets/Orders.csv', index_col = False, \n",
    "                   usecols = ['DateId', 'MemberId', 'IsMajor', 'PromotionDiscount', 'ECouponDiscount', 'SalesOrderSlaveTotalPayment', 'ReturnGoodsDateId'])\n",
    "data.head()"
   ]
  },
  {
   "cell_type": "markdown",
   "metadata": {},
   "source": [
    "##### 資料預處理\n",
    "* 除去退貨、非主件(贈品、送禮等)資料"
   ]
  },
  {
   "cell_type": "code",
   "execution_count": 4,
   "metadata": {},
   "outputs": [
    {
     "data": {
      "text/html": [
       "<div>\n",
       "<style scoped>\n",
       "    .dataframe tbody tr th:only-of-type {\n",
       "        vertical-align: middle;\n",
       "    }\n",
       "\n",
       "    .dataframe tbody tr th {\n",
       "        vertical-align: top;\n",
       "    }\n",
       "\n",
       "    .dataframe thead th {\n",
       "        text-align: right;\n",
       "    }\n",
       "</style>\n",
       "<table border=\"1\" class=\"dataframe\">\n",
       "  <thead>\n",
       "    <tr style=\"text-align: right;\">\n",
       "      <th></th>\n",
       "      <th>DateId</th>\n",
       "      <th>MemberId</th>\n",
       "      <th>IsMajor</th>\n",
       "      <th>PromotionDiscount</th>\n",
       "      <th>ECouponDiscount</th>\n",
       "      <th>SalesOrderSlaveTotalPayment</th>\n",
       "      <th>ReturnGoodsDateId</th>\n",
       "    </tr>\n",
       "  </thead>\n",
       "  <tbody>\n",
       "    <tr>\n",
       "      <th>0</th>\n",
       "      <td>20150703</td>\n",
       "      <td>1388133</td>\n",
       "      <td>True</td>\n",
       "      <td>0.0</td>\n",
       "      <td>0.0</td>\n",
       "      <td>350.0</td>\n",
       "      <td>NaN</td>\n",
       "    </tr>\n",
       "    <tr>\n",
       "      <th>1</th>\n",
       "      <td>20150703</td>\n",
       "      <td>1388133</td>\n",
       "      <td>True</td>\n",
       "      <td>0.0</td>\n",
       "      <td>0.0</td>\n",
       "      <td>199.0</td>\n",
       "      <td>NaN</td>\n",
       "    </tr>\n",
       "    <tr>\n",
       "      <th>2</th>\n",
       "      <td>20150703</td>\n",
       "      <td>1388133</td>\n",
       "      <td>True</td>\n",
       "      <td>0.0</td>\n",
       "      <td>0.0</td>\n",
       "      <td>199.0</td>\n",
       "      <td>NaN</td>\n",
       "    </tr>\n",
       "    <tr>\n",
       "      <th>3</th>\n",
       "      <td>20150703</td>\n",
       "      <td>1388133</td>\n",
       "      <td>True</td>\n",
       "      <td>0.0</td>\n",
       "      <td>0.0</td>\n",
       "      <td>225.0</td>\n",
       "      <td>NaN</td>\n",
       "    </tr>\n",
       "    <tr>\n",
       "      <th>4</th>\n",
       "      <td>20150703</td>\n",
       "      <td>365787</td>\n",
       "      <td>True</td>\n",
       "      <td>0.0</td>\n",
       "      <td>0.0</td>\n",
       "      <td>100.0</td>\n",
       "      <td>NaN</td>\n",
       "    </tr>\n",
       "  </tbody>\n",
       "</table>\n",
       "</div>"
      ],
      "text/plain": [
       "     DateId  MemberId  IsMajor  PromotionDiscount  ECouponDiscount  \\\n",
       "0  20150703   1388133     True                0.0              0.0   \n",
       "1  20150703   1388133     True                0.0              0.0   \n",
       "2  20150703   1388133     True                0.0              0.0   \n",
       "3  20150703   1388133     True                0.0              0.0   \n",
       "4  20150703    365787     True                0.0              0.0   \n",
       "\n",
       "   SalesOrderSlaveTotalPayment  ReturnGoodsDateId  \n",
       "0                        350.0                NaN  \n",
       "1                        199.0                NaN  \n",
       "2                        199.0                NaN  \n",
       "3                        225.0                NaN  \n",
       "4                        100.0                NaN  "
      ]
     },
     "execution_count": 4,
     "metadata": {},
     "output_type": "execute_result"
    }
   ],
   "source": [
    "data.drop(data[(~data.ReturnGoodsDateId.isna())|(data.IsMajor==False)].index,\n",
    "          axis = 0, inplace = True)\n",
    "data.head()"
   ]
  },
  {
   "cell_type": "markdown",
   "metadata": {},
   "source": [
    "* 確認資料是否有折扣(Discount:PromotionDiscount/ECouponDiscount)"
   ]
  },
  {
   "cell_type": "code",
   "execution_count": 5,
   "metadata": {
    "scrolled": true
   },
   "outputs": [
    {
     "data": {
      "text/html": [
       "<div>\n",
       "<style scoped>\n",
       "    .dataframe tbody tr th:only-of-type {\n",
       "        vertical-align: middle;\n",
       "    }\n",
       "\n",
       "    .dataframe tbody tr th {\n",
       "        vertical-align: top;\n",
       "    }\n",
       "\n",
       "    .dataframe thead th {\n",
       "        text-align: right;\n",
       "    }\n",
       "</style>\n",
       "<table border=\"1\" class=\"dataframe\">\n",
       "  <thead>\n",
       "    <tr style=\"text-align: right;\">\n",
       "      <th></th>\n",
       "      <th>DateId</th>\n",
       "      <th>MemberId</th>\n",
       "      <th>IsMajor</th>\n",
       "      <th>PromotionDiscount</th>\n",
       "      <th>ECouponDiscount</th>\n",
       "      <th>SalesOrderSlaveTotalPayment</th>\n",
       "      <th>ReturnGoodsDateId</th>\n",
       "      <th>Discount</th>\n",
       "      <th>Date_D</th>\n",
       "      <th>Date_M</th>\n",
       "    </tr>\n",
       "  </thead>\n",
       "  <tbody>\n",
       "    <tr>\n",
       "      <th>0</th>\n",
       "      <td>20150703</td>\n",
       "      <td>1388133</td>\n",
       "      <td>True</td>\n",
       "      <td>0.0</td>\n",
       "      <td>0.0</td>\n",
       "      <td>350.0</td>\n",
       "      <td>NaN</td>\n",
       "      <td>False</td>\n",
       "      <td>2015-07-03</td>\n",
       "      <td>2015-07</td>\n",
       "    </tr>\n",
       "    <tr>\n",
       "      <th>1</th>\n",
       "      <td>20150703</td>\n",
       "      <td>1388133</td>\n",
       "      <td>True</td>\n",
       "      <td>0.0</td>\n",
       "      <td>0.0</td>\n",
       "      <td>199.0</td>\n",
       "      <td>NaN</td>\n",
       "      <td>False</td>\n",
       "      <td>2015-07-03</td>\n",
       "      <td>2015-07</td>\n",
       "    </tr>\n",
       "    <tr>\n",
       "      <th>2</th>\n",
       "      <td>20150703</td>\n",
       "      <td>1388133</td>\n",
       "      <td>True</td>\n",
       "      <td>0.0</td>\n",
       "      <td>0.0</td>\n",
       "      <td>199.0</td>\n",
       "      <td>NaN</td>\n",
       "      <td>False</td>\n",
       "      <td>2015-07-03</td>\n",
       "      <td>2015-07</td>\n",
       "    </tr>\n",
       "    <tr>\n",
       "      <th>3</th>\n",
       "      <td>20150703</td>\n",
       "      <td>1388133</td>\n",
       "      <td>True</td>\n",
       "      <td>0.0</td>\n",
       "      <td>0.0</td>\n",
       "      <td>225.0</td>\n",
       "      <td>NaN</td>\n",
       "      <td>False</td>\n",
       "      <td>2015-07-03</td>\n",
       "      <td>2015-07</td>\n",
       "    </tr>\n",
       "    <tr>\n",
       "      <th>4</th>\n",
       "      <td>20150703</td>\n",
       "      <td>365787</td>\n",
       "      <td>True</td>\n",
       "      <td>0.0</td>\n",
       "      <td>0.0</td>\n",
       "      <td>100.0</td>\n",
       "      <td>NaN</td>\n",
       "      <td>False</td>\n",
       "      <td>2015-07-03</td>\n",
       "      <td>2015-07</td>\n",
       "    </tr>\n",
       "  </tbody>\n",
       "</table>\n",
       "</div>"
      ],
      "text/plain": [
       "     DateId  MemberId  IsMajor  PromotionDiscount  ECouponDiscount  \\\n",
       "0  20150703   1388133     True                0.0              0.0   \n",
       "1  20150703   1388133     True                0.0              0.0   \n",
       "2  20150703   1388133     True                0.0              0.0   \n",
       "3  20150703   1388133     True                0.0              0.0   \n",
       "4  20150703    365787     True                0.0              0.0   \n",
       "\n",
       "   SalesOrderSlaveTotalPayment  ReturnGoodsDateId  Discount     Date_D  Date_M  \n",
       "0                        350.0                NaN     False 2015-07-03 2015-07  \n",
       "1                        199.0                NaN     False 2015-07-03 2015-07  \n",
       "2                        199.0                NaN     False 2015-07-03 2015-07  \n",
       "3                        225.0                NaN     False 2015-07-03 2015-07  \n",
       "4                        100.0                NaN     False 2015-07-03 2015-07  "
      ]
     },
     "execution_count": 5,
     "metadata": {},
     "output_type": "execute_result"
    }
   ],
   "source": [
    "data['Discount'] = (data.PromotionDiscount!=0)|(data.ECouponDiscount!=0)\n",
    "data['Date_D'] = pd.to_datetime(data.DateId.astype('int'), format = '%Y%m%d')\n",
    "data['Date_M'] = data['Date_D'].dt.to_period('M')\n",
    "data.head()"
   ]
  },
  {
   "cell_type": "markdown",
   "metadata": {},
   "source": [
    "* 確認使用者是否只出現一次（僅消費一次）"
   ]
  },
  {
   "cell_type": "code",
   "execution_count": 6,
   "metadata": {
    "scrolled": true
   },
   "outputs": [
    {
     "data": {
      "text/html": [
       "<div>\n",
       "<style scoped>\n",
       "    .dataframe tbody tr th:only-of-type {\n",
       "        vertical-align: middle;\n",
       "    }\n",
       "\n",
       "    .dataframe tbody tr th {\n",
       "        vertical-align: top;\n",
       "    }\n",
       "\n",
       "    .dataframe thead th {\n",
       "        text-align: right;\n",
       "    }\n",
       "</style>\n",
       "<table border=\"1\" class=\"dataframe\">\n",
       "  <thead>\n",
       "    <tr style=\"text-align: right;\">\n",
       "      <th></th>\n",
       "      <th>DateId</th>\n",
       "      <th>MemberId</th>\n",
       "      <th>IsMajor</th>\n",
       "      <th>PromotionDiscount</th>\n",
       "      <th>ECouponDiscount</th>\n",
       "      <th>SalesOrderSlaveTotalPayment</th>\n",
       "      <th>ReturnGoodsDateId</th>\n",
       "      <th>Discount</th>\n",
       "      <th>Date_D</th>\n",
       "      <th>Date_M</th>\n",
       "      <th>Once</th>\n",
       "    </tr>\n",
       "  </thead>\n",
       "  <tbody>\n",
       "    <tr>\n",
       "      <th>0</th>\n",
       "      <td>20150703</td>\n",
       "      <td>1388133</td>\n",
       "      <td>True</td>\n",
       "      <td>0.0</td>\n",
       "      <td>0.0</td>\n",
       "      <td>350.0</td>\n",
       "      <td>NaN</td>\n",
       "      <td>False</td>\n",
       "      <td>2015-07-03</td>\n",
       "      <td>2015-07</td>\n",
       "      <td>False</td>\n",
       "    </tr>\n",
       "    <tr>\n",
       "      <th>1</th>\n",
       "      <td>20150703</td>\n",
       "      <td>1388133</td>\n",
       "      <td>True</td>\n",
       "      <td>0.0</td>\n",
       "      <td>0.0</td>\n",
       "      <td>199.0</td>\n",
       "      <td>NaN</td>\n",
       "      <td>False</td>\n",
       "      <td>2015-07-03</td>\n",
       "      <td>2015-07</td>\n",
       "      <td>False</td>\n",
       "    </tr>\n",
       "    <tr>\n",
       "      <th>2</th>\n",
       "      <td>20150703</td>\n",
       "      <td>1388133</td>\n",
       "      <td>True</td>\n",
       "      <td>0.0</td>\n",
       "      <td>0.0</td>\n",
       "      <td>199.0</td>\n",
       "      <td>NaN</td>\n",
       "      <td>False</td>\n",
       "      <td>2015-07-03</td>\n",
       "      <td>2015-07</td>\n",
       "      <td>False</td>\n",
       "    </tr>\n",
       "    <tr>\n",
       "      <th>3</th>\n",
       "      <td>20150703</td>\n",
       "      <td>1388133</td>\n",
       "      <td>True</td>\n",
       "      <td>0.0</td>\n",
       "      <td>0.0</td>\n",
       "      <td>225.0</td>\n",
       "      <td>NaN</td>\n",
       "      <td>False</td>\n",
       "      <td>2015-07-03</td>\n",
       "      <td>2015-07</td>\n",
       "      <td>False</td>\n",
       "    </tr>\n",
       "    <tr>\n",
       "      <th>4</th>\n",
       "      <td>20150703</td>\n",
       "      <td>365787</td>\n",
       "      <td>True</td>\n",
       "      <td>0.0</td>\n",
       "      <td>0.0</td>\n",
       "      <td>100.0</td>\n",
       "      <td>NaN</td>\n",
       "      <td>False</td>\n",
       "      <td>2015-07-03</td>\n",
       "      <td>2015-07</td>\n",
       "      <td>False</td>\n",
       "    </tr>\n",
       "  </tbody>\n",
       "</table>\n",
       "</div>"
      ],
      "text/plain": [
       "     DateId  MemberId  IsMajor  PromotionDiscount  ECouponDiscount  \\\n",
       "0  20150703   1388133     True                0.0              0.0   \n",
       "1  20150703   1388133     True                0.0              0.0   \n",
       "2  20150703   1388133     True                0.0              0.0   \n",
       "3  20150703   1388133     True                0.0              0.0   \n",
       "4  20150703    365787     True                0.0              0.0   \n",
       "\n",
       "   SalesOrderSlaveTotalPayment  ReturnGoodsDateId  Discount     Date_D  \\\n",
       "0                        350.0                NaN     False 2015-07-03   \n",
       "1                        199.0                NaN     False 2015-07-03   \n",
       "2                        199.0                NaN     False 2015-07-03   \n",
       "3                        225.0                NaN     False 2015-07-03   \n",
       "4                        100.0                NaN     False 2015-07-03   \n",
       "\n",
       "   Date_M   Once  \n",
       "0 2015-07  False  \n",
       "1 2015-07  False  \n",
       "2 2015-07  False  \n",
       "3 2015-07  False  \n",
       "4 2015-07  False  "
      ]
     },
     "execution_count": 6,
     "metadata": {},
     "output_type": "execute_result"
    }
   ],
   "source": [
    "data['Once'] = (data.groupby('MemberId')['MemberId'].transform('value_counts') == 1)\n",
    "data.head()"
   ]
  },
  {
   "cell_type": "markdown",
   "metadata": {},
   "source": [
    "* 將預處理所用到的資料移除，留下所需要的資料集"
   ]
  },
  {
   "cell_type": "code",
   "execution_count": 7,
   "metadata": {},
   "outputs": [
    {
     "data": {
      "text/html": [
       "<div>\n",
       "<style scoped>\n",
       "    .dataframe tbody tr th:only-of-type {\n",
       "        vertical-align: middle;\n",
       "    }\n",
       "\n",
       "    .dataframe tbody tr th {\n",
       "        vertical-align: top;\n",
       "    }\n",
       "\n",
       "    .dataframe thead th {\n",
       "        text-align: right;\n",
       "    }\n",
       "</style>\n",
       "<table border=\"1\" class=\"dataframe\">\n",
       "  <thead>\n",
       "    <tr style=\"text-align: right;\">\n",
       "      <th></th>\n",
       "      <th>SalesOrderSlaveTotalPayment</th>\n",
       "      <th>Discount</th>\n",
       "      <th>Date_D</th>\n",
       "      <th>Date_M</th>\n",
       "      <th>Once</th>\n",
       "    </tr>\n",
       "  </thead>\n",
       "  <tbody>\n",
       "    <tr>\n",
       "      <th>0</th>\n",
       "      <td>350.0</td>\n",
       "      <td>False</td>\n",
       "      <td>2015-07-03</td>\n",
       "      <td>2015-07</td>\n",
       "      <td>False</td>\n",
       "    </tr>\n",
       "    <tr>\n",
       "      <th>1</th>\n",
       "      <td>199.0</td>\n",
       "      <td>False</td>\n",
       "      <td>2015-07-03</td>\n",
       "      <td>2015-07</td>\n",
       "      <td>False</td>\n",
       "    </tr>\n",
       "    <tr>\n",
       "      <th>2</th>\n",
       "      <td>199.0</td>\n",
       "      <td>False</td>\n",
       "      <td>2015-07-03</td>\n",
       "      <td>2015-07</td>\n",
       "      <td>False</td>\n",
       "    </tr>\n",
       "    <tr>\n",
       "      <th>3</th>\n",
       "      <td>225.0</td>\n",
       "      <td>False</td>\n",
       "      <td>2015-07-03</td>\n",
       "      <td>2015-07</td>\n",
       "      <td>False</td>\n",
       "    </tr>\n",
       "    <tr>\n",
       "      <th>4</th>\n",
       "      <td>100.0</td>\n",
       "      <td>False</td>\n",
       "      <td>2015-07-03</td>\n",
       "      <td>2015-07</td>\n",
       "      <td>False</td>\n",
       "    </tr>\n",
       "  </tbody>\n",
       "</table>\n",
       "</div>"
      ],
      "text/plain": [
       "   SalesOrderSlaveTotalPayment  Discount     Date_D  Date_M   Once\n",
       "0                        350.0     False 2015-07-03 2015-07  False\n",
       "1                        199.0     False 2015-07-03 2015-07  False\n",
       "2                        199.0     False 2015-07-03 2015-07  False\n",
       "3                        225.0     False 2015-07-03 2015-07  False\n",
       "4                        100.0     False 2015-07-03 2015-07  False"
      ]
     },
     "execution_count": 7,
     "metadata": {},
     "output_type": "execute_result"
    }
   ],
   "source": [
    "data.drop(axis = 1, inplace = True,\n",
    "    labels = ['MemberId', 'DateId', 'IsMajor', 'PromotionDiscount', 'ECouponDiscount','ReturnGoodsDateId'])\n",
    "data.head()"
   ]
  },
  {
   "cell_type": "markdown",
   "metadata": {},
   "source": [
    "##### 進行分組並分析其內資訊\n",
    "* 觀察各組所貢獻之總銷售額"
   ]
  },
  {
   "cell_type": "code",
   "execution_count": 8,
   "metadata": {},
   "outputs": [
    {
     "data": {
      "text/html": [
       "<div>\n",
       "<style scoped>\n",
       "    .dataframe tbody tr th:only-of-type {\n",
       "        vertical-align: middle;\n",
       "    }\n",
       "\n",
       "    .dataframe tbody tr th {\n",
       "        vertical-align: top;\n",
       "    }\n",
       "\n",
       "    .dataframe thead th {\n",
       "        text-align: right;\n",
       "    }\n",
       "</style>\n",
       "<table border=\"1\" class=\"dataframe\">\n",
       "  <thead>\n",
       "    <tr style=\"text-align: right;\">\n",
       "      <th></th>\n",
       "      <th></th>\n",
       "      <th>SalesOrderSlaveTotalPayment</th>\n",
       "      <th>Percentage (%)</th>\n",
       "    </tr>\n",
       "    <tr>\n",
       "      <th>Once</th>\n",
       "      <th>Discount</th>\n",
       "      <th></th>\n",
       "      <th></th>\n",
       "    </tr>\n",
       "  </thead>\n",
       "  <tbody>\n",
       "    <tr>\n",
       "      <th rowspan=\"2\" valign=\"top\">False</th>\n",
       "      <th>False</th>\n",
       "      <td>452116948.0</td>\n",
       "      <td>36.989228</td>\n",
       "    </tr>\n",
       "    <tr>\n",
       "      <th>True</th>\n",
       "      <td>756168857.0</td>\n",
       "      <td>61.864750</td>\n",
       "    </tr>\n",
       "    <tr>\n",
       "      <th rowspan=\"2\" valign=\"top\">True</th>\n",
       "      <th>False</th>\n",
       "      <td>10677724.0</td>\n",
       "      <td>0.873581</td>\n",
       "    </tr>\n",
       "    <tr>\n",
       "      <th>True</th>\n",
       "      <td>3330037.0</td>\n",
       "      <td>0.272442</td>\n",
       "    </tr>\n",
       "  </tbody>\n",
       "</table>\n",
       "</div>"
      ],
      "text/plain": [
       "                SalesOrderSlaveTotalPayment  Percentage (%)\n",
       "Once  Discount                                             \n",
       "False False                     452116948.0       36.989228\n",
       "      True                      756168857.0       61.864750\n",
       "True  False                      10677724.0        0.873581\n",
       "      True                        3330037.0        0.272442"
      ]
     },
     "execution_count": 8,
     "metadata": {},
     "output_type": "execute_result"
    }
   ],
   "source": [
    "statistic = pd.DataFrame(data.groupby(['Once', 'Discount'])['SalesOrderSlaveTotalPayment'].sum())\n",
    "statistic['Percentage (%)'] = statistic.SalesOrderSlaveTotalPayment/statistic.SalesOrderSlaveTotalPayment.sum()*100\n",
    "statistic"
   ]
  },
  {
   "cell_type": "markdown",
   "metadata": {},
   "source": [
    "* 將上述數據視覺化"
   ]
  },
  {
   "cell_type": "code",
   "execution_count": 9,
   "metadata": {},
   "outputs": [
    {
     "data": {
      "text/plain": [
       "<matplotlib.axes._subplots.AxesSubplot at 0x7fb9611886a0>"
      ]
     },
     "execution_count": 9,
     "metadata": {},
     "output_type": "execute_result"
    },
    {
     "data": {
      "image/png": "[encoded data removed]",
      "text/plain": [
       "<Figure size 432x288 with 1 Axes>"
      ]
     },
     "metadata": {
      "needs_background": "light"
     },
     "output_type": "display_data"
    }
   ],
   "source": [
    "data.groupby(['Once', 'Discount'])['SalesOrderSlaveTotalPayment'].sum().plot.barh()"
   ]
  },
  {
   "cell_type": "markdown",
   "metadata": {},
   "source": [
    "* 依照時間(日)繪製不同類別的動態趨勢"
   ]
  },
  {
   "cell_type": "code",
   "execution_count": 10,
   "metadata": {},
   "outputs": [
    {
     "data": {
      "text/plain": [
       "Text(0.5,1,'Time(Day) v.s. Group Payment')"
      ]
     },
     "execution_count": 10,
     "metadata": {},
     "output_type": "execute_result"
    },
    {
     "data": {
      "image/png": "[encoded data removed]",
      "text/plain": [
       "<Figure size 432x288 with 1 Axes>"
      ]
     },
     "metadata": {
      "needs_background": "light"
     },
     "output_type": "display_data"
    }
   ],
   "source": [
    "group = data.groupby(['Once', 'Discount'])\n",
    "leg = []\n",
    "mp = {(False, False) : '>1 w/o Coupon', (False, True) : '>1 w/ Coupon', \n",
    "     (True, False) : '=1 w/o Coupon', (True, True) : '=1 w/ Coupon'}\n",
    "for gp in group.groups:\n",
    "    pic = group.get_group(gp).groupby('Date_D')['SalesOrderSlaveTotalPayment'].sum().plot()\n",
    "    leg.append(mp[gp])\n",
    "pic.legend(leg)\n",
    "pic.set_title('Time(Day) v.s. Group Payment')"
   ]
  },
  {
   "cell_type": "markdown",
   "metadata": {},
   "source": [
    "##### 與上次所得之 CPI, WPI 資料合併做處理\n",
    "* 尋找所需要查到的最舊日期"
   ]
  },
  {
   "cell_type": "code",
   "execution_count": 11,
   "metadata": {},
   "outputs": [
    {
     "data": {
      "text/plain": [
       "Period('2015-05', 'M')"
      ]
     },
     "execution_count": 11,
     "metadata": {},
     "output_type": "execute_result"
    }
   ],
   "source": [
    "latestDate = data.Date_M.min()\n",
    "latestDate"
   ]
  },
  {
   "cell_type": "markdown",
   "metadata": {},
   "source": [
    "* 取得 CPI, WPI 資料"
   ]
  },
  {
   "cell_type": "code",
   "execution_count": 12,
   "metadata": {
    "scrolled": true
   },
   "outputs": [
    {
     "data": {
      "text/html": [
       "<div>\n",
       "<style scoped>\n",
       "    .dataframe tbody tr th:only-of-type {\n",
       "        vertical-align: middle;\n",
       "    }\n",
       "\n",
       "    .dataframe tbody tr th {\n",
       "        vertical-align: top;\n",
       "    }\n",
       "\n",
       "    .dataframe thead th {\n",
       "        text-align: right;\n",
       "    }\n",
       "</style>\n",
       "<table border=\"1\" class=\"dataframe\">\n",
       "  <thead>\n",
       "    <tr style=\"text-align: right;\">\n",
       "      <th></th>\n",
       "      <th>Year</th>\n",
       "      <th>Month</th>\n",
       "      <th>CPI (%)</th>\n",
       "      <th>WPI (%)</th>\n",
       "    </tr>\n",
       "  </thead>\n",
       "  <tbody>\n",
       "    <tr>\n",
       "      <th>0</th>\n",
       "      <td>2018</td>\n",
       "      <td>8</td>\n",
       "      <td>1.53</td>\n",
       "      <td>6.83</td>\n",
       "    </tr>\n",
       "    <tr>\n",
       "      <th>1</th>\n",
       "      <td>2018</td>\n",
       "      <td>7</td>\n",
       "      <td>1.75</td>\n",
       "      <td>7.02</td>\n",
       "    </tr>\n",
       "    <tr>\n",
       "      <th>2</th>\n",
       "      <td>2018</td>\n",
       "      <td>6</td>\n",
       "      <td>1.31</td>\n",
       "      <td>6.65</td>\n",
       "    </tr>\n",
       "    <tr>\n",
       "      <th>3</th>\n",
       "      <td>2018</td>\n",
       "      <td>5</td>\n",
       "      <td>1.64</td>\n",
       "      <td>5.61</td>\n",
       "    </tr>\n",
       "    <tr>\n",
       "      <th>4</th>\n",
       "      <td>2018</td>\n",
       "      <td>4</td>\n",
       "      <td>1.98</td>\n",
       "      <td>2.53</td>\n",
       "    </tr>\n",
       "  </tbody>\n",
       "</table>\n",
       "</div>"
      ],
      "text/plain": [
       "   Year  Month CPI (%) WPI (%)\n",
       "0  2018      8    1.53    6.83\n",
       "1  2018      7    1.75    7.02\n",
       "2  2018      6    1.31    6.65\n",
       "3  2018      5    1.64    5.61\n",
       "4  2018      4    1.98    2.53"
      ]
     },
     "execution_count": 12,
     "metadata": {},
     "output_type": "execute_result"
    }
   ],
   "source": [
    "CPI = getCPI(str(latestDate.year)+'-'+str(latestDate.month).zfill(2))\n",
    "CPI.Year = CPI.Year + 1911\n",
    "CPI.head()"
   ]
  },
  {
   "cell_type": "markdown",
   "metadata": {},
   "source": [
    "* 將日期資料轉為時間標籤"
   ]
  },
  {
   "cell_type": "code",
   "execution_count": 13,
   "metadata": {},
   "outputs": [
    {
     "data": {
      "text/html": [
       "<div>\n",
       "<style scoped>\n",
       "    .dataframe tbody tr th:only-of-type {\n",
       "        vertical-align: middle;\n",
       "    }\n",
       "\n",
       "    .dataframe tbody tr th {\n",
       "        vertical-align: top;\n",
       "    }\n",
       "\n",
       "    .dataframe thead th {\n",
       "        text-align: right;\n",
       "    }\n",
       "</style>\n",
       "<table border=\"1\" class=\"dataframe\">\n",
       "  <thead>\n",
       "    <tr style=\"text-align: right;\">\n",
       "      <th></th>\n",
       "      <th>CPI (%)</th>\n",
       "      <th>WPI (%)</th>\n",
       "      <th>Date</th>\n",
       "    </tr>\n",
       "  </thead>\n",
       "  <tbody>\n",
       "    <tr>\n",
       "      <th>0</th>\n",
       "      <td>1.53</td>\n",
       "      <td>6.83</td>\n",
       "      <td>2018-08</td>\n",
       "    </tr>\n",
       "    <tr>\n",
       "      <th>1</th>\n",
       "      <td>1.75</td>\n",
       "      <td>7.02</td>\n",
       "      <td>2018-07</td>\n",
       "    </tr>\n",
       "    <tr>\n",
       "      <th>2</th>\n",
       "      <td>1.31</td>\n",
       "      <td>6.65</td>\n",
       "      <td>2018-06</td>\n",
       "    </tr>\n",
       "    <tr>\n",
       "      <th>3</th>\n",
       "      <td>1.64</td>\n",
       "      <td>5.61</td>\n",
       "      <td>2018-05</td>\n",
       "    </tr>\n",
       "    <tr>\n",
       "      <th>4</th>\n",
       "      <td>1.98</td>\n",
       "      <td>2.53</td>\n",
       "      <td>2018-04</td>\n",
       "    </tr>\n",
       "  </tbody>\n",
       "</table>\n",
       "</div>"
      ],
      "text/plain": [
       "  CPI (%) WPI (%)    Date\n",
       "0    1.53    6.83 2018-08\n",
       "1    1.75    7.02 2018-07\n",
       "2    1.31    6.65 2018-06\n",
       "3    1.64    5.61 2018-05\n",
       "4    1.98    2.53 2018-04"
      ]
     },
     "execution_count": 13,
     "metadata": {},
     "output_type": "execute_result"
    }
   ],
   "source": [
    "CPI['Date'] = (CPI.Year*100 + CPI.Month).apply(pd.to_datetime, format='%Y%m').dt.to_period('M')\n",
    "CPI.drop(labels = ['Year', 'Month'], axis = 1, inplace = True)\n",
    "CPI.head()"
   ]
  },
  {
   "cell_type": "code",
   "execution_count": 14,
   "metadata": {},
   "outputs": [
    {
     "data": {
      "text/plain": [
       "Text(0.5,1,'Time(Month) v.s. Group Payment')"
      ]
     },
     "execution_count": 14,
     "metadata": {},
     "output_type": "execute_result"
    },
    {
     "data": {
      "image/png": "[encoded data removed]",
      "text/plain": [
       "<Figure size 432x288 with 1 Axes>"
      ]
     },
     "metadata": {
      "needs_background": "light"
     },
     "output_type": "display_data"
    }
   ],
   "source": [
    "#data['Date'] = pd.to_datetime(data['Date'].astype('int'), unit = 'd')\n",
    "#data\n",
    "leg = []\n",
    "for gp in group.groups:\n",
    "    pic = group.get_group(gp).groupby('Date_M')['SalesOrderSlaveTotalPayment'].sum().plot()\n",
    "    leg.append(mp[gp])\n",
    "pic.legend(leg)\n",
    "pic.set_title('Time(Month) v.s. Group Payment')"
   ]
  }
 ],
 "metadata": {
  "kernelspec": {
   "display_name": "Python 3",
   "language": "python",
   "name": "python3"
  },
  "language_info": {
   "codemirror_mode": {
    "name": "ipython",
    "version": 3
   },
   "file_extension": ".py",
   "mimetype": "text/x-python",
   "name": "python",
   "nbconvert_exporter": "python",
   "pygments_lexer": "ipython3",
   "version": "3.5.2"
  },
  "varInspector": {
   "cols": {
    "lenName": 16,
    "lenType": 16,
    "lenVar": 40
   },
   "kernels_config": {
    "python": {
     "delete_cmd_postfix": "",
     "delete_cmd_prefix": "del ",
     "library": "var_list.py",
     "varRefreshCmd": "print(var_dic_list())"
    },
    "r": {
     "delete_cmd_postfix": ") ",
     "delete_cmd_prefix": "rm(",
     "library": "var_list.r",
     "varRefreshCmd": "cat(var_dic_list()) "
    }
   },
   "position": {
    "height": "318px",
    "left": "1485px",
    "right": "20px",
    "top": "120px",
    "width": "350px"
   },
   "types_to_exclude": [
    "module",
    "function",
    "builtin_function_or_method",
    "instance",
    "_Feature"
   ],
   "window_display": false
  }
 },
 "nbformat": 4,
 "nbformat_minor": 2
}
