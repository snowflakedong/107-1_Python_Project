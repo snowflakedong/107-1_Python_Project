{
 "cells": [
  {
   "cell_type": "code",
   "execution_count": 1,
   "metadata": {},
   "outputs": [],
   "source": [
    "import matplotlib.pyplot as plt\n",
    "import pandas as pd\n",
    "import numpy as np\n",
    "%matplotlib inline"
   ]
  },
  {
   "cell_type": "code",
   "execution_count": 2,
   "metadata": {
    "scrolled": true
   },
   "outputs": [
    {
     "data": {
      "text/html": [
       "<div>\n",
       "<style scoped>\n",
       "    .dataframe tbody tr th:only-of-type {\n",
       "        vertical-align: middle;\n",
       "    }\n",
       "\n",
       "    .dataframe tbody tr th {\n",
       "        vertical-align: top;\n",
       "    }\n",
       "\n",
       "    .dataframe thead th {\n",
       "        text-align: right;\n",
       "    }\n",
       "</style>\n",
       "<table border=\"1\" class=\"dataframe\">\n",
       "  <thead>\n",
       "    <tr style=\"text-align: right;\">\n",
       "      <th></th>\n",
       "      <th>0</th>\n",
       "      <th>1</th>\n",
       "      <th>2</th>\n",
       "    </tr>\n",
       "  </thead>\n",
       "  <tbody>\n",
       "    <tr>\n",
       "      <th>DateId</th>\n",
       "      <td>20150703</td>\n",
       "      <td>20150703</td>\n",
       "      <td>20150703</td>\n",
       "    </tr>\n",
       "    <tr>\n",
       "      <th>MemberId</th>\n",
       "      <td>1388133</td>\n",
       "      <td>1388133</td>\n",
       "      <td>1388133</td>\n",
       "    </tr>\n",
       "    <tr>\n",
       "      <th>OrderGroupCode</th>\n",
       "      <td>b'\\xd0_\\x8eby\\xe8\\x88\\xa5\\x85\\xe4\\x15\\nMC\\xeaO...</td>\n",
       "      <td>b'\\xd0_\\x8eby\\xe8\\x88\\xa5\\x85\\xe4\\x15\\nMC\\xeaO...</td>\n",
       "      <td>b'\\xd0_\\x8eby\\xe8\\x88\\xa5\\x85\\xe4\\x15\\nMC\\xeaO...</td>\n",
       "    </tr>\n",
       "    <tr>\n",
       "      <th>TrackSourceTypeDef</th>\n",
       "      <td>Web</td>\n",
       "      <td>Web</td>\n",
       "      <td>Web</td>\n",
       "    </tr>\n",
       "    <tr>\n",
       "      <th>TrackDeviceTypeDef</th>\n",
       "      <td>Mobile</td>\n",
       "      <td>Mobile</td>\n",
       "      <td>Mobile</td>\n",
       "    </tr>\n",
       "    <tr>\n",
       "      <th>PayProfileTypeDef</th>\n",
       "      <td>SevenEleven</td>\n",
       "      <td>SevenEleven</td>\n",
       "      <td>SevenEleven</td>\n",
       "    </tr>\n",
       "    <tr>\n",
       "      <th>SalesOrderSlaveId</th>\n",
       "      <td>4457777</td>\n",
       "      <td>4457778</td>\n",
       "      <td>4457779</td>\n",
       "    </tr>\n",
       "    <tr>\n",
       "      <th>SalePageId</th>\n",
       "      <td>1242871</td>\n",
       "      <td>1242880</td>\n",
       "      <td>1242880</td>\n",
       "    </tr>\n",
       "    <tr>\n",
       "      <th>IsMajor</th>\n",
       "      <td>True</td>\n",
       "      <td>True</td>\n",
       "      <td>True</td>\n",
       "    </tr>\n",
       "    <tr>\n",
       "      <th>IsGift</th>\n",
       "      <td>False</td>\n",
       "      <td>False</td>\n",
       "      <td>False</td>\n",
       "    </tr>\n",
       "    <tr>\n",
       "      <th>IsSalePageGift</th>\n",
       "      <td>False</td>\n",
       "      <td>False</td>\n",
       "      <td>False</td>\n",
       "    </tr>\n",
       "    <tr>\n",
       "      <th>Quantity</th>\n",
       "      <td>1</td>\n",
       "      <td>1</td>\n",
       "      <td>1</td>\n",
       "    </tr>\n",
       "    <tr>\n",
       "      <th>UnitPrice</th>\n",
       "      <td>350</td>\n",
       "      <td>199</td>\n",
       "      <td>199</td>\n",
       "    </tr>\n",
       "    <tr>\n",
       "      <th>PromotionDiscount</th>\n",
       "      <td>0</td>\n",
       "      <td>0</td>\n",
       "      <td>0</td>\n",
       "    </tr>\n",
       "    <tr>\n",
       "      <th>ECouponId</th>\n",
       "      <td>0</td>\n",
       "      <td>0</td>\n",
       "      <td>0</td>\n",
       "    </tr>\n",
       "    <tr>\n",
       "      <th>ECouponDiscount</th>\n",
       "      <td>0</td>\n",
       "      <td>0</td>\n",
       "      <td>0</td>\n",
       "    </tr>\n",
       "    <tr>\n",
       "      <th>SalesOrderSlaveTotalPayment</th>\n",
       "      <td>350</td>\n",
       "      <td>199</td>\n",
       "      <td>199</td>\n",
       "    </tr>\n",
       "    <tr>\n",
       "      <th>SalesOrderSlaveDateTime</th>\n",
       "      <td>2015-07-03 07:30:02.007</td>\n",
       "      <td>2015-07-03 07:30:02.023</td>\n",
       "      <td>2015-07-03 07:30:02.040</td>\n",
       "    </tr>\n",
       "    <tr>\n",
       "      <th>SalesOrderReceiverId</th>\n",
       "      <td>1480890</td>\n",
       "      <td>1480890</td>\n",
       "      <td>1480890</td>\n",
       "    </tr>\n",
       "    <tr>\n",
       "      <th>City</th>\n",
       "      <td>嘉義縣</td>\n",
       "      <td>嘉義縣</td>\n",
       "      <td>嘉義縣</td>\n",
       "    </tr>\n",
       "    <tr>\n",
       "      <th>District</th>\n",
       "      <td>水上鄉</td>\n",
       "      <td>水上鄉</td>\n",
       "      <td>水上鄉</td>\n",
       "    </tr>\n",
       "    <tr>\n",
       "      <th>ZipCode</th>\n",
       "      <td>608</td>\n",
       "      <td>608</td>\n",
       "      <td>608</td>\n",
       "    </tr>\n",
       "    <tr>\n",
       "      <th>StoreName</th>\n",
       "      <td>中庄門市</td>\n",
       "      <td>中庄門市</td>\n",
       "      <td>中庄門市</td>\n",
       "    </tr>\n",
       "    <tr>\n",
       "      <th>StoreId</th>\n",
       "      <td>910828</td>\n",
       "      <td>910828</td>\n",
       "      <td>910828</td>\n",
       "    </tr>\n",
       "    <tr>\n",
       "      <th>DeliverTypeDef</th>\n",
       "      <td>SevenEleven</td>\n",
       "      <td>SevenEleven</td>\n",
       "      <td>SevenEleven</td>\n",
       "    </tr>\n",
       "    <tr>\n",
       "      <th>StatusDef</th>\n",
       "      <td>Finish</td>\n",
       "      <td>Finish</td>\n",
       "      <td>Finish</td>\n",
       "    </tr>\n",
       "    <tr>\n",
       "      <th>ReturnGoodsDateId</th>\n",
       "      <td>NaN</td>\n",
       "      <td>NaN</td>\n",
       "      <td>NaN</td>\n",
       "    </tr>\n",
       "    <tr>\n",
       "      <th>CauseDef</th>\n",
       "      <td>NaN</td>\n",
       "      <td>NaN</td>\n",
       "      <td>NaN</td>\n",
       "    </tr>\n",
       "  </tbody>\n",
       "</table>\n",
       "</div>"
      ],
      "text/plain": [
       "                                                                             0  \\\n",
       "DateId                                                                20150703   \n",
       "MemberId                                                               1388133   \n",
       "OrderGroupCode               b'\\xd0_\\x8eby\\xe8\\x88\\xa5\\x85\\xe4\\x15\\nMC\\xeaO...   \n",
       "TrackSourceTypeDef                                                         Web   \n",
       "TrackDeviceTypeDef                                                      Mobile   \n",
       "PayProfileTypeDef                                                  SevenEleven   \n",
       "SalesOrderSlaveId                                                      4457777   \n",
       "SalePageId                                                             1242871   \n",
       "IsMajor                                                                   True   \n",
       "IsGift                                                                   False   \n",
       "IsSalePageGift                                                           False   \n",
       "Quantity                                                                     1   \n",
       "UnitPrice                                                                  350   \n",
       "PromotionDiscount                                                            0   \n",
       "ECouponId                                                                    0   \n",
       "ECouponDiscount                                                              0   \n",
       "SalesOrderSlaveTotalPayment                                                350   \n",
       "SalesOrderSlaveDateTime                                2015-07-03 07:30:02.007   \n",
       "SalesOrderReceiverId                                                   1480890   \n",
       "City                                                                       嘉義縣   \n",
       "District                                                                   水上鄉   \n",
       "ZipCode                                                                    608   \n",
       "StoreName                                                                 中庄門市   \n",
       "StoreId                                                                 910828   \n",
       "DeliverTypeDef                                                     SevenEleven   \n",
       "StatusDef                                                               Finish   \n",
       "ReturnGoodsDateId                                                          NaN   \n",
       "CauseDef                                                                   NaN   \n",
       "\n",
       "                                                                             1  \\\n",
       "DateId                                                                20150703   \n",
       "MemberId                                                               1388133   \n",
       "OrderGroupCode               b'\\xd0_\\x8eby\\xe8\\x88\\xa5\\x85\\xe4\\x15\\nMC\\xeaO...   \n",
       "TrackSourceTypeDef                                                         Web   \n",
       "TrackDeviceTypeDef                                                      Mobile   \n",
       "PayProfileTypeDef                                                  SevenEleven   \n",
       "SalesOrderSlaveId                                                      4457778   \n",
       "SalePageId                                                             1242880   \n",
       "IsMajor                                                                   True   \n",
       "IsGift                                                                   False   \n",
       "IsSalePageGift                                                           False   \n",
       "Quantity                                                                     1   \n",
       "UnitPrice                                                                  199   \n",
       "PromotionDiscount                                                            0   \n",
       "ECouponId                                                                    0   \n",
       "ECouponDiscount                                                              0   \n",
       "SalesOrderSlaveTotalPayment                                                199   \n",
       "SalesOrderSlaveDateTime                                2015-07-03 07:30:02.023   \n",
       "SalesOrderReceiverId                                                   1480890   \n",
       "City                                                                       嘉義縣   \n",
       "District                                                                   水上鄉   \n",
       "ZipCode                                                                    608   \n",
       "StoreName                                                                 中庄門市   \n",
       "StoreId                                                                 910828   \n",
       "DeliverTypeDef                                                     SevenEleven   \n",
       "StatusDef                                                               Finish   \n",
       "ReturnGoodsDateId                                                          NaN   \n",
       "CauseDef                                                                   NaN   \n",
       "\n",
       "                                                                             2  \n",
       "DateId                                                                20150703  \n",
       "MemberId                                                               1388133  \n",
       "OrderGroupCode               b'\\xd0_\\x8eby\\xe8\\x88\\xa5\\x85\\xe4\\x15\\nMC\\xeaO...  \n",
       "TrackSourceTypeDef                                                         Web  \n",
       "TrackDeviceTypeDef                                                      Mobile  \n",
       "PayProfileTypeDef                                                  SevenEleven  \n",
       "SalesOrderSlaveId                                                      4457779  \n",
       "SalePageId                                                             1242880  \n",
       "IsMajor                                                                   True  \n",
       "IsGift                                                                   False  \n",
       "IsSalePageGift                                                           False  \n",
       "Quantity                                                                     1  \n",
       "UnitPrice                                                                  199  \n",
       "PromotionDiscount                                                            0  \n",
       "ECouponId                                                                    0  \n",
       "ECouponDiscount                                                              0  \n",
       "SalesOrderSlaveTotalPayment                                                199  \n",
       "SalesOrderSlaveDateTime                                2015-07-03 07:30:02.040  \n",
       "SalesOrderReceiverId                                                   1480890  \n",
       "City                                                                       嘉義縣  \n",
       "District                                                                   水上鄉  \n",
       "ZipCode                                                                    608  \n",
       "StoreName                                                                 中庄門市  \n",
       "StoreId                                                                 910828  \n",
       "DeliverTypeDef                                                     SevenEleven  \n",
       "StatusDef                                                               Finish  \n",
       "ReturnGoodsDateId                                                          NaN  \n",
       "CauseDef                                                                   NaN  "
      ]
     },
     "execution_count": 2,
     "metadata": {},
     "output_type": "execute_result"
    }
   ],
   "source": [
    "data = pd.read_csv('../../NTU_大數據與商業分析Datasets/Orders.csv', nrows = 3).T\n",
    "data"
   ]
  },
  {
   "cell_type": "code",
   "execution_count": 3,
   "metadata": {
    "scrolled": true
   },
   "outputs": [
    {
     "data": {
      "text/html": [
       "<div>\n",
       "<style scoped>\n",
       "    .dataframe tbody tr th:only-of-type {\n",
       "        vertical-align: middle;\n",
       "    }\n",
       "\n",
       "    .dataframe tbody tr th {\n",
       "        vertical-align: top;\n",
       "    }\n",
       "\n",
       "    .dataframe thead th {\n",
       "        text-align: right;\n",
       "    }\n",
       "</style>\n",
       "<table border=\"1\" class=\"dataframe\">\n",
       "  <thead>\n",
       "    <tr style=\"text-align: right;\">\n",
       "      <th></th>\n",
       "      <th>DateId</th>\n",
       "      <th>Quantity</th>\n",
       "    </tr>\n",
       "  </thead>\n",
       "  <tbody>\n",
       "    <tr>\n",
       "      <th>0</th>\n",
       "      <td>20150703</td>\n",
       "      <td>1</td>\n",
       "    </tr>\n",
       "    <tr>\n",
       "      <th>1</th>\n",
       "      <td>20150703</td>\n",
       "      <td>1</td>\n",
       "    </tr>\n",
       "    <tr>\n",
       "      <th>2</th>\n",
       "      <td>20150703</td>\n",
       "      <td>1</td>\n",
       "    </tr>\n",
       "    <tr>\n",
       "      <th>3</th>\n",
       "      <td>20150703</td>\n",
       "      <td>1</td>\n",
       "    </tr>\n",
       "    <tr>\n",
       "      <th>4</th>\n",
       "      <td>20150703</td>\n",
       "      <td>1</td>\n",
       "    </tr>\n",
       "  </tbody>\n",
       "</table>\n",
       "</div>"
      ],
      "text/plain": [
       "     DateId  Quantity\n",
       "0  20150703         1\n",
       "1  20150703         1\n",
       "2  20150703         1\n",
       "3  20150703         1\n",
       "4  20150703         1"
      ]
     },
     "execution_count": 3,
     "metadata": {},
     "output_type": "execute_result"
    }
   ],
   "source": [
    "data = pd.read_csv('../../NTU_大數據與商業分析Datasets/Orders.csv', index_col = False, \n",
    "                  usecols = ['DateId', 'Quantity'])[['DateId', 'Quantity']]\n",
    "data.head()"
   ]
  },
  {
   "cell_type": "code",
   "execution_count": 4,
   "metadata": {},
   "outputs": [
    {
     "data": {
      "text/html": [
       "<div>\n",
       "<style scoped>\n",
       "    .dataframe tbody tr th:only-of-type {\n",
       "        vertical-align: middle;\n",
       "    }\n",
       "\n",
       "    .dataframe tbody tr th {\n",
       "        vertical-align: top;\n",
       "    }\n",
       "\n",
       "    .dataframe thead th {\n",
       "        text-align: right;\n",
       "    }\n",
       "</style>\n",
       "<table border=\"1\" class=\"dataframe\">\n",
       "  <thead>\n",
       "    <tr style=\"text-align: right;\">\n",
       "      <th></th>\n",
       "      <th>DateId</th>\n",
       "      <th>Quantity</th>\n",
       "    </tr>\n",
       "  </thead>\n",
       "  <tbody>\n",
       "    <tr>\n",
       "      <th>0</th>\n",
       "      <td>2015-07-03</td>\n",
       "      <td>1</td>\n",
       "    </tr>\n",
       "    <tr>\n",
       "      <th>1</th>\n",
       "      <td>2015-07-03</td>\n",
       "      <td>1</td>\n",
       "    </tr>\n",
       "    <tr>\n",
       "      <th>2</th>\n",
       "      <td>2015-07-03</td>\n",
       "      <td>1</td>\n",
       "    </tr>\n",
       "    <tr>\n",
       "      <th>3</th>\n",
       "      <td>2015-07-03</td>\n",
       "      <td>1</td>\n",
       "    </tr>\n",
       "    <tr>\n",
       "      <th>4</th>\n",
       "      <td>2015-07-03</td>\n",
       "      <td>1</td>\n",
       "    </tr>\n",
       "  </tbody>\n",
       "</table>\n",
       "</div>"
      ],
      "text/plain": [
       "      DateId  Quantity\n",
       "0 2015-07-03         1\n",
       "1 2015-07-03         1\n",
       "2 2015-07-03         1\n",
       "3 2015-07-03         1\n",
       "4 2015-07-03         1"
      ]
     },
     "execution_count": 4,
     "metadata": {},
     "output_type": "execute_result"
    }
   ],
   "source": [
    "data['DateId'] = pd.to_datetime(data['DateId'].astype('str'), format = '%Y%m%d')\n",
    "data.head()"
   ]
  },
  {
   "cell_type": "code",
   "execution_count": 5,
   "metadata": {},
   "outputs": [
    {
     "data": {
      "text/html": [
       "<div>\n",
       "<style scoped>\n",
       "    .dataframe tbody tr th:only-of-type {\n",
       "        vertical-align: middle;\n",
       "    }\n",
       "\n",
       "    .dataframe tbody tr th {\n",
       "        vertical-align: top;\n",
       "    }\n",
       "\n",
       "    .dataframe thead th {\n",
       "        text-align: right;\n",
       "    }\n",
       "</style>\n",
       "<table border=\"1\" class=\"dataframe\">\n",
       "  <thead>\n",
       "    <tr style=\"text-align: right;\">\n",
       "      <th></th>\n",
       "      <th>DateId</th>\n",
       "      <th>Quantity</th>\n",
       "      <th>Week</th>\n",
       "    </tr>\n",
       "  </thead>\n",
       "  <tbody>\n",
       "    <tr>\n",
       "      <th>0</th>\n",
       "      <td>2015-07-03</td>\n",
       "      <td>1</td>\n",
       "      <td>4</td>\n",
       "    </tr>\n",
       "    <tr>\n",
       "      <th>1</th>\n",
       "      <td>2015-07-03</td>\n",
       "      <td>1</td>\n",
       "      <td>4</td>\n",
       "    </tr>\n",
       "    <tr>\n",
       "      <th>2</th>\n",
       "      <td>2015-07-03</td>\n",
       "      <td>1</td>\n",
       "      <td>4</td>\n",
       "    </tr>\n",
       "    <tr>\n",
       "      <th>3</th>\n",
       "      <td>2015-07-03</td>\n",
       "      <td>1</td>\n",
       "      <td>4</td>\n",
       "    </tr>\n",
       "    <tr>\n",
       "      <th>4</th>\n",
       "      <td>2015-07-03</td>\n",
       "      <td>1</td>\n",
       "      <td>4</td>\n",
       "    </tr>\n",
       "  </tbody>\n",
       "</table>\n",
       "</div>"
      ],
      "text/plain": [
       "      DateId  Quantity  Week\n",
       "0 2015-07-03         1     4\n",
       "1 2015-07-03         1     4\n",
       "2 2015-07-03         1     4\n",
       "3 2015-07-03         1     4\n",
       "4 2015-07-03         1     4"
      ]
     },
     "execution_count": 5,
     "metadata": {},
     "output_type": "execute_result"
    }
   ],
   "source": [
    "data['Week'] = data['DateId'].apply(lambda x: x.weekday())\n",
    "data.head()"
   ]
  },
  {
   "cell_type": "code",
   "execution_count": 6,
   "metadata": {},
   "outputs": [
    {
     "data": {
      "text/plain": [
       "array([4, 0, 2, 6, 5, 3, 1])"
      ]
     },
     "execution_count": 6,
     "metadata": {},
     "output_type": "execute_result"
    }
   ],
   "source": [
    "data['Week'].unique()"
   ]
  },
  {
   "cell_type": "code",
   "execution_count": 7,
   "metadata": {},
   "outputs": [
    {
     "data": {
      "text/plain": [
       "array([4, 7, 2, 6, 5, 3, 1])"
      ]
     },
     "execution_count": 7,
     "metadata": {},
     "output_type": "execute_result"
    }
   ],
   "source": [
    "data['Week'].replace(0, 7, inplace = True)\n",
    "data['Week'].unique()"
   ]
  },
  {
   "cell_type": "code",
   "execution_count": 8,
   "metadata": {},
   "outputs": [
    {
     "data": {
      "text/plain": [
       "Week\n",
       "1    827454\n",
       "2    836489\n",
       "3    773765\n",
       "4    743191\n",
       "5    817931\n",
       "6    859920\n",
       "7    750079\n",
       "Name: Quantity, dtype: int64"
      ]
     },
     "execution_count": 8,
     "metadata": {},
     "output_type": "execute_result"
    }
   ],
   "source": [
    "group = data.groupby('Week')['Quantity'].sum()\n",
    "group"
   ]
  },
  {
   "cell_type": "code",
   "execution_count": 9,
   "metadata": {},
   "outputs": [
    {
     "data": {
      "text/plain": [
       "<matplotlib.axes._subplots.AxesSubplot at 0x7f2bceb09d30>"
      ]
     },
     "execution_count": 9,
     "metadata": {},
     "output_type": "execute_result"
    },
    {
     "data": {
      "image/png": "[encoded data removed]",
      "text/plain": [
       "<Figure size 432x288 with 1 Axes>"
      ]
     },
     "metadata": {
      "needs_background": "light"
     },
     "output_type": "display_data"
    }
   ],
   "source": [
    "group.plot.bar()"
   ]
  }
 ],
 "metadata": {
  "kernelspec": {
   "display_name": "Python 3",
   "language": "python",
   "name": "python3"
  },
  "language_info": {
   "codemirror_mode": {
    "name": "ipython",
    "version": 3
   },
   "file_extension": ".py",
   "mimetype": "text/x-python",
   "name": "python",
   "nbconvert_exporter": "python",
   "pygments_lexer": "ipython3",
   "version": "3.5.2"
  },
  "varInspector": {
   "cols": {
    "lenName": 16,
    "lenType": 16,
    "lenVar": 40
   },
   "kernels_config": {
    "python": {
     "delete_cmd_postfix": "",
     "delete_cmd_prefix": "del ",
     "library": "var_list.py",
     "varRefreshCmd": "print(var_dic_list())"
    },
    "r": {
     "delete_cmd_postfix": ") ",
     "delete_cmd_prefix": "rm(",
     "library": "var_list.r",
     "varRefreshCmd": "cat(var_dic_list()) "
    }
   },
   "types_to_exclude": [
    "module",
    "function",
    "builtin_function_or_method",
    "instance",
    "_Feature"
   ],
   "window_display": false
  }
 },
 "nbformat": 4,
 "nbformat_minor": 2
}
