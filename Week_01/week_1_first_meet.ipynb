{
 "cells": [
  {
   "cell_type": "markdown",
   "metadata": {},
   "source": [
    "# Week_1\n",
    "---"
   ]
  },
  {
   "cell_type": "markdown",
   "metadata": {},
   "source": [
    "* 匯入需要的函式庫"
   ]
  },
  {
   "cell_type": "code",
   "execution_count": 1,
   "metadata": {},
   "outputs": [],
   "source": [
    "import pandas as pd\n",
    "# Plot figures in output\n",
    "%matplotlib inline\n",
    "# To print all result instead only the last one\n",
    "from IPython.core.interactiveshell import InteractiveShell\n",
    "InteractiveShell.ast_node_interactivity = \"all\""
   ]
  },
  {
   "cell_type": "markdown",
   "metadata": {},
   "source": [
    "---\n",
    "### 讀取 PromotionOrders.csv 並觀察其部份內容\n",
    "\n",
    "|Columns|Meaning|\n",
    "|---|---|\n",
    "|SalesOrderSlaveId|訂單明細|\n",
    "|PromotionId|活動編號|\n",
    "|SalesOrderSlavePromotionDiscountAllocated|折扣攤提金額|\n",
    "|SalesOrderSlavePromotionDiscountAllocatedQty|折扣攤提數量|\n",
    "|DiscountType|折扣活動類型|\n",
    "|PromotionCondition_DiscountPrice|折扣條件:折扣金額|\n",
    "|PromotionCondition_DiscountRate|折扣條件:折扣折數|\n",
    "|PromotionCondition_TotalPrice|折扣條件:滿額金額|\n",
    "|PromotionCondition_TotalQty|折扣條件:滿件條件|\n",
    "|PromotionStartDateTime|活動開始時間|\n",
    "|PromotionEndDateTime|活動結束時間|"
   ]
  },
  {
   "cell_type": "code",
   "execution_count": 2,
   "metadata": {
    "scrolled": true
   },
   "outputs": [
    {
     "data": {
      "text/html": [
       "<div>\n",
       "<style scoped>\n",
       "    .dataframe tbody tr th:only-of-type {\n",
       "        vertical-align: middle;\n",
       "    }\n",
       "\n",
       "    .dataframe tbody tr th {\n",
       "        vertical-align: top;\n",
       "    }\n",
       "\n",
       "    .dataframe thead th {\n",
       "        text-align: right;\n",
       "    }\n",
       "</style>\n",
       "<table border=\"1\" class=\"dataframe\">\n",
       "  <thead>\n",
       "    <tr style=\"text-align: right;\">\n",
       "      <th></th>\n",
       "      <th>SalesOrderSlaveId</th>\n",
       "      <th>PromotionId</th>\n",
       "      <th>SalesOrderSlavePromotionDiscount</th>\n",
       "      <th>SalesOrderSlavePromotionDiscountAllocated</th>\n",
       "      <th>SalesOrderSlavePromotionDiscountAllocatedQty</th>\n",
       "      <th>SalesOrderSlavePromotionDiscountRate</th>\n",
       "      <th>DiscountType</th>\n",
       "      <th>PromotionCondition_DiscountPrice</th>\n",
       "      <th>PromotionCondition_DiscountRate</th>\n",
       "      <th>PromotionCondition_TotalPrice</th>\n",
       "      <th>PromotionCondition_TotalQty</th>\n",
       "      <th>PromotionStartDateTime</th>\n",
       "      <th>PromotionEndDateTime</th>\n",
       "    </tr>\n",
       "  </thead>\n",
       "  <tbody>\n",
       "    <tr>\n",
       "      <th>0</th>\n",
       "      <td>40086585</td>\n",
       "      <td>62671</td>\n",
       "      <td>100.0</td>\n",
       "      <td>-12.0</td>\n",
       "      <td>1</td>\n",
       "      <td>0.0</td>\n",
       "      <td>滿額折現</td>\n",
       "      <td>100.0</td>\n",
       "      <td>0.0</td>\n",
       "      <td>1000.0</td>\n",
       "      <td>0</td>\n",
       "      <td>2017-07-10 11:00:00.000</td>\n",
       "      <td>2017-07-31 10:59:00.000</td>\n",
       "    </tr>\n",
       "    <tr>\n",
       "      <th>1</th>\n",
       "      <td>40088089</td>\n",
       "      <td>62671</td>\n",
       "      <td>100.0</td>\n",
       "      <td>-12.0</td>\n",
       "      <td>1</td>\n",
       "      <td>0.0</td>\n",
       "      <td>滿額折現</td>\n",
       "      <td>100.0</td>\n",
       "      <td>0.0</td>\n",
       "      <td>1000.0</td>\n",
       "      <td>0</td>\n",
       "      <td>2017-07-10 11:00:00.000</td>\n",
       "      <td>2017-07-31 10:59:00.000</td>\n",
       "    </tr>\n",
       "    <tr>\n",
       "      <th>2</th>\n",
       "      <td>40090756</td>\n",
       "      <td>62671</td>\n",
       "      <td>100.0</td>\n",
       "      <td>-12.0</td>\n",
       "      <td>1</td>\n",
       "      <td>0.0</td>\n",
       "      <td>滿額折現</td>\n",
       "      <td>100.0</td>\n",
       "      <td>0.0</td>\n",
       "      <td>1000.0</td>\n",
       "      <td>0</td>\n",
       "      <td>2017-07-10 11:00:00.000</td>\n",
       "      <td>2017-07-31 10:59:00.000</td>\n",
       "    </tr>\n",
       "    <tr>\n",
       "      <th>3</th>\n",
       "      <td>40090763</td>\n",
       "      <td>62671</td>\n",
       "      <td>100.0</td>\n",
       "      <td>-12.0</td>\n",
       "      <td>1</td>\n",
       "      <td>0.0</td>\n",
       "      <td>滿額折現</td>\n",
       "      <td>100.0</td>\n",
       "      <td>0.0</td>\n",
       "      <td>1000.0</td>\n",
       "      <td>0</td>\n",
       "      <td>2017-07-10 11:00:00.000</td>\n",
       "      <td>2017-07-31 10:59:00.000</td>\n",
       "    </tr>\n",
       "    <tr>\n",
       "      <th>4</th>\n",
       "      <td>40091003</td>\n",
       "      <td>62671</td>\n",
       "      <td>100.0</td>\n",
       "      <td>-12.0</td>\n",
       "      <td>1</td>\n",
       "      <td>0.0</td>\n",
       "      <td>滿額折現</td>\n",
       "      <td>100.0</td>\n",
       "      <td>0.0</td>\n",
       "      <td>1000.0</td>\n",
       "      <td>0</td>\n",
       "      <td>2017-07-10 11:00:00.000</td>\n",
       "      <td>2017-07-31 10:59:00.000</td>\n",
       "    </tr>\n",
       "  </tbody>\n",
       "</table>\n",
       "</div>"
      ],
      "text/plain": [
       "   SalesOrderSlaveId  PromotionId  SalesOrderSlavePromotionDiscount  \\\n",
       "0           40086585        62671                             100.0   \n",
       "1           40088089        62671                             100.0   \n",
       "2           40090756        62671                             100.0   \n",
       "3           40090763        62671                             100.0   \n",
       "4           40091003        62671                             100.0   \n",
       "\n",
       "   SalesOrderSlavePromotionDiscountAllocated  \\\n",
       "0                                      -12.0   \n",
       "1                                      -12.0   \n",
       "2                                      -12.0   \n",
       "3                                      -12.0   \n",
       "4                                      -12.0   \n",
       "\n",
       "   SalesOrderSlavePromotionDiscountAllocatedQty  \\\n",
       "0                                             1   \n",
       "1                                             1   \n",
       "2                                             1   \n",
       "3                                             1   \n",
       "4                                             1   \n",
       "\n",
       "   SalesOrderSlavePromotionDiscountRate DiscountType  \\\n",
       "0                                   0.0         滿額折現   \n",
       "1                                   0.0         滿額折現   \n",
       "2                                   0.0         滿額折現   \n",
       "3                                   0.0         滿額折現   \n",
       "4                                   0.0         滿額折現   \n",
       "\n",
       "   PromotionCondition_DiscountPrice  PromotionCondition_DiscountRate  \\\n",
       "0                             100.0                              0.0   \n",
       "1                             100.0                              0.0   \n",
       "2                             100.0                              0.0   \n",
       "3                             100.0                              0.0   \n",
       "4                             100.0                              0.0   \n",
       "\n",
       "   PromotionCondition_TotalPrice  PromotionCondition_TotalQty  \\\n",
       "0                         1000.0                            0   \n",
       "1                         1000.0                            0   \n",
       "2                         1000.0                            0   \n",
       "3                         1000.0                            0   \n",
       "4                         1000.0                            0   \n",
       "\n",
       "    PromotionStartDateTime     PromotionEndDateTime  \n",
       "0  2017-07-10 11:00:00.000  2017-07-31 10:59:00.000  \n",
       "1  2017-07-10 11:00:00.000  2017-07-31 10:59:00.000  \n",
       "2  2017-07-10 11:00:00.000  2017-07-31 10:59:00.000  \n",
       "3  2017-07-10 11:00:00.000  2017-07-31 10:59:00.000  \n",
       "4  2017-07-10 11:00:00.000  2017-07-31 10:59:00.000  "
      ]
     },
     "execution_count": 2,
     "metadata": {},
     "output_type": "execute_result"
    },
    {
     "name": "stdout",
     "output_type": "stream",
     "text": [
      "<class 'pandas.core.frame.DataFrame'>\n",
      "RangeIndex: 4011064 entries, 0 to 4011063\n",
      "Data columns (total 13 columns):\n",
      "SalesOrderSlaveId                               int64\n",
      "PromotionId                                     int64\n",
      "SalesOrderSlavePromotionDiscount                float64\n",
      "SalesOrderSlavePromotionDiscountAllocated       float64\n",
      "SalesOrderSlavePromotionDiscountAllocatedQty    int64\n",
      "SalesOrderSlavePromotionDiscountRate            float64\n",
      "DiscountType                                    object\n",
      "PromotionCondition_DiscountPrice                float64\n",
      "PromotionCondition_DiscountRate                 float64\n",
      "PromotionCondition_TotalPrice                   float64\n",
      "PromotionCondition_TotalQty                     int64\n",
      "PromotionStartDateTime                          object\n",
      "PromotionEndDateTime                            object\n",
      "dtypes: float64(6), int64(4), object(3)\n",
      "memory usage: 397.8+ MB\n"
     ]
    },
    {
     "data": {
      "text/plain": [
       "(4011064, 13)"
      ]
     },
     "execution_count": 2,
     "metadata": {},
     "output_type": "execute_result"
    }
   ],
   "source": [
    "df = pd.read_csv('../../NTU_大數據與商業分析Datasets/PromotionOrders.csv')\n",
    "df.head()\n",
    "df.info()\n",
    "df.shape"
   ]
  },
  {
   "cell_type": "markdown",
   "metadata": {},
   "source": [
    "---\n",
    "### 讀取 ECoupon.csv 並觀察其部份內容\n",
    "\n",
    "|Columns|Meaning|\n",
    "|---|---|\n",
    "|ECouponId|折價券編號|\n",
    "|ECouponTypeDef|折價券類型|\n",
    "|ECouponStartDateTime|折價券設定開始時間|\n",
    "|ECouponEndDateTime|折價券設定結束時間|\n",
    "|ECouponUsingStartDateTime|折價券開始使用日期|\n",
    "|ECouponUsingEndDateTime|折價券結束使用日期|\n",
    "|ECouponDiscountPrice|折價券面額|\n",
    "|ECoupnMaxDiscountLimit|最大折抵折數|"
   ]
  },
  {
   "cell_type": "code",
   "execution_count": 3,
   "metadata": {
    "scrolled": true
   },
   "outputs": [
    {
     "data": {
      "text/html": [
       "<div>\n",
       "<style scoped>\n",
       "    .dataframe tbody tr th:only-of-type {\n",
       "        vertical-align: middle;\n",
       "    }\n",
       "\n",
       "    .dataframe tbody tr th {\n",
       "        vertical-align: top;\n",
       "    }\n",
       "\n",
       "    .dataframe thead th {\n",
       "        text-align: right;\n",
       "    }\n",
       "</style>\n",
       "<table border=\"1\" class=\"dataframe\">\n",
       "  <thead>\n",
       "    <tr style=\"text-align: right;\">\n",
       "      <th></th>\n",
       "      <th>ECouponId</th>\n",
       "      <th>ECouponTypeDef</th>\n",
       "      <th>ECouponStartDateTime</th>\n",
       "      <th>ECouponEndDateTime</th>\n",
       "      <th>ECouponUsingStartDateTime</th>\n",
       "      <th>ECouponUsingEndDateTime</th>\n",
       "      <th>ECouponDiscountPrice</th>\n",
       "      <th>ECouponMaxDiscountLimit</th>\n",
       "    </tr>\n",
       "  </thead>\n",
       "  <tbody>\n",
       "    <tr>\n",
       "      <th>0</th>\n",
       "      <td>3046</td>\n",
       "      <td>DrawOut</td>\n",
       "      <td>2015-05-16 00:00:00</td>\n",
       "      <td>2015-05-17 23:59:00</td>\n",
       "      <td>2015-05-16 00:00:00</td>\n",
       "      <td>2015-05-17 23:59:00</td>\n",
       "      <td>50.0</td>\n",
       "      <td>0.3</td>\n",
       "    </tr>\n",
       "    <tr>\n",
       "      <th>1</th>\n",
       "      <td>3086</td>\n",
       "      <td>OpenCard</td>\n",
       "      <td>2015-05-20 15:00:00</td>\n",
       "      <td>2015-06-03 23:59:00</td>\n",
       "      <td>2015-05-20 15:00:00</td>\n",
       "      <td>2015-06-03 23:59:00</td>\n",
       "      <td>50.0</td>\n",
       "      <td>0.3</td>\n",
       "    </tr>\n",
       "    <tr>\n",
       "      <th>2</th>\n",
       "      <td>3111</td>\n",
       "      <td>DrawOut</td>\n",
       "      <td>2015-05-23 00:00:00</td>\n",
       "      <td>2015-05-24 23:59:00</td>\n",
       "      <td>2015-05-23 00:00:00</td>\n",
       "      <td>2015-05-24 23:59:00</td>\n",
       "      <td>50.0</td>\n",
       "      <td>0.3</td>\n",
       "    </tr>\n",
       "    <tr>\n",
       "      <th>3</th>\n",
       "      <td>3225</td>\n",
       "      <td>DrawOut</td>\n",
       "      <td>2015-05-30 00:00:00</td>\n",
       "      <td>2015-05-31 23:59:00</td>\n",
       "      <td>2015-05-30 00:00:00</td>\n",
       "      <td>2015-05-31 23:59:00</td>\n",
       "      <td>50.0</td>\n",
       "      <td>0.3</td>\n",
       "    </tr>\n",
       "    <tr>\n",
       "      <th>4</th>\n",
       "      <td>3280</td>\n",
       "      <td>OpenCard</td>\n",
       "      <td>2015-06-04 00:00:00</td>\n",
       "      <td>2015-06-17 00:00:00</td>\n",
       "      <td>2015-06-04 00:00:00</td>\n",
       "      <td>2015-06-17 00:00:00</td>\n",
       "      <td>50.0</td>\n",
       "      <td>0.3</td>\n",
       "    </tr>\n",
       "  </tbody>\n",
       "</table>\n",
       "</div>"
      ],
      "text/plain": [
       "   ECouponId ECouponTypeDef ECouponStartDateTime   ECouponEndDateTime  \\\n",
       "0       3046        DrawOut  2015-05-16 00:00:00  2015-05-17 23:59:00   \n",
       "1       3086       OpenCard  2015-05-20 15:00:00  2015-06-03 23:59:00   \n",
       "2       3111        DrawOut  2015-05-23 00:00:00  2015-05-24 23:59:00   \n",
       "3       3225        DrawOut  2015-05-30 00:00:00  2015-05-31 23:59:00   \n",
       "4       3280       OpenCard  2015-06-04 00:00:00  2015-06-17 00:00:00   \n",
       "\n",
       "  ECouponUsingStartDateTime ECouponUsingEndDateTime  ECouponDiscountPrice  \\\n",
       "0       2015-05-16 00:00:00     2015-05-17 23:59:00                  50.0   \n",
       "1       2015-05-20 15:00:00     2015-06-03 23:59:00                  50.0   \n",
       "2       2015-05-23 00:00:00     2015-05-24 23:59:00                  50.0   \n",
       "3       2015-05-30 00:00:00     2015-05-31 23:59:00                  50.0   \n",
       "4       2015-06-04 00:00:00     2015-06-17 00:00:00                  50.0   \n",
       "\n",
       "   ECouponMaxDiscountLimit  \n",
       "0                      0.3  \n",
       "1                      0.3  \n",
       "2                      0.3  \n",
       "3                      0.3  \n",
       "4                      0.3  "
      ]
     },
     "execution_count": 3,
     "metadata": {},
     "output_type": "execute_result"
    },
    {
     "name": "stdout",
     "output_type": "stream",
     "text": [
      "<class 'pandas.core.frame.DataFrame'>\n",
      "RangeIndex: 261 entries, 0 to 260\n",
      "Data columns (total 8 columns):\n",
      "ECouponId                    261 non-null int64\n",
      "ECouponTypeDef               261 non-null object\n",
      "ECouponStartDateTime         261 non-null object\n",
      "ECouponEndDateTime           261 non-null object\n",
      "ECouponUsingStartDateTime    261 non-null object\n",
      "ECouponUsingEndDateTime      261 non-null object\n",
      "ECouponDiscountPrice         261 non-null float64\n",
      "ECouponMaxDiscountLimit      261 non-null float64\n",
      "dtypes: float64(2), int64(1), object(5)\n",
      "memory usage: 16.4+ KB\n"
     ]
    },
    {
     "data": {
      "text/plain": [
       "(261, 8)"
      ]
     },
     "execution_count": 3,
     "metadata": {},
     "output_type": "execute_result"
    }
   ],
   "source": [
    "df = pd.read_csv('../../NTU_大數據與商業分析Datasets/ECoupon.csv')\n",
    "df.head()\n",
    "df.info()\n",
    "df.shape"
   ]
  },
  {
   "cell_type": "markdown",
   "metadata": {},
   "source": [
    "---\n",
    "### 讀取 Member.csv 並觀察其部份內容\n",
    "\n",
    "|Columns|Meaning|\n",
    "|---|---|\n",
    "|MemberId|會員編號|\n",
    "|Birthday|生日|\n",
    "|GenderTypeDef|性別|\n",
    "|RegisterDateTime|註冊日期|\n",
    "|RegisterSourceTypeDef|註冊管道|\n",
    "|MinOrderDate|首購日期|\n",
    "|OpenCardPresent|開卡禮 PromotionId ( 若無則為 0)|\n",
    "|LastBirthdayPresentYear|上次領取生日禮年份|\n",
    "|IsInBlackList|是否為黑名單|"
   ]
  },
  {
   "cell_type": "code",
   "execution_count": 4,
   "metadata": {
    "scrolled": true
   },
   "outputs": [
    {
     "data": {
      "text/html": [
       "<div>\n",
       "<style scoped>\n",
       "    .dataframe tbody tr th:only-of-type {\n",
       "        vertical-align: middle;\n",
       "    }\n",
       "\n",
       "    .dataframe tbody tr th {\n",
       "        vertical-align: top;\n",
       "    }\n",
       "\n",
       "    .dataframe thead th {\n",
       "        text-align: right;\n",
       "    }\n",
       "</style>\n",
       "<table border=\"1\" class=\"dataframe\">\n",
       "  <thead>\n",
       "    <tr style=\"text-align: right;\">\n",
       "      <th></th>\n",
       "      <th>MemberId</th>\n",
       "      <th>Birthday</th>\n",
       "      <th>GenderTypeDef</th>\n",
       "      <th>RegisterSourceTypeDef</th>\n",
       "      <th>RegisterDateTime</th>\n",
       "      <th>MinOrderDate</th>\n",
       "      <th>OpenCardPresent</th>\n",
       "      <th>LastBirthdayPresentYear</th>\n",
       "      <th>IsInBlackList</th>\n",
       "    </tr>\n",
       "  </thead>\n",
       "  <tbody>\n",
       "    <tr>\n",
       "      <th>0</th>\n",
       "      <td>1587633</td>\n",
       "      <td>NaN</td>\n",
       "      <td>NaN</td>\n",
       "      <td>Web</td>\n",
       "      <td>2016-08-05 19:45:59.670</td>\n",
       "      <td>NaN</td>\n",
       "      <td>0</td>\n",
       "      <td>0</td>\n",
       "      <td>NaN</td>\n",
       "    </tr>\n",
       "    <tr>\n",
       "      <th>1</th>\n",
       "      <td>1587634</td>\n",
       "      <td>NaN</td>\n",
       "      <td>NaN</td>\n",
       "      <td>Web</td>\n",
       "      <td>2016-10-27 21:25:22.907</td>\n",
       "      <td>NaN</td>\n",
       "      <td>0</td>\n",
       "      <td>0</td>\n",
       "      <td>NaN</td>\n",
       "    </tr>\n",
       "    <tr>\n",
       "      <th>2</th>\n",
       "      <td>1587658</td>\n",
       "      <td>NaN</td>\n",
       "      <td>NaN</td>\n",
       "      <td>Web</td>\n",
       "      <td>2015-08-11 19:11:09.030</td>\n",
       "      <td>NaN</td>\n",
       "      <td>0</td>\n",
       "      <td>0</td>\n",
       "      <td>NaN</td>\n",
       "    </tr>\n",
       "    <tr>\n",
       "      <th>3</th>\n",
       "      <td>1587809</td>\n",
       "      <td>NaN</td>\n",
       "      <td>NaN</td>\n",
       "      <td>Web</td>\n",
       "      <td>2015-08-11 19:53:32.397</td>\n",
       "      <td>NaN</td>\n",
       "      <td>0</td>\n",
       "      <td>0</td>\n",
       "      <td>NaN</td>\n",
       "    </tr>\n",
       "    <tr>\n",
       "      <th>4</th>\n",
       "      <td>1587830</td>\n",
       "      <td>NaN</td>\n",
       "      <td>NaN</td>\n",
       "      <td>Web</td>\n",
       "      <td>2017-06-03 17:33:03.987</td>\n",
       "      <td>NaN</td>\n",
       "      <td>0</td>\n",
       "      <td>0</td>\n",
       "      <td>NaN</td>\n",
       "    </tr>\n",
       "  </tbody>\n",
       "</table>\n",
       "</div>"
      ],
      "text/plain": [
       "   MemberId Birthday GenderTypeDef RegisterSourceTypeDef  \\\n",
       "0   1587633      NaN           NaN                   Web   \n",
       "1   1587634      NaN           NaN                   Web   \n",
       "2   1587658      NaN           NaN                   Web   \n",
       "3   1587809      NaN           NaN                   Web   \n",
       "4   1587830      NaN           NaN                   Web   \n",
       "\n",
       "          RegisterDateTime MinOrderDate  OpenCardPresent  \\\n",
       "0  2016-08-05 19:45:59.670          NaN                0   \n",
       "1  2016-10-27 21:25:22.907          NaN                0   \n",
       "2  2015-08-11 19:11:09.030          NaN                0   \n",
       "3  2015-08-11 19:53:32.397          NaN                0   \n",
       "4  2017-06-03 17:33:03.987          NaN                0   \n",
       "\n",
       "   LastBirthdayPresentYear IsInBlackList  \n",
       "0                        0           NaN  \n",
       "1                        0           NaN  \n",
       "2                        0           NaN  \n",
       "3                        0           NaN  \n",
       "4                        0           NaN  "
      ]
     },
     "execution_count": 4,
     "metadata": {},
     "output_type": "execute_result"
    },
    {
     "name": "stdout",
     "output_type": "stream",
     "text": [
      "<class 'pandas.core.frame.DataFrame'>\n",
      "RangeIndex: 859146 entries, 0 to 859145\n",
      "Data columns (total 9 columns):\n",
      "MemberId                   859146 non-null int64\n",
      "Birthday                   237275 non-null object\n",
      "GenderTypeDef              237276 non-null object\n",
      "RegisterSourceTypeDef      829143 non-null object\n",
      "RegisterDateTime           859146 non-null object\n",
      "MinOrderDate               562300 non-null object\n",
      "OpenCardPresent            859146 non-null int64\n",
      "LastBirthdayPresentYear    859146 non-null int64\n",
      "IsInBlackList              1004 non-null object\n",
      "dtypes: int64(3), object(6)\n",
      "memory usage: 59.0+ MB\n"
     ]
    },
    {
     "data": {
      "text/plain": [
       "(859146, 9)"
      ]
     },
     "execution_count": 4,
     "metadata": {},
     "output_type": "execute_result"
    }
   ],
   "source": [
    "df = pd.read_csv('../../NTU_大數據與商業分析Datasets/Member.csv', low_memory=False)\n",
    "df.head()\n",
    "df.info()\n",
    "df.shape"
   ]
  },
  {
   "cell_type": "markdown",
   "metadata": {},
   "source": [
    "---\n",
    "### 讀取 Order.csv 並觀察其部份內容\n",
    "\n",
    "|Columns|Meaning|\n",
    "|---|---|\n",
    "|DateId|日期|\n",
    "|MemberId|會員編號|\n",
    "|OrderGroupCode|購物車編號|\n",
    "|TrackSourceTypeDef|訂單來源|\n",
    "|TrackDeviceTypeDef|訂單裝置來源|\n",
    "|PayProfileTypeDef|付款方式|\n",
    "|SalesOrderSlaveId|訂單明細|\n",
    "|SalePageId|購買商品|\n",
    "|IsMajor / IsGif / IsSalePageGigt|是否為主件 / 是否為贈品 / 是否為滿額贈品|\n",
    "|Quantity|購買數量|\n",
    "|UnitPrice|商品單價|\n",
    "|PromotionDiscount|折扣金額|\n",
    "|ECouponId|折價券編號|\n",
    "|ECouponDiscount|折價券折抵金額|\n",
    "|SalesOrderTotalPayment|訂單明細金額|\n",
    "|SalesOrderSlaveDateTime|訂單成立時間|\n",
    "|City / District / ZipCode|訂單配送城市 / 區域 / 郵遞區號|\n",
    "|StoreName|訂單配送超商名稱|\n",
    "|StoreId|訂單配送超商 ID|\n",
    "|DeliveryTypeDef|訂單配送方式|\n",
    "|StatusDef|訂單狀態|\n",
    "|ReturnGoodsDateId|退貨日期|\n",
    "|CauseDef|退貨原因|"
   ]
  },
  {
   "cell_type": "code",
   "execution_count": 5,
   "metadata": {
    "scrolled": true
   },
   "outputs": [
    {
     "data": {
      "text/html": [
       "<div>\n",
       "<style scoped>\n",
       "    .dataframe tbody tr th:only-of-type {\n",
       "        vertical-align: middle;\n",
       "    }\n",
       "\n",
       "    .dataframe tbody tr th {\n",
       "        vertical-align: top;\n",
       "    }\n",
       "\n",
       "    .dataframe thead th {\n",
       "        text-align: right;\n",
       "    }\n",
       "</style>\n",
       "<table border=\"1\" class=\"dataframe\">\n",
       "  <thead>\n",
       "    <tr style=\"text-align: right;\">\n",
       "      <th></th>\n",
       "      <th>DateId</th>\n",
       "      <th>MemberId</th>\n",
       "      <th>OrderGroupCode</th>\n",
       "      <th>TrackSourceTypeDef</th>\n",
       "      <th>TrackDeviceTypeDef</th>\n",
       "      <th>PayProfileTypeDef</th>\n",
       "      <th>SalesOrderSlaveId</th>\n",
       "      <th>SalePageId</th>\n",
       "      <th>IsMajor</th>\n",
       "      <th>IsGift</th>\n",
       "      <th>...</th>\n",
       "      <th>SalesOrderReceiverId</th>\n",
       "      <th>City</th>\n",
       "      <th>District</th>\n",
       "      <th>ZipCode</th>\n",
       "      <th>StoreName</th>\n",
       "      <th>StoreId</th>\n",
       "      <th>DeliverTypeDef</th>\n",
       "      <th>StatusDef</th>\n",
       "      <th>ReturnGoodsDateId</th>\n",
       "      <th>CauseDef</th>\n",
       "    </tr>\n",
       "  </thead>\n",
       "  <tbody>\n",
       "    <tr>\n",
       "      <th>0</th>\n",
       "      <td>20150703</td>\n",
       "      <td>1388133</td>\n",
       "      <td>b'\\xd0_\\x8eby\\xe8\\x88\\xa5\\x85\\xe4\\x15\\nMC\\xeaO...</td>\n",
       "      <td>Web</td>\n",
       "      <td>Mobile</td>\n",
       "      <td>SevenEleven</td>\n",
       "      <td>4457777</td>\n",
       "      <td>1242871</td>\n",
       "      <td>True</td>\n",
       "      <td>False</td>\n",
       "      <td>...</td>\n",
       "      <td>1480890</td>\n",
       "      <td>嘉義縣</td>\n",
       "      <td>水上鄉</td>\n",
       "      <td>608.0</td>\n",
       "      <td>中庄門市</td>\n",
       "      <td>910828</td>\n",
       "      <td>SevenEleven</td>\n",
       "      <td>Finish</td>\n",
       "      <td>NaN</td>\n",
       "      <td>NaN</td>\n",
       "    </tr>\n",
       "    <tr>\n",
       "      <th>1</th>\n",
       "      <td>20150703</td>\n",
       "      <td>1388133</td>\n",
       "      <td>b'\\xd0_\\x8eby\\xe8\\x88\\xa5\\x85\\xe4\\x15\\nMC\\xeaO...</td>\n",
       "      <td>Web</td>\n",
       "      <td>Mobile</td>\n",
       "      <td>SevenEleven</td>\n",
       "      <td>4457778</td>\n",
       "      <td>1242880</td>\n",
       "      <td>True</td>\n",
       "      <td>False</td>\n",
       "      <td>...</td>\n",
       "      <td>1480890</td>\n",
       "      <td>嘉義縣</td>\n",
       "      <td>水上鄉</td>\n",
       "      <td>608.0</td>\n",
       "      <td>中庄門市</td>\n",
       "      <td>910828</td>\n",
       "      <td>SevenEleven</td>\n",
       "      <td>Finish</td>\n",
       "      <td>NaN</td>\n",
       "      <td>NaN</td>\n",
       "    </tr>\n",
       "    <tr>\n",
       "      <th>2</th>\n",
       "      <td>20150703</td>\n",
       "      <td>1388133</td>\n",
       "      <td>b'\\xd0_\\x8eby\\xe8\\x88\\xa5\\x85\\xe4\\x15\\nMC\\xeaO...</td>\n",
       "      <td>Web</td>\n",
       "      <td>Mobile</td>\n",
       "      <td>SevenEleven</td>\n",
       "      <td>4457779</td>\n",
       "      <td>1242880</td>\n",
       "      <td>True</td>\n",
       "      <td>False</td>\n",
       "      <td>...</td>\n",
       "      <td>1480890</td>\n",
       "      <td>嘉義縣</td>\n",
       "      <td>水上鄉</td>\n",
       "      <td>608.0</td>\n",
       "      <td>中庄門市</td>\n",
       "      <td>910828</td>\n",
       "      <td>SevenEleven</td>\n",
       "      <td>Finish</td>\n",
       "      <td>NaN</td>\n",
       "      <td>NaN</td>\n",
       "    </tr>\n",
       "    <tr>\n",
       "      <th>3</th>\n",
       "      <td>20150703</td>\n",
       "      <td>1388133</td>\n",
       "      <td>b'\\xd0_\\x8eby\\xe8\\x88\\xa5\\x85\\xe4\\x15\\nMC\\xeaO...</td>\n",
       "      <td>Web</td>\n",
       "      <td>Mobile</td>\n",
       "      <td>SevenEleven</td>\n",
       "      <td>4457780</td>\n",
       "      <td>1175574</td>\n",
       "      <td>True</td>\n",
       "      <td>False</td>\n",
       "      <td>...</td>\n",
       "      <td>1480890</td>\n",
       "      <td>嘉義縣</td>\n",
       "      <td>水上鄉</td>\n",
       "      <td>608.0</td>\n",
       "      <td>中庄門市</td>\n",
       "      <td>910828</td>\n",
       "      <td>SevenEleven</td>\n",
       "      <td>Finish</td>\n",
       "      <td>NaN</td>\n",
       "      <td>NaN</td>\n",
       "    </tr>\n",
       "    <tr>\n",
       "      <th>4</th>\n",
       "      <td>20150703</td>\n",
       "      <td>365787</td>\n",
       "      <td>b\"\\x04?}pe$m\\x7f\\x85\\xa0y\\x81'e5\\xca\\xbb\\xf9\\x...</td>\n",
       "      <td>Web</td>\n",
       "      <td>Mobile</td>\n",
       "      <td>SevenEleven</td>\n",
       "      <td>4457791</td>\n",
       "      <td>1194488</td>\n",
       "      <td>True</td>\n",
       "      <td>False</td>\n",
       "      <td>...</td>\n",
       "      <td>1480896</td>\n",
       "      <td>桃園市</td>\n",
       "      <td>中壢區</td>\n",
       "      <td>320.0</td>\n",
       "      <td>復華門市</td>\n",
       "      <td>114071</td>\n",
       "      <td>SevenEleven</td>\n",
       "      <td>Finish</td>\n",
       "      <td>NaN</td>\n",
       "      <td>NaN</td>\n",
       "    </tr>\n",
       "  </tbody>\n",
       "</table>\n",
       "<p>5 rows × 28 columns</p>\n",
       "</div>"
      ],
      "text/plain": [
       "     DateId  MemberId                                     OrderGroupCode  \\\n",
       "0  20150703   1388133  b'\\xd0_\\x8eby\\xe8\\x88\\xa5\\x85\\xe4\\x15\\nMC\\xeaO...   \n",
       "1  20150703   1388133  b'\\xd0_\\x8eby\\xe8\\x88\\xa5\\x85\\xe4\\x15\\nMC\\xeaO...   \n",
       "2  20150703   1388133  b'\\xd0_\\x8eby\\xe8\\x88\\xa5\\x85\\xe4\\x15\\nMC\\xeaO...   \n",
       "3  20150703   1388133  b'\\xd0_\\x8eby\\xe8\\x88\\xa5\\x85\\xe4\\x15\\nMC\\xeaO...   \n",
       "4  20150703    365787  b\"\\x04?}pe$m\\x7f\\x85\\xa0y\\x81'e5\\xca\\xbb\\xf9\\x...   \n",
       "\n",
       "  TrackSourceTypeDef TrackDeviceTypeDef PayProfileTypeDef  SalesOrderSlaveId  \\\n",
       "0                Web             Mobile       SevenEleven            4457777   \n",
       "1                Web             Mobile       SevenEleven            4457778   \n",
       "2                Web             Mobile       SevenEleven            4457779   \n",
       "3                Web             Mobile       SevenEleven            4457780   \n",
       "4                Web             Mobile       SevenEleven            4457791   \n",
       "\n",
       "   SalePageId  IsMajor  IsGift   ...     SalesOrderReceiverId  City  District  \\\n",
       "0     1242871     True   False   ...                  1480890   嘉義縣       水上鄉   \n",
       "1     1242880     True   False   ...                  1480890   嘉義縣       水上鄉   \n",
       "2     1242880     True   False   ...                  1480890   嘉義縣       水上鄉   \n",
       "3     1175574     True   False   ...                  1480890   嘉義縣       水上鄉   \n",
       "4     1194488     True   False   ...                  1480896   桃園市       中壢區   \n",
       "\n",
       "   ZipCode  StoreName  StoreId  DeliverTypeDef StatusDef  ReturnGoodsDateId  \\\n",
       "0    608.0       中庄門市   910828     SevenEleven    Finish                NaN   \n",
       "1    608.0       中庄門市   910828     SevenEleven    Finish                NaN   \n",
       "2    608.0       中庄門市   910828     SevenEleven    Finish                NaN   \n",
       "3    608.0       中庄門市   910828     SevenEleven    Finish                NaN   \n",
       "4    320.0       復華門市   114071     SevenEleven    Finish                NaN   \n",
       "\n",
       "  CauseDef  \n",
       "0      NaN  \n",
       "1      NaN  \n",
       "2      NaN  \n",
       "3      NaN  \n",
       "4      NaN  \n",
       "\n",
       "[5 rows x 28 columns]"
      ]
     },
     "execution_count": 5,
     "metadata": {},
     "output_type": "execute_result"
    },
    {
     "name": "stdout",
     "output_type": "stream",
     "text": [
      "<class 'pandas.core.frame.DataFrame'>\n",
      "RangeIndex: 5495276 entries, 0 to 5495275\n",
      "Data columns (total 28 columns):\n",
      "DateId                         int64\n",
      "MemberId                       int64\n",
      "OrderGroupCode                 object\n",
      "TrackSourceTypeDef             object\n",
      "TrackDeviceTypeDef             object\n",
      "PayProfileTypeDef              object\n",
      "SalesOrderSlaveId              int64\n",
      "SalePageId                     int64\n",
      "IsMajor                        bool\n",
      "IsGift                         bool\n",
      "IsSalePageGift                 bool\n",
      "Quantity                       int64\n",
      "UnitPrice                      float64\n",
      "PromotionDiscount              float64\n",
      "ECouponId                      int64\n",
      "ECouponDiscount                float64\n",
      "SalesOrderSlaveTotalPayment    float64\n",
      "SalesOrderSlaveDateTime        object\n",
      "SalesOrderReceiverId           int64\n",
      "City                           object\n",
      "District                       object\n",
      "ZipCode                        float64\n",
      "StoreName                      object\n",
      "StoreId                        object\n",
      "DeliverTypeDef                 object\n",
      "StatusDef                      object\n",
      "ReturnGoodsDateId              float64\n",
      "CauseDef                       object\n",
      "dtypes: bool(3), float64(6), int64(7), object(12)\n",
      "memory usage: 1.0+ GB\n"
     ]
    },
    {
     "data": {
      "text/plain": [
       "(5495276, 28)"
      ]
     },
     "execution_count": 5,
     "metadata": {},
     "output_type": "execute_result"
    }
   ],
   "source": [
    "df = pd.read_csv('../../NTU_大數據與商業分析Datasets/Orders.csv', low_memory=False)\n",
    "df.head()\n",
    "df.info()\n",
    "df.shape"
   ]
  },
  {
   "cell_type": "markdown",
   "metadata": {},
   "source": [
    "---\n",
    "##### 查看有興趣的資料數值"
   ]
  },
  {
   "cell_type": "code",
   "execution_count": 6,
   "metadata": {},
   "outputs": [
    {
     "name": "stdout",
     "output_type": "stream",
     "text": [
      "['Web' 'AndroidApp' 'iOSApp']\n",
      "['Mobile' 'PC' 'Pad']\n",
      "['SevenEleven' 'Family' 'CreditCardOnce' 'ATM' 'LinePay']\n",
      "[nan '其他' '商品質感/品質不佳' '改買了別款或改付款方式' '商品有瑕疵或故障' '重複購買或不需要了'\n",
      " '規格不符、商品與網頁標示不清' '價格比較貴' '商品寄錯或缺件' '送貨速度太慢' '尺寸不合' '商品使用不如預期']\n"
     ]
    }
   ],
   "source": [
    "print(pd.unique(df['TrackSourceTypeDef']))\n",
    "print(pd.unique(df['TrackDeviceTypeDef']))\n",
    "print(pd.unique(df['PayProfileTypeDef']))\n",
    "print(pd.unique(df['CauseDef']))"
   ]
  },
  {
   "cell_type": "markdown",
   "metadata": {},
   "source": [
    "---\n",
    "##### 統計裝置及軟體使用比例"
   ]
  },
  {
   "cell_type": "code",
   "execution_count": 7,
   "metadata": {
    "scrolled": false
   },
   "outputs": [
    {
     "data": {
      "text/plain": [
       "TrackDeviceTypeDef  TrackSourceTypeDef\n",
       "Mobile              AndroidApp            1164055\n",
       "                    Web                   2304710\n",
       "                    iOSApp                1160860\n",
       "PC                  Web                    865384\n",
       "Pad                 iOSApp                    267\n",
       "dtype: int64"
      ]
     },
     "execution_count": 7,
     "metadata": {},
     "output_type": "execute_result"
    },
    {
     "data": {
      "text/plain": [
       "<matplotlib.axes._subplots.AxesSubplot at 0x7f917b5139e8>"
      ]
     },
     "execution_count": 7,
     "metadata": {},
     "output_type": "execute_result"
    },
    {
     "data": {
      "image/png": "[encoded data removed]",
      "text/plain": [
       "<Figure size 432x288 with 1 Axes>"
      ]
     },
     "metadata": {
      "needs_background": "light"
     },
     "output_type": "display_data"
    }
   ],
   "source": [
    "device = df.groupby(['TrackDeviceTypeDef', 'TrackSourceTypeDef']).size()\n",
    "device\n",
    "device.plot.barh()"
   ]
  },
  {
   "cell_type": "markdown",
   "metadata": {},
   "source": [
    "---\n",
    "##### 統計付款方式"
   ]
  },
  {
   "cell_type": "code",
   "execution_count": 8,
   "metadata": {
    "scrolled": false
   },
   "outputs": [
    {
     "data": {
      "text/plain": [
       "PayProfileTypeDef\n",
       "ATM                  9133\n",
       "CreditCardOnce     484949\n",
       "Family            2037871\n",
       "LinePay              4188\n",
       "SevenEleven       2959135\n",
       "dtype: int64"
      ]
     },
     "execution_count": 8,
     "metadata": {},
     "output_type": "execute_result"
    },
    {
     "data": {
      "text/plain": [
       "<matplotlib.axes._subplots.AxesSubplot at 0x7f917b53c198>"
      ]
     },
     "execution_count": 8,
     "metadata": {},
     "output_type": "execute_result"
    },
    {
     "data": {
      "image/png": "[encoded data removed]",
      "text/plain": [
       "<Figure size 432x288 with 1 Axes>"
      ]
     },
     "metadata": {
      "needs_background": "light"
     },
     "output_type": "display_data"
    }
   ],
   "source": [
    "payment = df.groupby(['PayProfileTypeDef']).size()\n",
    "payment\n",
    "payment.plot.barh()"
   ]
  },
  {
   "cell_type": "markdown",
   "metadata": {},
   "source": [
    "---\n",
    "##### 統計退貨原因"
   ]
  },
  {
   "cell_type": "code",
   "execution_count": 9,
   "metadata": {},
   "outputs": [
    {
     "data": {
      "text/plain": [
       "CauseDef\n",
       "價格比較貴              1580\n",
       "其他                10712\n",
       "商品使用不如預期           7028\n",
       "商品寄錯或缺件            1632\n",
       "商品有瑕疵或故障          14681\n",
       "商品質感/品質不佳         74062\n",
       "尺寸不合              25266\n",
       "改買了別款或改付款方式       29909\n",
       "規格不符、商品與網頁標示不清    55468\n",
       "送貨速度太慢             6000\n",
       "重複購買或不需要了         56907\n",
       "dtype: int64"
      ]
     },
     "execution_count": 9,
     "metadata": {},
     "output_type": "execute_result"
    },
    {
     "data": {
      "text/plain": [
       "<matplotlib.axes._subplots.AxesSubplot at 0x7f91a970cda0>"
      ]
     },
     "execution_count": 9,
     "metadata": {},
     "output_type": "execute_result"
    },
    {
     "data": {
      "image/png": "[encoded data removed]",
      "text/plain": [
       "<Figure size 432x288 with 1 Axes>"
      ]
     },
     "metadata": {
      "needs_background": "light"
     },
     "output_type": "display_data"
    }
   ],
   "source": [
    "group = df.groupby(['CauseDef']).size()\n",
    "group\n",
    "group.plot.bar()"
   ]
  },
  {
   "cell_type": "markdown",
   "metadata": {
    "scrolled": false
   },
   "source": [
    "---\n",
    "##### 統計單價與購買數量"
   ]
  },
  {
   "cell_type": "code",
   "execution_count": 10,
   "metadata": {},
   "outputs": [
    {
     "data": {
      "text/plain": [
       "UnitPrice  Quantity\n",
       "0.0        1           134197\n",
       "1.0        1             1519\n",
       "           2               24\n",
       "           3               18\n",
       "           4               15\n",
       "dtype: int64"
      ]
     },
     "execution_count": 10,
     "metadata": {},
     "output_type": "execute_result"
    },
    {
     "data": {
      "text/plain": [
       "UnitPrice  Quantity\n",
       "2800.0     1            1\n",
       "2900.0     1           11\n",
       "3200.0     1            3\n",
       "3350.0     1            5\n",
       "3500.0     1            1\n",
       "dtype: int64"
      ]
     },
     "execution_count": 10,
     "metadata": {},
     "output_type": "execute_result"
    },
    {
     "data": {
      "text/plain": [
       "<matplotlib.axes._subplots.AxesSubplot at 0x7f91a96e1b70>"
      ]
     },
     "execution_count": 10,
     "metadata": {},
     "output_type": "execute_result"
    },
    {
     "data": {
      "image/png": "[encoded data removed]",
      "text/plain": [
       "<Figure size 432x288 with 1 Axes>"
      ]
     },
     "metadata": {
      "needs_background": "light"
     },
     "output_type": "display_data"
    }
   ],
   "source": [
    "price = df.groupby(['UnitPrice', 'Quantity']).size()\n",
    "price.head()\n",
    "price.tail()\n",
    "price[price>1e5].plot.barh()"
   ]
  },
  {
   "cell_type": "markdown",
   "metadata": {},
   "source": [
    "---\n",
    "##### 統計購買力"
   ]
  },
  {
   "cell_type": "code",
   "execution_count": 11,
   "metadata": {},
   "outputs": [
    {
     "data": {
      "text/plain": [
       "count    5495276.00\n",
       "mean         267.70\n",
       "std          134.27\n",
       "min            0.00\n",
       "25%          199.00\n",
       "50%          240.00\n",
       "75%          320.00\n",
       "max        16400.00\n",
       "dtype: object"
      ]
     },
     "execution_count": 11,
     "metadata": {},
     "output_type": "execute_result"
    },
    {
     "data": {
      "text/plain": [
       "199.0    1573304\n",
       "dtype: int64"
      ]
     },
     "execution_count": 11,
     "metadata": {},
     "output_type": "execute_result"
    },
    {
     "data": {
      "text/plain": [
       "<matplotlib.axes._subplots.AxesSubplot at 0x7f91a96be908>"
      ]
     },
     "execution_count": 11,
     "metadata": {},
     "output_type": "execute_result"
    },
    {
     "data": {
      "image/png": "[encoded data removed]",
      "text/plain": [
       "<Figure size 432x288 with 1 Axes>"
      ]
     },
     "metadata": {
      "needs_background": "light"
     },
     "output_type": "display_data"
    }
   ],
   "source": [
    "value = (df['Quantity']*df['UnitPrice'])\n",
    "value.describe().apply(lambda x: format(x, '.2f'))\n",
    "value = value.value_counts().sort_index()\n",
    "value[value == value.max()]\n",
    "value.plot.area()"
   ]
  }
 ],
 "metadata": {
  "kernelspec": {
   "display_name": "Python 3",
   "language": "python",
   "name": "python3"
  },
  "language_info": {
   "codemirror_mode": {
    "name": "ipython",
    "version": 3
   },
   "file_extension": ".py",
   "mimetype": "text/x-python",
   "name": "python",
   "nbconvert_exporter": "python",
   "pygments_lexer": "ipython3",
   "version": "3.5.2"
  }
 },
 "nbformat": 4,
 "nbformat_minor": 2
}
