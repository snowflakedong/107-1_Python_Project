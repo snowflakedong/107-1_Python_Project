{
 "cells": [
  {
   "cell_type": "markdown",
   "metadata": {},
   "source": [
    "## 匯入需要的函式庫"
   ]
  },
  {
   "cell_type": "code",
   "execution_count": 1,
   "metadata": {},
   "outputs": [],
   "source": [
    "import pandas as pd\n",
    "\n",
    "# 結巴\n",
    "import jieba\n",
    "\n",
    "# 讀取資料用\n",
    "import glob\n",
    "import os\n",
    "\n",
    "# 清理資料\n",
    "import re\n",
    "import string"
   ]
  },
  {
   "cell_type": "markdown",
   "metadata": {},
   "source": [
    "### 讀取檔案所在的資料夾內容"
   ]
  },
  {
   "cell_type": "code",
   "execution_count": 2,
   "metadata": {},
   "outputs": [
    {
     "data": {
      "text/plain": [
       "['./106/1',\n",
       " './106/2',\n",
       " './106/3',\n",
       " './106/4',\n",
       " './106/5',\n",
       " './106/6',\n",
       " './106/7',\n",
       " './106/all 7 ratings']"
      ]
     },
     "execution_count": 2,
     "metadata": {},
     "output_type": "execute_result"
    }
   ],
   "source": [
    "# 輸入分類資料夾的位置\n",
    "path = './106'\n",
    "\n",
    "if path[len(path)-1] != '/':\n",
    "    path = path + '/'\n",
    "    \n",
    "# 紀錄分類資料夾裡的資料夾資料\n",
    "directory = glob.glob(path + '*')\n",
    "directory"
   ]
  },
  {
   "cell_type": "markdown",
   "metadata": {},
   "source": [
    "### 清理不要的資料夾"
   ]
  },
  {
   "cell_type": "code",
   "execution_count": 3,
   "metadata": {},
   "outputs": [
    {
     "data": {
      "text/plain": [
       "['./106/1', './106/2', './106/3', './106/4', './106/5', './106/6', './106/7']"
      ]
     },
     "execution_count": 3,
     "metadata": {},
     "output_type": "execute_result"
    }
   ],
   "source": [
    "directory.remove('./106/all 7 ratings')\n",
    "directory"
   ]
  },
  {
   "cell_type": "markdown",
   "metadata": {},
   "source": [
    "### 列出各資料夾內的資料"
   ]
  },
  {
   "cell_type": "code",
   "execution_count": 4,
   "metadata": {},
   "outputs": [
    {
     "name": "stdout",
     "output_type": "stream",
     "text": [
      "In folder ./106/1 :\n",
      "\t ./106/1/1062890.txt\n",
      "In folder ./106/2 :\n",
      "In folder ./106/3 :\n",
      "In folder ./106/4 :\n",
      "\t ./106/4/1062836.txt\n",
      "In folder ./106/5 :\n",
      "\t ./106/5/1062891.txt\n",
      "In folder ./106/6 :\n",
      "\t ./106/6/1062801.txt\n",
      "\t ./106/6/1062834.txt\n",
      "\t ./106/6/1062838.txt\n",
      "\t ./106/6/1062845.txt\n",
      "\t ./106/6/1062849.txt\n",
      "\t ./106/6/1062880.txt\n",
      "\t ./106/6/1062883.txt\n",
      "\t ./106/6/1062886.txt\n",
      "\t ./106/6/1062887.txt\n",
      "\t ./106/6/1062892.txt\n",
      "\t ./106/6/1065880.txt\n",
      "In folder ./106/7 :\n",
      "\t ./106/7/1062809.txt\n",
      "\t ./106/7/1062881(缺).txt\n",
      "\t ./106/7/1062882.txt\n",
      "\t ./106/7/1062884.txt\n"
     ]
    }
   ],
   "source": [
    "file = []\n",
    "for dir_name in directory:\n",
    "    print('In folder', dir_name, ':')\n",
    "    file_in_dir = []\n",
    "    for file_name in glob.glob(dir_name + '/*'):\n",
    "        print('\\t', file_name)\n",
    "        file_in_dir.append(file_name)\n",
    "    file.append(file_in_dir)"
   ]
  },
  {
   "cell_type": "markdown",
   "metadata": {},
   "source": [
    "### 讀取檔案並紀錄其 level, 檔案名稱(title), 檔案內容(documnet)"
   ]
  },
  {
   "cell_type": "code",
   "execution_count": 5,
   "metadata": {},
   "outputs": [
    {
     "name": "stdout",
     "output_type": "stream",
     "text": [
      "level : 1 , name : 1062890\n",
      "level : 4 , name : 1062836\n",
      "level : 5 , name : 1062891\n",
      "level : 6 , name : 1062801\n",
      "level : 6 , name : 1062834\n",
      "level : 6 , name : 1062838\n",
      "level : 6 , name : 1062845\n",
      "level : 6 , name : 1062849\n",
      "level : 6 , name : 1062880\n",
      "level : 6 , name : 1062883\n",
      "level : 6 , name : 1062886\n",
      "level : 6 , name : 1062887\n",
      "level : 6 , name : 1062892\n",
      "level : 6 , name : 1065880\n",
      "level : 7 , name : 1062809\n",
      "level : 7 , name : 1062881(缺)\n",
      "level : 7 , name : 1062882\n",
      "level : 7 , name : 1062884\n"
     ]
    }
   ],
   "source": [
    "title = []\n",
    "level = []\n",
    "path = []\n",
    "document = []\n",
    "for dir_name in file:\n",
    "    for file_name in dir_name:\n",
    "        path.append(file_name)\n",
    "        level.append(file_name.split('/')[-2])\n",
    "        title.append(os.path.basename(file_name).split('.')[0])\n",
    "        with open(file_name, 'r', encoding='utf-8') as data:\n",
    "            document.append(data.read())\n",
    "\n",
    "for i in range(len(level)):\n",
    "    print('level :', level[i], ', name :', title[i])"
   ]
  },
  {
   "cell_type": "markdown",
   "metadata": {},
   "source": [
    "### 顯示文件部份內容"
   ]
  },
  {
   "cell_type": "code",
   "execution_count": 6,
   "metadata": {},
   "outputs": [
    {
     "name": "stdout",
     "output_type": "stream",
     "text": [
      "------document: 1062890------\n",
      "﻿2017年景氣及市場回顧\n",
      "2017  ...  品牌」，以不負全體股東之殷切寄託。\n",
      "\n",
      "------document: 1062836------\n",
      "\"回顧106年，美國聯準會升息三次且  ...  理\n",
      "念，成為本國銀行中的優質銀行。\"\n",
      "------document: 1062891------\n",
      "﻿壹、致股東報告書\n",
      "親愛的股東女士先  ...  心目中最值得信賴的\n",
      "金融服務機構。\n",
      "\n",
      "------document: 1062801------\n",
      "﻿\"壹│致股東報告書\n",
      " 張明道\n",
      "10  ...  \n",
      "-\n",
      "穩定\n",
      "  董事長 總經理\n",
      " \"\n",
      "------document: 1062834------\n",
      "﻿\"壹 致股東報告書\n",
      "05 10 1  ...  BB+\n",
      "A-2\n",
      "Stable\n",
      "11\"\n",
      "------document: 1062838------\n",
      "\"一、106年度營業成果\n",
      "（一）國內  ...  位股東繼續不吝給予指\n",
      "導與鼓勵。\n",
      "\"\n",
      "------document: 1062845------\n",
      "\"各位女士、先生：\n",
      "回顧 106 年  ...  位金融科技發展，開發線上投保商機。\"\n",
      "------document: 1062849------\n",
      "\"各位股東女士、先生：\n",
      "回顧去年，全  ...  大價值，建構永續經營的穩固基礎。\n",
      "\"\n",
      "------document: 1062880------\n",
      "﻿一、集團 106 年度經營結果\n",
      "(  ...  t(2018/01) A a 穩定\n",
      "\n",
      "------document: 1062883------\n",
      "﻿壹、 致股東報告書\n",
      "回顧民國(下同  ...  成企業永續經營之目標。\n",
      "最後敬祝大家\n"
     ]
    }
   ],
   "source": [
    "# 要預覽的文件數量\n",
    "num_of_print_doc = 10\n",
    "# 每個文件顯示的長度\n",
    "num_of_print_len = 1000\n",
    "# 防呆\n",
    "if num_of_print_len > len(document):\n",
    "    num_of_print_len = len(document)\n",
    "\n",
    "for i in range(num_of_print_doc):\n",
    "    print('------document: {0}------'.format(title[i]))\n",
    "    print(document[i][:num_of_print_len], ' ... ', document[i][-num_of_print_len:])"
   ]
  },
  {
   "cell_type": "markdown",
   "metadata": {},
   "source": [
    "### 清除數字, 符號, 英文, 空白字元\n",
    "* True : 清除\n",
    "* False: 不清除"
   ]
  },
  {
   "cell_type": "code",
   "execution_count": 7,
   "metadata": {},
   "outputs": [],
   "source": [
    "# 移除數字\n",
    "remove_number = True\n",
    "\n",
    "# 移除符號\n",
    "remove_puncs = True\n",
    "\n",
    "# 移除英文\n",
    "remove_eng = True\n",
    "\n",
    "# 移除空白字元, 包含換行; tab; 空白等\n",
    "remove_space = False\n",
    "\n",
    "# 選擇移除的字元由什麼取代\n",
    "# 預設移除字元由空白取代\n",
    "remove_by = ' '\n",
    "\n",
    "def remove_special_char():\n",
    "    # 移除數字\n",
    "    if(remove_number):\n",
    "        for i in range(len(document)):\n",
    "            document[i] = re.sub('\\d', remove_by, document[i])\n",
    "    # 移除符號\n",
    "    if(remove_puncs):\n",
    "        puncs_Half = \"!?.#$%&'()*+,-/:;<=>@[]^_{}|│~\\\\\\\"\"\n",
    "        # 太長分兩段寫\n",
    "        puncs_Full = '！？｡＂＃＄％＆＇（）()＊＋，－／：；＜＝＞＠［＼］$＾＿｀｛｜｝～｟｠｢｣､、〃《》'\n",
    "        puncs_Full = puncs_Full + '「」『』【】〔〕〖〗〘〙〚〛`〜〝〞〟〰〾〿–—‘’‛“”„‟…‧﹏.。'\n",
    "        puncs = puncs_Half + puncs_Full\n",
    "        for i in range(len(document)):\n",
    "            text = document[i]\n",
    "            document[i] = ''\n",
    "            for word in text:\n",
    "                if word not in puncs:\n",
    "                    document[i] = document[i] + word\n",
    "                else:\n",
    "                    document[i] = document[i] + remove_by\n",
    "    # 移除英文\n",
    "    if(remove_eng):\n",
    "        for i in range(len(document)):\n",
    "            document[i] = re.sub('[a-zA-Z]', remove_by, document[i])\n",
    "    # 移除空白字元\n",
    "    if(remove_space):\n",
    "        for i in range(len(document)):\n",
    "            document[i] = re.sub('\\s', '', document[i])\n",
    "remove_special_char()"
   ]
  },
  {
   "cell_type": "markdown",
   "metadata": {},
   "source": [
    "### 印出部份結果"
   ]
  },
  {
   "cell_type": "code",
   "execution_count": 8,
   "metadata": {},
   "outputs": [
    {
     "name": "stdout",
     "output_type": "stream",
     "text": [
      "------document: 1062890------\n",
      "﻿    年景氣及市場回顧\n",
      "      ...  品牌  以不負全體股東之殷切寄託 \n",
      "\n",
      "------document: 1062836------\n",
      " 回顧   年 美國聯準會升息三次且  ...  理\n",
      "念 成為本國銀行中的優質銀行  \n",
      "------document: 1062891------\n",
      "﻿壹 致股東報告書\n",
      "親愛的股東女士先  ...  心目中最值得信賴的\n",
      "金融服務機構 \n",
      "\n",
      "------document: 1062801------\n",
      "﻿ 壹 致股東報告書\n",
      " 張明道\n",
      "    ...  \n",
      " \n",
      "穩定\n",
      "  董事長 總經理\n",
      "  \n",
      "------document: 1062834------\n",
      "﻿ 壹 致股東報告書\n",
      "         ...     \n",
      "   \n",
      "      \n",
      "   \n",
      "------document: 1062838------\n",
      " 一    年度營業成果\n",
      " 一 國內  ...  位股東繼續不吝給予指\n",
      "導與鼓勵 \n",
      " \n",
      "------document: 1062845------\n",
      " 各位女士 先生 \n",
      "回顧     年  ...  位金融科技發展 開發線上投保商機  \n",
      "------document: 1062849------\n",
      " 各位股東女士 先生 \n",
      "回顧去年 全  ...  大價值 建構永續經營的穩固基礎 \n",
      " \n",
      "------document: 1062880------\n",
      "﻿一 集團     年度經營結果\n",
      "   ...                 穩定\n",
      "\n",
      "------document: 1062883------\n",
      "﻿壹  致股東報告書\n",
      "回顧民國 下同  ...  成企業永續經營之目標 \n",
      "最後敬祝大家\n"
     ]
    }
   ],
   "source": [
    "# 要預覽的文件數量\n",
    "num_of_print_doc = 10\n",
    "# 每個文件顯示的長度\n",
    "num_of_print_len = 1000\n",
    "# 防呆\n",
    "if num_of_print_len > len(document):\n",
    "    num_of_print_len = len(document)\n",
    "\n",
    "for i in range(num_of_print_doc):\n",
    "    print('------document: {0}------'.format(title[i]))\n",
    "    print(document[i][:num_of_print_len], ' ... ', document[i][-num_of_print_len:])"
   ]
  },
  {
   "cell_type": "markdown",
   "metadata": {},
   "source": [
    "---\n",
    "### 載入結巴字典檔\n",
    "#### 字典檔格式\n",
    "* 一組字詞一行\n",
    "* 每一行可寫入 詞語 詞語權重(可略) 詞性(可略), 以空白分隔"
   ]
  },
  {
   "cell_type": "code",
   "execution_count": 9,
   "metadata": {
    "scrolled": true
   },
   "outputs": [
    {
     "name": "stderr",
     "output_type": "stream",
     "text": [
      "Building prefix dict from the default dictionary ...\n",
      "Loading model from cache /tmp/jieba.cache\n",
      "Loading model cost 0.977 seconds.\n",
      "Prefix dict has been built succesfully.\n"
     ]
    }
   ],
   "source": [
    "# 輸入字典檔的位置\n",
    "dictionary_path = './dict.txt'\n",
    "\n",
    "if os.path.isfile(dictionary_path):\n",
    "    jieba.load_userdict(file_name)\n",
    "else:\n",
    "    print('字典檔不存在，請確認字典檔路徑是否正確！')"
   ]
  },
  {
   "cell_type": "markdown",
   "metadata": {},
   "source": [
    "### 讀取停止詞字典，並顯示部份內容(前200字)"
   ]
  },
  {
   "cell_type": "code",
   "execution_count": 10,
   "metadata": {},
   "outputs": [
    {
     "name": "stdout",
     "output_type": "stream",
     "text": [
      "['因為', '查核', '報告', '性事', '增加', '會計', '相對', '仟元', '金額', '權益', '能力', '利益', '股東', '合理性', '假設', '無形', '上', '開關鍵', '模型', '支出', '控制', '計算', '資金', '評估', '報告', '因應', '仟元', '金額', '權益', '假設', '無形', '上', '模型', '支出', '控制', '計算', '資金', '評估', '人次', '重大', '資訊', '總額', '民國', '估計', '', '一副', '公司', '年度', '包括', '正確性', '正', '確性', '減損', '共為', '預估', '預算', '維持', '公開', '整體', '表示', '特性', '市場', '科目', '發生', '年本', '重要', '判斷', '主要', '流量', '意見', '關鍵', '同期', '評價', '正確', '地區', '總資產', '執行', '程序', '測試', '稅後淨利', '股份有限公司', '三日', '之應', '無法', '百之', '點之', '一季', '一步', '一波', '一環', '一百', '一直', '一經', '一致', '一遭', '一部', '一龍', '三方', '三種', '三線', '三親', '上斷', '上本', '並依', '並列', '並加蓋', '並參酌', '並取', '並合', '並呈', '並將', '並對', '並引', '並應', '並擬', '並斷', '並於', '並於給', '並檢', '並無', '並無給', '並無顯', '並爭', '並申', '並監控', '並確', '並積極', '並經', '並繼', '並與', '並視', '並認', '並重', '中信', '中劃', '中境', '中將', '中房', '中逆勢', '中陸', '之丁', '之上', '之丕', '之丙', '之互', '之五', '之任', '之份', '之供', '之列', '之判斷', '之利', '之半', '之執', '之場', '之壽命', '之將', '之履', '之平', '之年', '之庫', '之廠', '之延', '之延遲', '之後', '之後淨', '之後純', '之承', '之授', '之日', '之旺', '之暴', '之本', '之架構', '之樞', '之水', '之永', '之溝', '之無', '之無償', '之獨', '之用', '之當', '之相', '之研', '之種', '之納', '之組', '之經', '之績', '之薪', '之處', '之衍', '之補', '之親', '之驗', '乏力', '也將', '予確', '二百']\n"
     ]
    }
   ],
   "source": [
    "stopword_path = './stopword.txt'\n",
    "num_of_word_to_print = 200\n",
    "\n",
    "if os.path.isfile(stopword_path):\n",
    "    with open(stopword_path, 'r', encoding='utf-8') as fp:\n",
    "        stopword = fp.read().split('\\n')[:-1]\n",
    "        print(stopword[:num_of_word_to_print])\n",
    "else:\n",
    "    print('停止詞字典不存在，請確認路徑是否正確！')"
   ]
  },
  {
   "cell_type": "markdown",
   "metadata": {},
   "source": [
    "### 利用結巴及停止詞字典清理資料"
   ]
  },
  {
   "cell_type": "code",
   "execution_count": 11,
   "metadata": {},
   "outputs": [
    {
     "name": "stdout",
     "output_type": "stream",
     "text": [
      "------document: 1062890------\n",
      "﻿ 年景 氣及 回顧 \n",
      " 年 諸多國  ...   以不負 全體 之 殷切 寄 託 \n",
      "\n",
      "------document: 1062836------\n",
      "回顧 年 美國聯 準會 升息 三次   ...   念 本國 銀行 中 的 優質 銀行\n",
      "------document: 1062891------\n",
      "﻿ 壹 致股 東報 告書 \n",
      " 親愛的  ...   值得 信賴 的 \n",
      " 金融 服務 \n",
      "\n",
      "------document: 1062801------\n",
      "﻿ 壹 致股 東報 告書 \n",
      " 張明   ...  \n",
      " \n",
      " \n",
      " 穩定 \n",
      " 長 總經理 \n",
      "\n",
      "------document: 1062834------\n",
      "﻿ 壹 致股 東報 告書 \n",
      " \n",
      " 一  ...  爾 全球 等級 評等 \n",
      " \n",
      " \n",
      " \n",
      "\n",
      "------document: 1062838------\n",
      "一 營業 成果 \n",
      " 一 國內外 金融  ...   不吝 給予 指 \n",
      " 導與 鼓勵 \n",
      "\n",
      "------document: 1062845------\n",
      "各位 女士 先生 \n",
      " 回顧 年 全球  ...  金融 科技 發展 開發線 投保 商機\n",
      "------document: 1062849------\n",
      "各位 女士 先生 \n",
      " 回顧 全球 經  ...  價值 建構 永續 的 穩固 基礎 \n",
      "\n",
      "------document: 1062880------\n",
      "﻿ 一 集團 結果 \n",
      " 一 國內外   ...  保險 中華 信評 穩定 \n",
      " 穩定 \n",
      "\n",
      "------document: 1062883------\n",
      "﻿ 壹 致股 東報 告書 \n",
      " 回顧民  ...  續 之 目標 \n",
      " 最 後 敬祝 大家\n"
     ]
    }
   ],
   "source": [
    "for i in range(len(document)):\n",
    "    text = jieba.cut(document[i], cut_all=False)\n",
    "    filtered = []\n",
    "    for word in text:\n",
    "        if(word not in stopword) and (word!=' '):\n",
    "            filtered.append(word)\n",
    "    document[i] = ' '.join(filtered)\n",
    "    \n",
    "# 要預覽的文件數量\n",
    "num_of_print_doc = 10\n",
    "# 每個文件顯示的長度\n",
    "num_of_print_len = 1000\n",
    "# 防呆\n",
    "if num_of_print_len > len(document):\n",
    "    num_of_print_len = len(document)\n",
    "\n",
    "for i in range(num_of_print_doc):\n",
    "    print('------document: {0}------'.format(title[i]))\n",
    "    print(document[i][:num_of_print_len], ' ... ', document[i][-num_of_print_len:])"
   ]
  },
  {
   "cell_type": "markdown",
   "metadata": {},
   "source": [
    "### 將清理完的資料合併成表格"
   ]
  },
  {
   "cell_type": "code",
   "execution_count": 12,
   "metadata": {},
   "outputs": [
    {
     "data": {
      "text/html": [
       "<div>\n",
       "<style scoped>\n",
       "    .dataframe tbody tr th:only-of-type {\n",
       "        vertical-align: middle;\n",
       "    }\n",
       "\n",
       "    .dataframe tbody tr th {\n",
       "        vertical-align: top;\n",
       "    }\n",
       "\n",
       "    .dataframe thead th {\n",
       "        text-align: right;\n",
       "    }\n",
       "</style>\n",
       "<table border=\"1\" class=\"dataframe\">\n",
       "  <thead>\n",
       "    <tr style=\"text-align: right;\">\n",
       "      <th></th>\n",
       "      <th>className</th>\n",
       "      <th>docClass</th>\n",
       "      <th>docs</th>\n",
       "      <th>file_path</th>\n",
       "    </tr>\n",
       "  </thead>\n",
       "  <tbody>\n",
       "    <tr>\n",
       "      <th>0</th>\n",
       "      <td>1062890</td>\n",
       "      <td>1</td>\n",
       "      <td>﻿ 年景 氣及 回顧 \\n 年 諸多國際 事件 之發 軔 及 交相 作用 對 經濟景 氣表現...</td>\n",
       "      <td>./106/1/1062890.txt</td>\n",
       "    </tr>\n",
       "    <tr>\n",
       "      <th>1</th>\n",
       "      <td>1062836</td>\n",
       "      <td>4</td>\n",
       "      <td>回顧 年 美國聯 準會 升息 三次 且 啟動縮 減資產 負債 表計畫 全球 經濟受 地緣 政...</td>\n",
       "      <td>./106/4/1062836.txt</td>\n",
       "    </tr>\n",
       "    <tr>\n",
       "      <th>2</th>\n",
       "      <td>1062891</td>\n",
       "      <td>5</td>\n",
       "      <td>﻿ 壹 致股 東報 告書 \\n 親愛的 女士 先生 \\n 年 全球 在 美國 貿易 保護 主...</td>\n",
       "      <td>./106/5/1062891.txt</td>\n",
       "    </tr>\n",
       "    <tr>\n",
       "      <th>3</th>\n",
       "      <td>1062801</td>\n",
       "      <td>6</td>\n",
       "      <td>﻿ 壹 致股 東報 告書 \\n 張明 道 \\n 年 全球 景氣 回升 美國 歐元區 及 等 ...</td>\n",
       "      <td>./106/6/1062801.txt</td>\n",
       "    </tr>\n",
       "    <tr>\n",
       "      <th>4</th>\n",
       "      <td>1062834</td>\n",
       "      <td>6</td>\n",
       "      <td>﻿ 壹 致股 東報 告書 \\n \\n 一 營業 結果 \\n 二 營業 計畫 \\n 三 未來 ...</td>\n",
       "      <td>./106/6/1062834.txt</td>\n",
       "    </tr>\n",
       "  </tbody>\n",
       "</table>\n",
       "</div>"
      ],
      "text/plain": [
       "  className docClass                                               docs  \\\n",
       "0   1062890        1  ﻿ 年景 氣及 回顧 \\n 年 諸多國際 事件 之發 軔 及 交相 作用 對 經濟景 氣表現...   \n",
       "1   1062836        4  回顧 年 美國聯 準會 升息 三次 且 啟動縮 減資產 負債 表計畫 全球 經濟受 地緣 政...   \n",
       "2   1062891        5  ﻿ 壹 致股 東報 告書 \\n 親愛的 女士 先生 \\n 年 全球 在 美國 貿易 保護 主...   \n",
       "3   1062801        6  ﻿ 壹 致股 東報 告書 \\n 張明 道 \\n 年 全球 景氣 回升 美國 歐元區 及 等 ...   \n",
       "4   1062834        6  ﻿ 壹 致股 東報 告書 \\n \\n 一 營業 結果 \\n 二 營業 計畫 \\n 三 未來 ...   \n",
       "\n",
       "             file_path  \n",
       "0  ./106/1/1062890.txt  \n",
       "1  ./106/4/1062836.txt  \n",
       "2  ./106/5/1062891.txt  \n",
       "3  ./106/6/1062801.txt  \n",
       "4  ./106/6/1062834.txt  "
      ]
     },
     "execution_count": 12,
     "metadata": {},
     "output_type": "execute_result"
    }
   ],
   "source": [
    "frame = pd.DataFrame({'docClass' : level, 'className' : title,\n",
    "                      'docs' : document, 'file_path' : path})\n",
    "frame.head()"
   ]
  },
  {
   "cell_type": "markdown",
   "metadata": {},
   "source": [
    "### 將表格除存為 .pickle 格式"
   ]
  },
  {
   "cell_type": "code",
   "execution_count": 13,
   "metadata": {},
   "outputs": [],
   "source": [
    "frame.to_pickle('./Output.pkl')"
   ]
  }
 ],
 "metadata": {
  "kernelspec": {
   "display_name": "Python 3",
   "language": "python",
   "name": "python3"
  },
  "language_info": {
   "codemirror_mode": {
    "name": "ipython",
    "version": 3
   },
   "file_extension": ".py",
   "mimetype": "text/x-python",
   "name": "python",
   "nbconvert_exporter": "python",
   "pygments_lexer": "ipython3",
   "version": "3.5.2"
  },
  "varInspector": {
   "cols": {
    "lenName": 16,
    "lenType": 16,
    "lenVar": 40
   },
   "kernels_config": {
    "python": {
     "delete_cmd_postfix": "",
     "delete_cmd_prefix": "del ",
     "library": "var_list.py",
     "varRefreshCmd": "print(var_dic_list())"
    },
    "r": {
     "delete_cmd_postfix": ") ",
     "delete_cmd_prefix": "rm(",
     "library": "var_list.r",
     "varRefreshCmd": "cat(var_dic_list()) "
    }
   },
   "types_to_exclude": [
    "module",
    "function",
    "builtin_function_or_method",
    "instance",
    "_Feature"
   ],
   "window_display": false
  }
 },
 "nbformat": 4,
 "nbformat_minor": 2
}
