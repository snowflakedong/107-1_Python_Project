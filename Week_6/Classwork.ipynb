{
 "cells": [
  {
   "cell_type": "markdown",
   "metadata": {},
   "source": [
    "#### 讀取需要的函式庫"
   ]
  },
  {
   "cell_type": "code",
   "execution_count": 1,
   "metadata": {},
   "outputs": [],
   "source": [
    "from sklearn.feature_extraction.text import TfidfVectorizer\n",
    "from sklearn.feature_extraction.text import CountVectorizer\n",
    "from sklearn.preprocessing import StandardScaler\n",
    "from sklearn.decomposition import PCA\n",
    "from sklearn.cluster import KMeans\n",
    "from sklearn.metrics.pairwise import cosine_similarity\n",
    "from IPython.display import clear_output\n",
    "from wordcloud import WordCloud\n",
    "from PIL import Image\n",
    "import seaborn as sns\n",
    "from func import *\n",
    "import matplotlib.pyplot as plt\n",
    "import pandas as pd\n",
    "import numpy as np\n",
    "import jieba\n",
    "import sys\n",
    "import re\n",
    "import os\n",
    "# re -> \\d for number, \\s for any space (\\t\\r\\n...) "
   ]
  },
  {
   "cell_type": "markdown",
   "metadata": {},
   "source": [
    "#### 定義 addstopword 及 adddict 函式"
   ]
  },
  {
   "cell_type": "code",
   "execution_count": 2,
   "metadata": {},
   "outputs": [],
   "source": [
    "def addstopword(data):\n",
    "    stop = []\n",
    "    if os.path.isfile('./stay.txt'):\n",
    "        with open('./stay.txt', 'rb') as f:\n",
    "                text = f.read()\n",
    "                encode = chardet.detect(text)\n",
    "        stay = list(map(str.strip, open('./stay.txt', 'r+', encoding=encode['encoding']).readlines()))\n",
    "    else:\n",
    "        stay = []\n",
    "    length = len(data)\n",
    "    index = 0\n",
    "    value = ''\n",
    "    tmp = ''\n",
    "    while(index != length):\n",
    "        if data[index] not in stay:\n",
    "            print(data[index])\n",
    "            value = input('Add to stop word [y:stopword/n:stayword/q:quit]: ')\n",
    "            if value == 'y':\n",
    "                if tmp == 'p': stay.remove(data[index])\n",
    "                stop.append(data[index])\n",
    "            elif value == 'n':\n",
    "                if tmp == 'p': stop.remove(data[index])\n",
    "                stay.append(data[index])\n",
    "            elif value == 'p':\n",
    "                index -= 2\n",
    "            elif value == 'q':\n",
    "                break\n",
    "            clear_output()\n",
    "        tmp = value\n",
    "        index += 1\n",
    "    return stop, stay\n",
    "\n",
    "\n",
    "def addword():\n",
    "    word = []\n",
    "    while(True):\n",
    "        # clear_output()\n",
    "        value = input('Add to dictionay word [q:quit]: ')\n",
    "        if value == 'q':\n",
    "            break\n",
    "        else:\n",
    "            word.append(value)\n",
    "    return word"
   ]
  },
  {
   "cell_type": "markdown",
   "metadata": {},
   "source": [
    "#### 讀取資料夾中的資料"
   ]
  },
  {
   "cell_type": "code",
   "execution_count": 3,
   "metadata": {},
   "outputs": [
    {
     "name": "stdout",
     "output_type": "stream",
     "text": [
      "\n",
      "Number of files : 8\n"
     ]
    }
   ],
   "source": [
    "#path = '../../107-1PythonSampleCode/week_5/task_5/*.txt'\n",
    "path = './untitled/*.txt'\n",
    "title, data = readdir(path)"
   ]
  },
  {
   "cell_type": "markdown",
   "metadata": {},
   "source": [
    "#### 顯示部份資料內容"
   ]
  },
  {
   "cell_type": "code",
   "execution_count": 4,
   "metadata": {},
   "outputs": [
    {
     "name": "stdout",
     "output_type": "stream",
     "text": [
      "----Document : 台泥2016----\n",
      "﻿致股東報告書\r\n",
      " \n",
      "...\n",
      " 491 萬立方米\n",
      "\n",
      "----Document : 台泥2017----\n",
      "﻿致股東報告書\r\n",
      "曾\n",
      "...\n",
      "\n",
      "著迷的永恆產業。\n",
      "\n",
      "----Document : 致股東報告書2016-亞泥----\n",
      "壹、致股東報告書\r\n",
      "\n",
      "...\n",
      "32 萬公噸。\r\n",
      "\n",
      "\n",
      "----Document : 致股東報告書2016-幸福泥----\n",
      "壹、致股東報告書\r\n",
      "\n",
      "...\n",
      "00~400萬公噸\n",
      "\n",
      "----Document : 致股東報告書2016-東南水泥----\n",
      "壹、 致股東報告書\r\n",
      "...\n",
      "謀求公司最大利益。\n",
      "\n",
      "----Document : 致股東報告書2017-亞泥----\n",
      "壹、致股東報告書\r\n",
      "\n",
      "...\n",
      "7,059 仟元。\n",
      "\n",
      "----Document : 致股東報告書2017-幸福泥----\n",
      "壹、致股東報告書\r\n",
      "\n",
      "...\n",
      "00~300萬公噸\n",
      "\n",
      "----Document : 致股東報告書2017-東南水泥----\n",
      "壹、 致股東報告書\r\n",
      "...\n",
      "謀求公司最大利益。\n",
      "\n"
     ]
    }
   ],
   "source": [
    "for i in range(len(data)):\n",
    "    print('----Document : {0}----'.format(title[i]))\n",
    "    print(data[i][:10], '...', data[i][-10:-1], sep='\\n', end='\\n\\n')"
   ]
  },
  {
   "cell_type": "markdown",
   "metadata": {},
   "source": [
    "#### 新增詞彙至自定義詞庫，並匯入該詞庫\n",
    "* savetofile(path, list_like_data)\n",
    "* example for list_like_data:\n",
    "  * [['來台']] : 完整 '來台' 字串被存入字典中\n",
    "  * ['來台'] :　'來台' 視為獨立字元，存入 '來' '台' 於字典中 "
   ]
  },
  {
   "cell_type": "code",
   "execution_count": 5,
   "metadata": {},
   "outputs": [
    {
     "name": "stderr",
     "output_type": "stream",
     "text": [
      "Building prefix dict from the default dictionary ...\n",
      "Loading model from cache /tmp/jieba.cache\n",
      "Loading model cost 1.477 seconds.\n",
      "Prefix dict has been built succesfully.\n"
     ]
    }
   ],
   "source": [
    "# savetofile('./dict.txt', [['來台']])  # 完整字串　'來台'　被存入字典中\n",
    "jieba.load_userdict('./dict.txt')"
   ]
  },
  {
   "cell_type": "markdown",
   "metadata": {},
   "source": [
    "#### 新增詞彙至自定義停止詞彙中"
   ]
  },
  {
   "cell_type": "code",
   "execution_count": 6,
   "metadata": {},
   "outputs": [],
   "source": [
    "stopwords = ['一','二','三','四','五','六','用','淨','利','值','前','據','談','自','至','曾','出',\n",
    "            '合','最','供','而','個','很','得','達','家','進','所','夏','若','邱','但','中','可',\n",
    "            '他','我','列','將','對','之','率','已','由','佔','本','日','月','年','另','故','於',\n",
    "            '較','請','再','經','也','在','依','到','等','或','大','認列','不僅','讓','相關','最終',\n",
    "            '把','沒','及','過去','認為','為','按','比','仍','係','後','及與','以','時','該','的',\n",
    "            '並','更','就','註','有','事','來','不','從','堺','權','從','卻','說','要','今','度',\n",
    "            '手','才','又','其','長','了','百','億','元','例如','可能','由於','因此','土城','一份',\n",
    "            '上午','這份','多','赴','和','與','是','約','就是','只是','但是','如果','附註','部分',\n",
    "            '事項','各位','品牌','集團','幅度','資產','新','台幣','日圓','億日圓','機構','面板','日元',\n",
    "            '企業','報導','媒體','目前','提案','經營','實地','大阪','億元','以及','代工','一步','第二',\n",
    "            '雙方','方案','分析','接受','成為','事業','目前','高橋','董事','營業','受到','提供','使用',\n",
    "            '本年','說明','現金','成本','營業外','收入','結轉','分攤','其他','影響財務','詳合','結果',\n",
    "            '不是','是否','最高','記者','超過','兩家','主幹','我們','除了','自己','立刻','','日本',\n",
    "            '之間','不過','今天','然而','此外','工廠','預測','如下','之一','附註','附','註','其中',\n",
    "            '因為','查核','報告增加','會計','相對','仟元','金額','權益','能力利益','股東','合理性',\n",
    "            '假設','無形','上','開關鍵','模型','支出','控制','計算','資金評估','報告','因應','仟元',\n",
    "            '金額','權益','假設','無形','上','模型','支出','控制','計算資金','評估','人次','重大',\n",
    "            '資訊','總額','民國','估計','一副','公司','年度','包括','正確性','正','確性','減損','共為',\n",
    "            '預估','預算','去年同期','應該','雖然','下午','要求','一樣','一家','維持','公開','整體',\n",
    "            '表示','特性','市場','科目','發生','年本','重要','判斷','主要','流量','意見','關鍵','同期',\n",
    "            '評價','正確','地區','總資產','執行','程序','測試','稅後淨利','股份有限公司','蘋果','鴻海',\n",
    "            '夏普','郭台銘','鴻夏戀','iPhone','1','2','3','4','5','6','7','8','9','0','NT','2012',\n",
    "            '10','三星','供應商','INCJ','案','LG','會','下','買','電子','清單','向','都','郭董',\n",
    "            '能力','進','廠','內','購','併','這','看','人','被','能','外界','指出','五日','不同','陷入',\n",
    "            '出現','一年','什麼','安倍','這個','可以','一個','同時','去年','部門','二月','這是','月底',\n",
    "            '完成','財務','今年','階段','子公司','條件','引述','召開','擁有','有助','持有','進入','旗下',\n",
    "            '已經','入座','罩','業務','顯示','尺寸','萬張','取得','高達','持續','進行','人士','提出',\n",
    "            '社長','加工','內容','總部','沒有','加上','決定','群創','最大','四年','代廠','做','鴻','高',\n",
    "            '市','不會','傳出','文件','客戶超過','SDP','JDI','IGZO','Display','WitsView','NHK',\n",
    "            '12','7000','3500','2015','2016','25','30','000','29']\n",
    "puncs_Full = '！？｡＂＃＄％＆＇（）()＊＋，－／：；＜＝＞＠［＼］$＾＿｀｛｜｝～｟｠｢｣､、〃》「」『』【】〔〕〖〗〘〙〚〛〜〝〞〟〰〾〿–—‘’‛“”„‟…‧﹏.。'\n",
    "puncs_Half = \"!?.#$%&'()*+,-/:;<=>@[]^_{}|~\\\\\\\"\"\n",
    "savetofile('./stopword.txt', [stopwords, puncs_Full, puncs_Half])"
   ]
  },
  {
   "cell_type": "code",
   "execution_count": 7,
   "metadata": {},
   "outputs": [
    {
     "name": "stdout",
     "output_type": "stream",
     "text": [
      "\n",
      "Number of files : 1\n"
     ]
    },
    {
     "data": {
      "text/plain": [
       "['一', '二', '三', '四', '五', '六', '用', '淨', '利', '值']"
      ]
     },
     "execution_count": 7,
     "metadata": {},
     "output_type": "execute_result"
    }
   ],
   "source": [
    "stopword = readdir('./stopword.txt')[1][0].split('\\n')\n",
    "stopword.append('\\n')\n",
    "stopword[0:10]"
   ]
  },
  {
   "cell_type": "markdown",
   "metadata": {},
   "source": [
    "#### 利用 jieba 對文件進行斷字，並統計字詞頻率，顯示前十名資料"
   ]
  },
  {
   "cell_type": "code",
   "execution_count": 8,
   "metadata": {},
   "outputs": [
    {
     "name": "stdout",
     "output_type": "stream",
     "text": [
      "Number of word in document (台泥2016) :  334\n",
      "[('\\r\\n', 43), ('水泥', 14), ('台泥', 11), ('環保', 5), ('台', 5), ('泥', 5), ('垃圾', 5), ('生產', 4), ('104', 4), ('預拌', 4)]\n",
      "Number of word in document (台泥2017) :  573\n",
      "[('\\r\\n', 72), ('水泥', 20), ('台泥', 13), ('泥', 12), ('人類', 10), ('台', 8), ('需要', 8), ('專業', 8), ('環境', 7), ('台灣', 7)]\n",
      "Number of word in document (致股東報告書2016-亞泥) :  940\n",
      "[('\\r\\n', 177), ('水泥', 50), ('萬公噸', 30), ('熟料', 25), ('公噸', 21), ('仟', 18), ('生產', 18), ('經濟', 16), ('水泥公司', 15), ('總量', 14)]\n",
      "Number of word in document (致股東報告書2016-幸福泥) :  384\n",
      "[('\\r\\n', 102), ('○', 25), ('水泥', 15), ('仟', 12), ('拾萬元', 10), ('仟噸', 10), ('計劃', 9), ('總量', 8), ('石粉', 8), ('佰', 8)]\n",
      "Number of word in document (致股東報告書2016-東南水泥) :  274\n",
      "[('\\r\\n', 59), ('105', 15), ('104', 14), ('水泥', 12), ('減少', 11), ('公噸', 11), ('衰退', 10), ('工程', 6), ('石粉', 6), ('爐', 6)]\n",
      "Number of word in document (致股東報告書2017-亞泥) :  1071\n",
      "[('\\r\\n', 202), ('年', 107), ('泥', 87), ('水', 47), ('量', 35), ('料', 27), ('公噸', 26), ('2018', 26), ('2017', 25), ('仟', 24)]\n",
      "Number of word in document (致股東報告書2017-幸福泥) :  356\n",
      "[('\\r\\n', 101), ('○', 24), ('水泥', 15), ('仟', 10), ('仟噸', 10), ('計劃', 9), ('總量', 8), ('拾', 8), ('石材', 8), ('萬元', 8)]\n",
      "Number of word in document (致股東報告書2017-東南水泥) :  260\n",
      "[('\\r\\n', 58), ('105', 15), ('106', 15), ('水泥', 11), ('公噸', 11), ('石粉', 6), ('減少', 6), ('爐', 6), ('衰退', 5), ('成長', 5)]\n"
     ]
    }
   ],
   "source": [
    "wordDictionary = []\n",
    "for i in range(len(data)):\n",
    "    seg_list = jieba.cut(data[i], cut_all=False)\n",
    "    seg_list = list(seg_list)\n",
    "    wordDict = {}\n",
    "    for w in seg_list:\n",
    "        if (w not in stopword) and (w not in puncs_Full) and (w not in puncs_Half):\n",
    "            if w in wordDict:\n",
    "                wordDict[w] = wordDict[w] + 1\n",
    "            else:\n",
    "                wordDict[w] = 1\n",
    "    wordDictionary.append(wordDict)\n",
    "    print('Number of word in document ({0}) : '.format(title[i]), len(wordDict))\n",
    "    sort = sorted(wordDict.items(), key=lambda x: x[1], reverse = True)\n",
    "    print(sort[0:10])\n",
    "    data[i] = ' '.join(jieba.cut(data[i], cut_all=False))"
   ]
  },
  {
   "cell_type": "markdown",
   "metadata": {},
   "source": [
    "#### 顯示各文件低於閥值 (limit) 的字詞"
   ]
  },
  {
   "cell_type": "code",
   "execution_count": 9,
   "metadata": {},
   "outputs": [
    {
     "name": "stdout",
     "output_type": "stream",
     "text": [
      "----Document : 台泥2016----\n",
      "\n",
      "----Document : 台泥2017----\n",
      "\n",
      "----Document : 致股東報告書2016-亞泥----\n",
      "\n",
      "----Document : 致股東報告書2016-幸福泥----\n",
      "\n",
      "----Document : 致股東報告書2016-東南水泥----\n",
      "\n",
      "----Document : 致股東報告書2017-亞泥----\n",
      "\n",
      "----Document : 致股東報告書2017-幸福泥----\n",
      "\n",
      "----Document : 致股東報告書2017-東南水泥----\n",
      "\n"
     ]
    }
   ],
   "source": [
    "limit = 0\n",
    "wordsperdocument = 50\n",
    "for i in range(len(data)):\n",
    "    count = 0\n",
    "    print('----Document : {0}----'.format(title[i]))\n",
    "    for ind, value in wordDictionary[0].items():\n",
    "        if (value <= limit) & (count != wordsperdocument):\n",
    "            count += 1\n",
    "            print(ind, end = ', ')\n",
    "    print()"
   ]
  },
  {
   "cell_type": "markdown",
   "metadata": {},
   "source": [
    "#### 利用 wordDictionary 移除出現次數低於閥值 (limit) 的字詞，並顯示部份結果"
   ]
  },
  {
   "cell_type": "code",
   "execution_count": 10,
   "metadata": {},
   "outputs": [
    {
     "name": "stdout",
     "output_type": "stream",
     "text": [
      "document : 台泥2016\n",
      "﻿ 致股 東報 告書 \r\n",
      "   民國 （ 以下 同 ） 105   年 ， 台泥 集團 雖然 面臨 ...\n",
      " 銷量 為   6 , 515   萬公噸 、 預拌 混凝土 銷量   491   萬 立方米 \n",
      "\n",
      "document : 台泥2017\n",
      "﻿ 致股 東報 告書 \r\n",
      " 曾經 有人 問我 ， 身為 飯 店業 的 Inn   Keeper 和 ... ； 這是 我們 的 職責 、 這 就是 我們 的 產業 ， 令人 \r\n",
      " 著迷 的 永恆產業 。 \n",
      "\n",
      "document : 致股東報告書2016-亞泥\n",
      "壹 、 致股 東報 告書 \r\n",
      " 壹 、 回顧   2016   年 \r\n",
      " 2016 年 全球 經濟 ... 107 \r\n",
      " 萬公噸 ， 銷售 自產 水泥 及 熟料   3 , 132   萬公噸 。 \r\n",
      " \n",
      "\n",
      "document : 致股東報告書2016-幸福泥\n",
      "壹 、 致股 東報 告書 \r\n",
      " 一 、 董事 長 致詞 \r\n",
      " 各位 股東 女士 、 先生 ： 大家 ...產銷量 約 為 \r\n",
      " 85 ~ 110 萬公噸 ， 石材 產銷量 為 200 ~ 400 萬公噸 \n",
      "\n",
      "document : 致股東報告書2016-東南水泥\n",
      "壹 、   致股 東報 告書 \r\n",
      " 各位 股東 女士 、 先生 ： \r\n",
      " 依據 台灣區 水泥工 業同...念 ， 轉投資 傳統 內 \r\n",
      " 需產業 ， 增加 新產品 銷售 ， 以謀求 公司 最大 利益 。 \n",
      "\n",
      "document : 致股東報告書2017-亞泥\n",
      "壹 、 致股 東報 告書 \r\n",
      " 壹 、 回顧   2017   年 \r\n",
      " 2017 年 國際 經濟 ...   % ， 其歸屬 本 公司 業主稅後純 益 為   1 , 897 , 059   仟元 。 \n",
      "\n",
      "document : 致股東報告書2017-幸福泥\n",
      "壹 、 致股 東報 告書 \r\n",
      " 一 、 董事 長 致詞 \r\n",
      " 各位 股東 女士 、 先生 ： 大家 ...產銷量 約 為 \r\n",
      " 90 ~ 120 萬公噸 ， 石材 產銷量 為 100 ~ 300 萬公噸 \n",
      "\n",
      "document : 致股東報告書2017-東南水泥\n",
      "壹 、   致股 東報 告書 \r\n",
      " 各位 股東 女士 、 先生 ： \r\n",
      " 依據 台灣區 水泥工 業同...念 ， 轉投資 傳統 內 需產業 ， 增加 \r\n",
      " 新產品 銷售 ， 以謀求 公司 最大 利益 。 \n",
      "\n"
     ]
    }
   ],
   "source": [
    "for i in range(len(data)):\n",
    "    for key, value in wordDictionary[0].items():\n",
    "        if value <= limit:\n",
    "            data[i] = data[i].replace(key, '')\n",
    "    print('document :', title[i])\n",
    "    print(data[i][:50], '...', data[i][-50:-1], sep='', end='\\n\\n')"
   ]
  },
  {
   "cell_type": "markdown",
   "metadata": {},
   "source": [
    "#### 移除所有標點符號、非中文英文數字之資料"
   ]
  },
  {
   "cell_type": "code",
   "execution_count": 11,
   "metadata": {},
   "outputs": [],
   "source": [
    "for i in range(len(data)):\n",
    "    data[i] = re.sub('[^\\u4e00-\\u9fff ]', '', data[i])\n",
    "#[^\\u4e00-\\u9fff A-Za-z0-9]"
   ]
  },
  {
   "cell_type": "markdown",
   "metadata": {},
   "source": [
    "#### 印出部份斷字結果"
   ]
  },
  {
   "cell_type": "code",
   "execution_count": 12,
   "metadata": {},
   "outputs": [
    {
     "name": "stdout",
     "output_type": "stream",
     "text": [
      "document : 台泥2016\n",
      " 致股 東報 告書    民國  以下  ... 拌 混凝土 銷量      萬 立方米\n",
      "\n",
      "document : 台泥2017\n",
      " 致股 東報 告書  曾經 有人 問我  ... 產業  令人  著迷 的 永恆產業  \n",
      "\n",
      "document : 致股東報告書2016-亞泥\n",
      "壹  致股 東報 告書  壹  回顧   ...  及 熟料        萬公噸   \n",
      "\n",
      "document : 致股東報告書2016-幸福泥\n",
      "壹  致股 東報 告書  一  董事 長 ... 公噸  石材 產銷量 為    萬公噸\n",
      "\n",
      "document : 致股東報告書2016-東南水泥\n",
      "壹    致股 東報 告書  各位 股東 ...  銷售  以謀求 公司 最大 利益  \n",
      "\n",
      "document : 致股東報告書2017-亞泥\n",
      "壹  致股 東報 告書  壹  回顧   ... 後純  為          仟元  \n",
      "\n",
      "document : 致股東報告書2017-幸福泥\n",
      "壹  致股 東報 告書  一  董事 長 ... 公噸  石材 產銷量 為    萬公噸\n",
      "\n",
      "document : 致股東報告書2017-東南水泥\n",
      "壹    致股 東報 告書  各位 股東 ...  銷售  以謀求 公司 最大 利益  \n",
      "\n"
     ]
    }
   ],
   "source": [
    "for i in range(len(data)):\n",
    "    print('document :', title[i])\n",
    "    print(data[i][:20], ' ... ', data[i][-20:-1], sep='', end='\\n\\n')"
   ]
  },
  {
   "cell_type": "markdown",
   "metadata": {},
   "source": [
    "#### 初始化 TFIDF 物件，用以計算 tfidf"
   ]
  },
  {
   "cell_type": "code",
   "execution_count": 13,
   "metadata": {},
   "outputs": [],
   "source": [
    "tfidf_vectorizer = TfidfVectorizer(max_df = 1, min_df = 0, analyzer = 'word'\n",
    "                                   , stop_words = stopword, max_features = 10000)\n",
    "#tfidf_vectorizer = CountVectorizer(stop_words = stopword)"
   ]
  },
  {
   "cell_type": "markdown",
   "metadata": {},
   "source": [
    "#### 顯示初始化時輸入的停止詞彙 "
   ]
  },
  {
   "cell_type": "code",
   "execution_count": 14,
   "metadata": {},
   "outputs": [
    {
     "name": "stdout",
     "output_type": "stream",
     "text": [
      "frozenset({'', '000', '一來', '&', '並將', '之樞', '一役', '下來', '使用', '卻', 'Display', '多', '以給', '並無顯', '之五', '一季', '特性', '就是', '決定', '一些', 'NHK', '並引進', '同期', '購', '昨日', '：', '之架構', '並列', '三方', '完成', '」', '高達', '總部', '而且', '不善', '之本', '依循', '之處', '不良', '並監控', '是', '之詢', '集團', '點之', '一百四', '上面', '各位', '策層', '來源', '不同', '上層', '並且', '｠', '五大', '久而久之', '結果', '中逆勢', '媒體', '之執', 'iPhone', '所', '之親', '”', '並繼', '一支', '住院', '之當', '代工', '〙', '主力', '之應', '無', '重要', '之研', '一站', '僱及', '如下', '｣', '一夕', '購案', '中陸', '佰元筆', '下合', '不願', '此外', '關鍵', '三日', '並於', '股東會', 'IGZO', '今天', '資金', '並於給', '來遊', '上千', '二百', '在', '於', '以供', '以口頭', '部分', '顯示', '加工', '不包', '報導', '之約', '成為', '，', '仍將', '｟', '等', '科目', '之部門', '不確', '下午', '傳輸到', '仟元', ']', '之後', '召開', '但是', '被', '不超過', '中明確', '〘', '權', '階段', '一家', '最大', '他應', '［', '能力利益', '上揚', '幅度', '旗下', '日元', '例如', '〗', '進行', '之水', '三八', '維持', '報表', '一整天', '之輸', '市場', '無形', '並取', '本會', '該', '記者', '代廠', '開關鍵', '三公', '下腳', '民國', '邱', '他', '\\\\', '有助', '一條', '出', '依集邦', '傳出', '以來', '三箭', '但個', '而', '據', '一百', '以強', '一擲', '＿', '沒', '能', '為', '》', '對', '說明', '股東', '再', '並經', '25', '之永', '之衍', '確性', '一直', '部門', '並訂', '#', '地區', '曾', '並稱', '上台', '相關', '人之', '仟及', '市', '一步', '2016', '率', '會計師', '一早', '並在', '之溝', 'WitsView', '佰壹拾', '日本', '並進', '權益', '資金評估', '主幹', '之相', '］', '並無給', '由', '事項', '伍佰貳', '>', '29', '評估', '三星', '之下', '供應將', '不順', '前', '一龍', '之議', '我', '主因', '之時', '一份', '群創', '？', '3500', '3', '從', '傳輸系', '之間', '展現', '舉止', '並與', '但', '一四會計', '最高', '以千', '估計', '之平', '現金', '任職', '並非', '不單', '8', '佔', '以人', '電子', '內容', '一副', '陷入', '以避', '＜', '三千', '之無償', '依買', '|', '＋', '五日', '借案', '並不斷', '並檢', '評價', '人本', '～', '中將', '之薪', '之市場', '可能', '晶華', '不料', '人將', '堺', '一向', '不手', '影響', '‟', '面板', '｡', '個', '人士', '報告', '清單', '一口', '立刻', '上週', '禮樹', '上本', '認列', 'SDP', '已經', '仟玖佰柒拾', '三等', '12', '帳金額', '之中', '年', '｀', '可', '收入', '都', '提案', '不必', '因為', '之列', '＝', '之將', '然而', '將', '股份有限公司', '子公司', '以', '四年', 'JDI', '淨', '位應', '依券', '依集', '一位', '主要', '自己', '入座', '一手', '候人', '之供', '一', '去年', '任何', '一百三十元', '並說', '並組織', '6', '事業部', '影響財務', '例及', '約', '客戶超過', '並申', '並積極', '控制', '之丙', '〛', '依上', '之半', '之廠', '日圓', '仍會', '正', '機構', '億', '之日', '-', '內', '引述', '要', '年本', '達', '事部', '了', '｢', '並確', '案召開', '伙伴', '一年', '位元', '夏', '對象', '之大', '＄', '上個', '‛', '至', '不見', '仟玖佰', '不斷', '以維護', ':', '五', '主角', '\\n', '三千五百', '三支', '預算', '計算資金', '一波', '按', '+', '億日圓', '萬張', '之壽命', '德拉', '報告增加', '一百九十', '深陷', 'LG', '能力', '對夏普', '予確', '之達', '主張', '得', '下方', '資產', '一方', '之互', '會', '一部', '並向', '七千', '人持', '10', '但本', '假設', '之透', '企業', '“', '共同', '事意', '之驗', '三十九', '若', '不論', '以及', '回到', '‧', '值', '以其', '三點', '黑衣人', '鴻夏戀', '上午', '如此', '鴻', '重大', '不足以', '7000', '度', '不過', '並合', '並爭', '土城', '之觀', '更', '任會', '一遭', '之份', '之庫', '人中', '流量', '首度', '—', '做', '列', '僱用', '一千', '東洋', '一事', '人化', '註', '一路', '一項', '之納', '1', '一成則', '預估', '要求', '不利素', '赴', '查核', '認', '並宣導', '之丁', '較', '！', '一心', '一個', '計算', '罩', '上半年', '並加蓋', '一對', '提出', '人', '之經', '發生', '｛', '仟片', '模型', '依', '這家', '一樣', '年度', '＊', '不能', '﹏', '事', '二月', '董事', '以筆', '仍持', '供質', '自', '〟', '安倍', '之至', '人之薪', '五個', '之持', '並未', '„', '一經', '之延遲', '接受', '之', '事宜', '.', '蘋果', '一旦', '之判斷', '一月', '乏力', '僱人', '以確', '並應', '營業', '支出', '也將', '仟個', '來', '做出', '依部', '將能', '看', '月底', '之市', '不時', '應該', 'INCJ', '估算', '以喪失', '值之', '9', '以落', '無疑', '供應商', '並呈', '程序', '郭台銘', '手', '入主', '稻盛', '並重', '､', '本年', '?', '分析', '不法', '不再', '三家', '一大', '合', '＾', '之劃', '性事', '公司', '之後淨', '上層察覺', '並以', '修改', '仟元案', '之後純', '這份', '一開始', '『', '除了', '互網', '成本', '社長', '以進', '－', '及與', '不會', '之細', '的', '[', '之會計', '任越', '請', '會計', '係', '之心', '事業', '形容', '附註', '把', '整體', '總裁', '一把', '由於', '三線', '之暴', '高橋', '高', '享有', '不二', '不看', '向', '這', '我們', '之權', '】', '以節', '人次', '提供', '目前', '增加', '之後事', '一流', '麥克風', '談', '之丕', '』', '之家', '〖', '〃', '不願進', '為何', '這個', '一新', '局面', '〚', '依權', '第二', '仟元及', '倫理守', '2', '用', '他們', '；', '營業外', '5', '一次', '雖然', '休法', ')', '一環', '讓', 'NT', '。', '共為', '家', '三十五', '之延', '並擔', '億日', '億元', '之補', '持有', '其', '中信', '｝', '〿', '進', '日', '出現', '一則', '稻盛和夫', '到', '因此', '後', '＃', '@', '上斷', '尺寸', '上不斷', '另', '四', '（', '可以', '黑衣', '點名', '之連', '利', \"'\", '計師', '之上', '無法', '之運用', '之承', '＞', '一有', '〝', '三名', '其他', '資訊', '下應', '預測', '什麼', '執行', '傳輸時', '規劃', '＼', '【', '表示', ';', '沒有', '三', '很', '一億', '一倍', '）', '附', '正確', '以護', '因應', '之旺', '伍拾', '有', '今年', '依修', '之組', '同時', '就算', '不會分', '不快', '不僅', '不利', '中房', '新', '中', '比', '分攤', '買', '雙方', '是否', '佔本', '之任', '不符', '上述', '*', '夏普', '7', '之利', '不', '下述', '事及', '以該', '並不重', '2015', '之年', '只是', '一般', '已', '判斷', '並對', '!', '仍', '超過', '持續', '詳合', '總資產', '/', '(', '之績', '$', '30', '方案', '意見', '以彌補', '並視', '之授', '之來', '代人', '〕', '下本', '給出', '乃來', '這是', '一天', '彙', '之利得', '／', '依職', '也', '\"', '並', '取得', '如果', '「', '’', '認為', '兩家', '九十', '及', '候人案', '得到', '並擁', '^', '業務', '並引', '以能', '受到', '供', '訂單', '經', '＠', '又', '故', '並參酌', '月', '並擬', '二', '就', '不是', '下半年', '九億元', '一回', '其中', '不可', '和', '不及', '–', '夏普是', '才', '或', '〔', '以便', '位達', '不棄', '公開', '晉三', '品牌', '稅後淨利', '倡議', '一致', '之獨', '依經', '案', '之種', '中劃', '三十分', '以內', '實地', '不致', '之部', '4', '指出', '不太可能', '〾', '並就', '正確性', '最', '相對', '%', '上', '份有', '方面', '之無', '並斷', '延長', '一套', '一九', '％', '台幣', '利益', '過去', '測試', '最終', '外界', '三大', '之場', '一千七百', '不想', '中箭', '〞', '…', '並認', '不償', '一勞永逸', '之事', '之內', '且並', '本', '中境', '促進本', '之運', '{', '三親', '、', '之順', '金額', '以不', '不少', '一搏', '之不', '大阪', '元', '一二年', '二家', '一度', '不要', '〰', '加上', '乘上', '二親', '三種', '<', '與', '借記', '並不會', '}', '＂', '廠', '三成', '說', '工廠', '人運', '之履', '｜', '今', '佔率', '百', '_', '併', '並沒有', '並不', '合理性', '不算', '＇', '〜', '一再', '包括', '大', '並預計', '長', '經營', '0', '並無', '文件', '七年', '之一', ' ', '中風趣', '=', '之溢', '五權', '減損', '2012', '並依', '以順利', '總額', '之用', '‘', '依來', '~', '中稱', '進入', '六', '郭董', '百之', '下', '財務', '條件', '前往', '鴻海', ',', '佰柒拾', '之輸入', '時', '去年同期', '不太花', '擁有', '＆', '發表', '一月底', '結轉'})\n"
     ]
    }
   ],
   "source": [
    "print(tfidf_vectorizer.get_stop_words())"
   ]
  },
  {
   "cell_type": "markdown",
   "metadata": {},
   "source": [
    "#### 計算 TFIDF 詞頻矩陣"
   ]
  },
  {
   "cell_type": "code",
   "execution_count": 15,
   "metadata": {},
   "outputs": [
    {
     "name": "stderr",
     "output_type": "stream",
     "text": [
      "/home/dongdong/.local/lib/python3.5/site-packages/sklearn/feature_extraction/text.py:286: UserWarning: Your stop_words may be inconsistent with your preprocessing. Tokenizing the stop words generated tokens ['display', 'igzo', 'incj', 'iphone', 'jdi', 'lg', 'nhk', 'nt', 'sdp', 'witsview'] not in stop_words.\n",
      "  sorted(inconsistent))\n"
     ]
    },
    {
     "data": {
      "text/plain": [
       "<8x1196 sparse matrix of type '<class 'numpy.float64'>'\n",
       "\twith 1196 stored elements in Compressed Sparse Row format>"
      ]
     },
     "execution_count": 15,
     "metadata": {},
     "output_type": "execute_result"
    }
   ],
   "source": [
    "tfidf_matrix = tfidf_vectorizer.fit_transform(data)\n",
    "tfidf_matrix"
   ]
  },
  {
   "cell_type": "markdown",
   "metadata": {},
   "source": [
    "#### 顯示 TFIDF 詞頻矩陣大小"
   ]
  },
  {
   "cell_type": "code",
   "execution_count": 16,
   "metadata": {},
   "outputs": [
    {
     "data": {
      "text/plain": [
       "(8, 1196)"
      ]
     },
     "execution_count": 16,
     "metadata": {},
     "output_type": "execute_result"
    }
   ],
   "source": [
    "tfidf_matrix.shape"
   ]
  },
  {
   "cell_type": "markdown",
   "metadata": {},
   "source": [
    "#### 顯示部份 TFIDF 詞頻矩陣中的字詞"
   ]
  },
  {
   "cell_type": "code",
   "execution_count": 17,
   "metadata": {
    "scrolled": true
   },
   "outputs": [
    {
     "name": "stdout",
     "output_type": "stream",
     "text": [
      "['一休', '一例', '一切', '一如', '一整套', '一期', '一段', '一滴', '一秒', '一種', '一群', '一股', '一點', '七十二', '三十', '三季', '上任', '上市公司', '上年', '上路', '下滑', '下稱', '下行', '下跌', '不但', '不佳及', '不利因素', '不動產', '不可捉摸', '不合宜', '不大', '不如', '不妥', '不振', '不明', '不環保', '中前', '中國大', '中國水', '中央', '中央政府', '中東', '中發現', '中西部', '中轉', '中鋼', '主動', '主流', '主義抬頭', '主計']\n"
     ]
    }
   ],
   "source": [
    "words = tfidf_vectorizer.get_feature_names()\n",
    "print(words[0:50])"
   ]
  },
  {
   "cell_type": "code",
   "execution_count": 18,
   "metadata": {},
   "outputs": [
    {
     "data": {
      "text/html": [
       "<div>\n",
       "<style scoped>\n",
       "    .dataframe tbody tr th:only-of-type {\n",
       "        vertical-align: middle;\n",
       "    }\n",
       "\n",
       "    .dataframe tbody tr th {\n",
       "        vertical-align: top;\n",
       "    }\n",
       "\n",
       "    .dataframe thead th {\n",
       "        text-align: right;\n",
       "    }\n",
       "</style>\n",
       "<table border=\"1\" class=\"dataframe\">\n",
       "  <thead>\n",
       "    <tr style=\"text-align: right;\">\n",
       "      <th></th>\n",
       "      <th>台泥2016</th>\n",
       "      <th>台泥2017</th>\n",
       "      <th>致股東報告書2016-亞泥</th>\n",
       "      <th>致股東報告書2016-幸福泥</th>\n",
       "      <th>致股東報告書2016-東南水泥</th>\n",
       "      <th>致股東報告書2017-亞泥</th>\n",
       "      <th>致股東報告書2017-幸福泥</th>\n",
       "      <th>致股東報告書2017-東南水泥</th>\n",
       "    </tr>\n",
       "  </thead>\n",
       "  <tbody>\n",
       "    <tr>\n",
       "      <th>一休</th>\n",
       "      <td>0.000000</td>\n",
       "      <td>0.000000</td>\n",
       "      <td>0.0</td>\n",
       "      <td>0.130189</td>\n",
       "      <td>0.0</td>\n",
       "      <td>0.00000</td>\n",
       "      <td>0.0</td>\n",
       "      <td>0.0</td>\n",
       "    </tr>\n",
       "    <tr>\n",
       "      <th>一例</th>\n",
       "      <td>0.000000</td>\n",
       "      <td>0.000000</td>\n",
       "      <td>0.0</td>\n",
       "      <td>0.130189</td>\n",
       "      <td>0.0</td>\n",
       "      <td>0.00000</td>\n",
       "      <td>0.0</td>\n",
       "      <td>0.0</td>\n",
       "    </tr>\n",
       "    <tr>\n",
       "      <th>一切</th>\n",
       "      <td>0.000000</td>\n",
       "      <td>0.036613</td>\n",
       "      <td>0.0</td>\n",
       "      <td>0.000000</td>\n",
       "      <td>0.0</td>\n",
       "      <td>0.00000</td>\n",
       "      <td>0.0</td>\n",
       "      <td>0.0</td>\n",
       "    </tr>\n",
       "    <tr>\n",
       "      <th>一如</th>\n",
       "      <td>0.000000</td>\n",
       "      <td>0.000000</td>\n",
       "      <td>0.0</td>\n",
       "      <td>0.000000</td>\n",
       "      <td>0.0</td>\n",
       "      <td>0.04398</td>\n",
       "      <td>0.0</td>\n",
       "      <td>0.0</td>\n",
       "    </tr>\n",
       "    <tr>\n",
       "      <th>一整套</th>\n",
       "      <td>0.080582</td>\n",
       "      <td>0.000000</td>\n",
       "      <td>0.0</td>\n",
       "      <td>0.000000</td>\n",
       "      <td>0.0</td>\n",
       "      <td>0.00000</td>\n",
       "      <td>0.0</td>\n",
       "      <td>0.0</td>\n",
       "    </tr>\n",
       "  </tbody>\n",
       "</table>\n",
       "</div>"
      ],
      "text/plain": [
       "       台泥2016    台泥2017  致股東報告書2016-亞泥  致股東報告書2016-幸福泥  致股東報告書2016-東南水泥  \\\n",
       "一休   0.000000  0.000000            0.0        0.130189              0.0   \n",
       "一例   0.000000  0.000000            0.0        0.130189              0.0   \n",
       "一切   0.000000  0.036613            0.0        0.000000              0.0   \n",
       "一如   0.000000  0.000000            0.0        0.000000              0.0   \n",
       "一整套  0.080582  0.000000            0.0        0.000000              0.0   \n",
       "\n",
       "     致股東報告書2017-亞泥  致股東報告書2017-幸福泥  致股東報告書2017-東南水泥  \n",
       "一休         0.00000             0.0              0.0  \n",
       "一例         0.00000             0.0              0.0  \n",
       "一切         0.00000             0.0              0.0  \n",
       "一如         0.04398             0.0              0.0  \n",
       "一整套        0.00000             0.0              0.0  "
      ]
     },
     "execution_count": 18,
     "metadata": {},
     "output_type": "execute_result"
    }
   ],
   "source": [
    "data = pd.DataFrame(tfidf_matrix.toarray().T, index = words, columns = title)\n",
    "data.head()"
   ]
  },
  {
   "cell_type": "markdown",
   "metadata": {},
   "source": [
    "#### 顯示 TFIDF > 閥值 (limit) 的資料"
   ]
  },
  {
   "cell_type": "raw",
   "metadata": {},
   "source": [
    "limit = 0.1\n",
    "wordsperdocument = 10\n",
    "for i in range(len(data)):\n",
    "    count = 0\n",
    "    print('----Document : {0}----'.format(title[i]))\n",
    "    for j in range(len(words)):\n",
    "        if (tfidf_matrix[i,j] > limit) and (count != wordsperdocument):\n",
    "            print(words[j], tfidf_matrix[i,j])\n",
    "            count += 1"
   ]
  },
  {
   "cell_type": "raw",
   "metadata": {},
   "source": [
    "from sklearn.preprocessing import StandardScaler\n",
    "X_std = StandardScaler().fit_transform(pac_value)\n",
    "X_std.shape"
   ]
  },
  {
   "cell_type": "raw",
   "metadata": {},
   "source": [
    "pca = PCA()\n",
    "pac_value = pca.fit_transform(tfidf_matrix.toarray())\n",
    "data = pd.DataFrame(pac_value)"
   ]
  },
  {
   "cell_type": "code",
   "execution_count": 19,
   "metadata": {},
   "outputs": [
    {
     "data": {
      "text/plain": [
       "<matplotlib.axes._subplots.AxesSubplot at 0x7faa33492b70>"
      ]
     },
     "execution_count": 19,
     "metadata": {},
     "output_type": "execute_result"
    },
    {
     "data": {
      "image/png": "[encoded data removed]",
      "text/plain": [
       "<Figure size 1080x1080 with 2 Axes>"
      ]
     },
     "metadata": {
      "needs_background": "light"
     },
     "output_type": "display_data"
    }
   ],
   "source": [
    "f, ax = plt.subplots(figsize=(15,15))\n",
    "plt.title('Correlation of Documents', fontsize = 13)\n",
    "sns.heatmap(data.astype(float).corr(), linewidths=0.25, vmax=1.0, square=True,\n",
    "           cmap=\"YlGnBu\", linecolor='black', annot=True)"
   ]
  },
  {
   "cell_type": "code",
   "execution_count": 20,
   "metadata": {},
   "outputs": [
    {
     "data": {
      "text/plain": [
       "array([[-0.34509147, -0.47030831, -0.43399502, ..., -0.49882367,\n",
       "        -0.17641818, -0.18840869],\n",
       "       [-0.34509147, -0.47030831, -0.43399502, ..., -0.49882367,\n",
       "        -0.17641818, -0.18840869],\n",
       "       [-0.34509147,  0.92891741, -0.43399502, ..., -0.49882367,\n",
       "        -0.17641818, -0.18840869],\n",
       "       ...,\n",
       "       [-0.34509147,  0.92891741, -0.43399502, ..., -0.49882367,\n",
       "        -0.17641818, -0.18840869],\n",
       "       [-0.34509147,  0.92891741, -0.43399502, ..., -0.49882367,\n",
       "        -0.17641818, -0.18840869],\n",
       "       [-0.34509147,  0.92891741, -0.43399502, ..., -0.49882367,\n",
       "        -0.17641818, -0.18840869]])"
      ]
     },
     "execution_count": 20,
     "metadata": {},
     "output_type": "execute_result"
    }
   ],
   "source": [
    "data_std = StandardScaler().fit_transform(data.values)\n",
    "data_std"
   ]
  },
  {
   "cell_type": "code",
   "execution_count": 21,
   "metadata": {},
   "outputs": [
    {
     "data": {
      "text/plain": [
       "array([[ 0.12184057,  0.18209464,  0.57045442, ...,  3.21077152,\n",
       "        -1.18007642, -0.43541934],\n",
       "       [ 0.12184057,  0.18209464,  0.57045442, ...,  3.21077152,\n",
       "        -1.18007642, -0.43541934],\n",
       "       [ 0.82199608, -0.80949164, -0.32567974, ...,  0.02075401,\n",
       "        -0.03052797, -0.01713382],\n",
       "       ...,\n",
       "       [ 0.82199608, -0.80949164, -0.32567974, ...,  0.02075401,\n",
       "        -0.03052797, -0.01713382],\n",
       "       [ 0.82199608, -0.80949164, -0.32567974, ...,  0.02075401,\n",
       "        -0.03052797, -0.01713382],\n",
       "       [ 0.82199608, -0.80949164, -0.32567974, ...,  0.02075401,\n",
       "        -0.03052797, -0.01713382]])"
      ]
     },
     "execution_count": 21,
     "metadata": {},
     "output_type": "execute_result"
    }
   ],
   "source": [
    "pca = PCA(n_components=7)\n",
    "x_7d = pca.fit_transform(data_std)\n",
    "x_7d"
   ]
  },
  {
   "cell_type": "code",
   "execution_count": 22,
   "metadata": {},
   "outputs": [
    {
     "data": {
      "text/plain": [
       "array([[ 0.12184057,  0.18209464,  0.57045442, ...,  3.21077152,\n",
       "        -1.18007642, -0.43541934],\n",
       "       [ 0.12184057,  0.18209464,  0.57045442, ...,  3.21077152,\n",
       "        -1.18007642, -0.43541934],\n",
       "       [ 0.82199608, -0.80949164, -0.32567974, ...,  0.02075401,\n",
       "        -0.03052797, -0.01713382],\n",
       "       ...,\n",
       "       [ 0.82199608, -0.80949164, -0.32567974, ...,  0.02075401,\n",
       "        -0.03052797, -0.01713382],\n",
       "       [ 0.82199608, -0.80949164, -0.32567974, ...,  0.02075401,\n",
       "        -0.03052797, -0.01713382],\n",
       "       [ 0.82199608, -0.80949164, -0.32567974, ...,  0.02075401,\n",
       "        -0.03052797, -0.01713382]])"
      ]
     },
     "execution_count": 22,
     "metadata": {},
     "output_type": "execute_result"
    }
   ],
   "source": [
    "pca4 = PCA(n_components=4)\n",
    "x_4d = pca.fit_transform(data_std)\n",
    "x_4d"
   ]
  },
  {
   "cell_type": "code",
   "execution_count": 23,
   "metadata": {},
   "outputs": [
    {
     "data": {
      "image/png": "[encoded data removed]",
      "text/plain": [
       "<Figure size 504x504 with 1 Axes>"
      ]
     },
     "metadata": {
      "needs_background": "light"
     },
     "output_type": "display_data"
    }
   ],
   "source": [
    "#Set a 3 KMeans clustering\n",
    "kmeans = KMeans(n_clusters = 3)\n",
    "\n",
    "#Compute cluster centers and predict cluster indices\n",
    "X_clustered = kmeans.fit_predict(x_7d)\n",
    "\n",
    "#Define our own color map\n",
    "LABEL_COLOR_MAP = {0:'r', 1: 'g', 2: 'b'}\n",
    "label_color = [LABEL_COLOR_MAP[l] for l in X_clustered]\n",
    "\n",
    "# Plot the scatter digram\n",
    "plt.figure(figsize = (7,7))\n",
    "plt.scatter(x_7d[:,0],x_7d[:,2], c= label_color, alpha=0.5) \n",
    "plt.show()"
   ]
  },
  {
   "cell_type": "code",
   "execution_count": 24,
   "metadata": {},
   "outputs": [
    {
     "data": {
      "image/png": "[encoded data removed]",
      "text/plain": [
       "<Figure size 504x504 with 1 Axes>"
      ]
     },
     "metadata": {
      "needs_background": "light"
     },
     "output_type": "display_data"
    }
   ],
   "source": [
    "#Set a 3 KMeans clustering\n",
    "kmeans = KMeans(n_clusters = 3)\n",
    "\n",
    "#Compute cluster centers and predict cluster indices\n",
    "X_clustered = kmeans.fit_predict(x_4d)\n",
    "\n",
    "#Define our own color map\n",
    "LABEL_COLOR_MAP = {0:'r', 1: 'g', 2: 'b'}\n",
    "label_color = [LABEL_COLOR_MAP[l] for l in X_clustered]\n",
    "\n",
    "# Plot the scatter digram\n",
    "plt.figure(figsize = (7,7))\n",
    "plt.scatter(x_4d[:,0],x_4d[:,2], c= label_color, alpha=0.5) \n",
    "plt.show()"
   ]
  }
 ],
 "metadata": {
  "kernelspec": {
   "display_name": "Python 3",
   "language": "python",
   "name": "python3"
  },
  "language_info": {
   "codemirror_mode": {
    "name": "ipython",
    "version": 3
   },
   "file_extension": ".py",
   "mimetype": "text/x-python",
   "name": "python",
   "nbconvert_exporter": "python",
   "pygments_lexer": "ipython3",
   "version": "3.5.2"
  },
  "varInspector": {
   "cols": {
    "lenName": 16,
    "lenType": 16,
    "lenVar": 40
   },
   "kernels_config": {
    "python": {
     "delete_cmd_postfix": "",
     "delete_cmd_prefix": "del ",
     "library": "var_list.py",
     "varRefreshCmd": "print(var_dic_list())"
    },
    "r": {
     "delete_cmd_postfix": ") ",
     "delete_cmd_prefix": "rm(",
     "library": "var_list.r",
     "varRefreshCmd": "cat(var_dic_list()) "
    }
   },
   "position": {
    "height": "428px",
    "left": "1493px",
    "right": "20px",
    "top": "115px",
    "width": "350px"
   },
   "types_to_exclude": [
    "module",
    "function",
    "builtin_function_or_method",
    "instance",
    "_Feature"
   ],
   "window_display": false
  }
 },
 "nbformat": 4,
 "nbformat_minor": 2
}
