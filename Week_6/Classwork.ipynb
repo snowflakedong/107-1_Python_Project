{
 "cells": [
  {
   "cell_type": "markdown",
   "metadata": {},
   "source": [
    "#### 讀取需要的函式庫"
   ]
  },
  {
   "cell_type": "code",
   "execution_count": 60,
   "metadata": {},
   "outputs": [],
   "source": [
    "from sklearn.feature_extraction.text import TfidfVectorizer\n",
    "from sklearn.feature_extraction.text import CountVectorizer\n",
    "from sklearn.decomposition import PCA\n",
    "from sklearn.cluster import KMeans\n",
    "from sklearn.metrics.pairwise import cosine_similarity\n",
    "from IPython.display import clear_output\n",
    "from wordcloud import WordCloud\n",
    "from PIL import Image\n",
    "import seaborn as sns\n",
    "from func import *\n",
    "import matplotlib.pyplot as plt\n",
    "import pandas as pd\n",
    "import numpy as np\n",
    "import jieba\n",
    "import sys\n",
    "import re\n",
    "import os\n",
    "# re -> \\d for number, \\s for any space (\\t\\r\\n...) "
   ]
  },
  {
   "cell_type": "markdown",
   "metadata": {},
   "source": [
    "#### 定義 addstopword 及 adddict 函式"
   ]
  },
  {
   "cell_type": "code",
   "execution_count": 2,
   "metadata": {},
   "outputs": [],
   "source": [
    "def addstopword(data):\n",
    "    stop = []\n",
    "    if os.path.isfile('./stay.txt'):\n",
    "        with open('./stay.txt', 'rb') as f:\n",
    "                text = f.read()\n",
    "                encode = chardet.detect(text)\n",
    "        stay = list(map(str.strip, open('./stay.txt', 'r+', encoding=encode['encoding']).readlines()))\n",
    "    else:\n",
    "        stay = []\n",
    "    length = len(data)\n",
    "    index = 0\n",
    "    value = ''\n",
    "    tmp = ''\n",
    "    while(index != length):\n",
    "        if data[index] not in stay:\n",
    "            print(data[index])\n",
    "            value = input('Add to stop word [y:stopword/n:stayword/q:quit]: ')\n",
    "            if value == 'y':\n",
    "                if tmp == 'p': stay.remove(data[index])\n",
    "                stop.append(data[index])\n",
    "            elif value == 'n':\n",
    "                if tmp == 'p': stop.remove(data[index])\n",
    "                stay.append(data[index])\n",
    "            elif value == 'p':\n",
    "                index -= 2\n",
    "            elif value == 'q':\n",
    "                break\n",
    "            clear_output()\n",
    "        tmp = value\n",
    "        index += 1\n",
    "    return stop, stay\n",
    "\n",
    "\n",
    "def addword():\n",
    "    word = []\n",
    "    while(True):\n",
    "        # clear_output()\n",
    "        value = input('Add to dictionay word [q:quit]: ')\n",
    "        if value == 'q':\n",
    "            break\n",
    "        else:\n",
    "            word.append(value)\n",
    "    return word"
   ]
  },
  {
   "cell_type": "markdown",
   "metadata": {},
   "source": [
    "#### 讀取資料夾中的資料"
   ]
  },
  {
   "cell_type": "code",
   "execution_count": 3,
   "metadata": {},
   "outputs": [
    {
     "name": "stdout",
     "output_type": "stream",
     "text": [
      "\n",
      "Number of files : 10\n"
     ]
    }
   ],
   "source": [
    "#path = '../../107-1PythonSampleCode/week_5/task_5/*.txt'\n",
    "path = './first/*.txt'\n",
    "title, data = readdir(path)"
   ]
  },
  {
   "cell_type": "markdown",
   "metadata": {},
   "source": [
    "#### 顯示部份資料內容"
   ]
  },
  {
   "cell_type": "code",
   "execution_count": 4,
   "metadata": {},
   "outputs": [
    {
     "name": "stdout",
     "output_type": "stream",
     "text": [
      "----Document : first01----\n",
      "﻿1.鴻夏戀 郭台銘\n",
      "...\n",
      "今尚難定論。\r\n",
      "\r\n",
      "\n",
      "----Document : first02----\n",
      "﻿2.\t\r\n",
      "郭台銘進\n",
      "...\n",
      "，顯得顛簸。\r\n",
      "\r\n",
      "\n",
      "----Document : first03----\n",
      "﻿3.\t親會夏普高層\n",
      "...\n",
      "召開記者會。\r\n",
      "\r\n",
      "\n",
      "----Document : first04----\n",
      "﻿4.\t傳鴻海擬吃夏\n",
      "...\n",
      "「明智」的決定。\r\n",
      "\n",
      "----Document : first05----\n",
      "﻿5.\t郭董為何苦追\n",
      "...\n",
      "市場 重要度：低\r\n",
      "\n",
      "----Document : first06----\n",
      "﻿6.\t夏普社長示愛\n",
      "...\n",
      "界矚目焦點！\r\n",
      "\r\n",
      "\n",
      "----Document : first07----\n",
      "﻿7.\tINCJ嗆鴻\n",
      "...\n",
      "的團結愛國之心。\r\n",
      "\n",
      "----Document : first08----\n",
      "﻿8.\t「鴻夏戀」破\n",
      "...\n",
      "AVX締結合約。\r\n",
      "\n",
      "----Document : first09----\n",
      "﻿9.\t夏普收購案背\n",
      "...\n",
      "組的標誌性案例。\r\n",
      "\n",
      "----Document : first10----\n",
      "﻿10.\t夏普證實鴻\n",
      "...\n",
      "狂飆16.8%。\r\n",
      "\n"
     ]
    }
   ],
   "source": [
    "for i in range(len(data)):\n",
    "    print('----Document : {0}----'.format(title[i]))\n",
    "    print(data[i][:10], '...', data[i][-10:-1], sep='\\n', end='\\n\\n')"
   ]
  },
  {
   "cell_type": "markdown",
   "metadata": {},
   "source": [
    "#### 新增詞彙至自定義詞庫，並匯入該詞庫\n",
    "* savetofile(path, list_like_data)\n",
    "* example for list_like_data:\n",
    "  * [['來台']] : 完整 '來台' 字串被存入字典中\n",
    "  * ['來台'] :　'來台' 視為獨立字元，存入 '來' '台' 於字典中 "
   ]
  },
  {
   "cell_type": "code",
   "execution_count": 5,
   "metadata": {},
   "outputs": [
    {
     "name": "stderr",
     "output_type": "stream",
     "text": [
      "Building prefix dict from the default dictionary ...\n",
      "Loading model from cache /tmp/jieba.cache\n",
      "Loading model cost 1.150 seconds.\n",
      "Prefix dict has been built succesfully.\n"
     ]
    }
   ],
   "source": [
    "# savetofile('./dict.txt', [['來台']])  # 完整字串　'來台'　被存入字典中\n",
    "jieba.load_userdict('./dict.txt')"
   ]
  },
  {
   "cell_type": "markdown",
   "metadata": {},
   "source": [
    "#### 新增詞彙至自定義停止詞彙中"
   ]
  },
  {
   "cell_type": "code",
   "execution_count": 6,
   "metadata": {},
   "outputs": [],
   "source": [
    "stopwords = ['一','二','三','四','五','六','用','淨','利','值','前','據','談','自','至','曾','出',\n",
    "            '合','最','供','而','個','很','得','達','家','進','所','夏','若','邱','但','中','可',\n",
    "            '他','我','列','將','對','之','率','已','由','佔','本','日','月','年','另','故','於',\n",
    "            '較','請','再','經','也','在','依','到','等','或','大','認列','不僅','讓','相關','最終',\n",
    "            '把','沒','及','過去','認為','為','按','比','仍','係','後','及與','以','時','該','的',\n",
    "            '並','更','就','註','有','事','來','不','從','堺','權','從','卻','說','要','今','度',\n",
    "            '手','才','又','其','長','了','百','億','元','例如','可能','由於','因此','土城','一份',\n",
    "            '上午','這份','多','赴','和','與','是','約','就是','只是','但是','如果','附註','部分',\n",
    "            '事項','各位','品牌','集團','幅度','資產','新','台幣','日圓','億日圓','機構','面板','日元',\n",
    "            '企業','報導','媒體','目前','提案','經營','實地','大阪','億元','以及','代工','一步','第二',\n",
    "            '雙方','方案','分析','接受','成為','事業','目前','高橋','董事','營業','受到','提供','使用',\n",
    "            '本年','說明','現金','成本','營業外','收入','結轉','分攤','其他','影響財務','詳合','結果',\n",
    "            '不是','是否','最高','記者','超過','兩家','主幹','我們','除了','自己','立刻','','日本',\n",
    "            '之間','不過','今天','然而','此外','工廠','預測','如下','之一','附註','附','註','其中',\n",
    "            '因為','查核','報告增加','會計','相對','仟元','金額','權益','能力利益','股東','合理性',\n",
    "            '假設','無形','上','開關鍵','模型','支出','控制','計算','資金評估','報告','因應','仟元',\n",
    "            '金額','權益','假設','無形','上','模型','支出','控制','計算資金','評估','人次','重大',\n",
    "            '資訊','總額','民國','估計','一副','公司','年度','包括','正確性','正','確性','減損','共為',\n",
    "            '預估','預算','去年同期','應該','雖然','下午','要求','一樣','一家','維持','公開','整體',\n",
    "            '表示','特性','市場','科目','發生','年本','重要','判斷','主要','流量','意見','關鍵','同期',\n",
    "            '評價','正確','地區','總資產','執行','程序','測試','稅後淨利','股份有限公司','蘋果','鴻海',\n",
    "            '夏普','郭台銘','鴻夏戀','iPhone','1','2','3','4','5','6','7','8','9','0','NT','2012',\n",
    "            '10','三星','供應商','INCJ','案','LG','會','下','買','電子','清單','向','都','郭董',\n",
    "            '能力','進','廠','內','購','併','這','看','人','被','能','外界','指出','五日','不同','陷入',\n",
    "            '出現','一年','什麼','安倍','這個','可以','一個','同時','去年','部門','二月','這是','月底',\n",
    "            '完成','財務','今年','階段','子公司','條件','引述','召開','擁有','有助','持有','進入','旗下',\n",
    "            '已經','入座','罩','業務','顯示','尺寸','萬張','取得','高達','持續','進行','人士','提出',\n",
    "            '社長','加工','內容','總部','沒有','加上','決定','群創','最大','四年','代廠','做','鴻','高',\n",
    "            '市','不會','傳出','文件','客戶超過','SDP','JDI','IGZO','Display','WitsView','NHK',\n",
    "            '12','7000','3500','2015','2016','25','30','000','29']\n",
    "puncs_Full = '！？｡＂＃＄％＆＇（）()＊＋，－／：；＜＝＞＠［＼］$＾＿｀｛｜｝～｟｠｢｣､、〃》「」『』【】〔〕〖〗〘〙〚〛〜〝〞〟〰〾〿–—‘’‛“”„‟…‧﹏.。'\n",
    "puncs_Half = \"!?.#$%&'()*+,-/:;<=>@[]^_{}|~\\\\\\\"\"\n",
    "savetofile('./stopword.txt', [stopwords, puncs_Full, puncs_Half])"
   ]
  },
  {
   "cell_type": "code",
   "execution_count": 7,
   "metadata": {},
   "outputs": [
    {
     "name": "stdout",
     "output_type": "stream",
     "text": [
      "\n",
      "Number of files : 1\n"
     ]
    },
    {
     "data": {
      "text/plain": [
       "['一', '二', '三', '四', '五', '六', '用', '淨', '利', '值']"
      ]
     },
     "execution_count": 7,
     "metadata": {},
     "output_type": "execute_result"
    }
   ],
   "source": [
    "stopword = readdir('./stopword.txt')[1][0].split('\\n')\n",
    "stopword.append('\\n')\n",
    "stopword[0:10]"
   ]
  },
  {
   "cell_type": "markdown",
   "metadata": {},
   "source": [
    "#### 利用 jieba 對文件進行斷字，並統計字詞頻率，顯示前十名資料"
   ]
  },
  {
   "cell_type": "code",
   "execution_count": 8,
   "metadata": {},
   "outputs": [
    {
     "name": "stdout",
     "output_type": "stream",
     "text": [
      "Number of word in document (first01) :  442\n",
      "[('\\r\\n', 56), ('重整', 7), ('產業', 7), ('台灣', 7), ('銀行', 6), ('談判', 6), ('革新', 6), ('協議', 6), ('〈', 5), ('〉', 4)]\n",
      "Number of word in document (first02) :  512\n",
      "[('\\r\\n', 71), ('技術', 16), ('談判', 6), ('優先', 6), ('希望', 6), ('OLED', 5), ('產品', 5), ('零件', 5), ('台灣', 5), ('掌握', 5)]\n",
      "Number of word in document (first03) :  317\n",
      "[('\\r\\n', 74), ('合作', 9), ('未來', 4), ('股權', 4), ('時間', 4), ('投資', 4), ('小時', 3), ('計劃', 3), ('參與', 3), ('國外', 3)]\n",
      "Number of word in document (first04) :  166\n",
      "[('\\r\\n', 14), ('股權', 4), ('收購', 4), ('銀行', 3), ('希望', 3), ('外傳', 3), ('搶', 2), ('最新版', 2), ('郭', 2), ('此', 2)]\n",
      "Number of word in document (first05) :  452\n",
      "[('\\r\\n', 96), ('技術', 15), ('全球', 10), ('○', 8), ('效益', 8), ('碩', 5), ('未來', 5), ('產品', 5), ('平板', 4), ('手機', 4)]\n",
      "Number of word in document (first06) :  188\n",
      "[('\\r\\n', 19), ('合作', 4), ('援助', 3), ('十代', 3), ('成功', 3), ('找', 3), ('正果', 2), ('萬片', 2), ('沒來', 2), ('似乎', 2)]\n",
      "Number of word in document (first07) :  150\n",
      "[('\\r\\n', 18), ('Ｃ', 5), ('Ｊ', 5), ('Ｎ', 5), ('Ｉ', 5), ('成長', 3), ('收購', 3), ('獨立', 2), ('志賀俊', 2), ('你', 2)]\n",
      "Number of word in document (first08) :  355\n",
      "[('\\r\\n', 55), ('產業', 9), ('經濟', 8), ('技術', 5), ('策略', 5), ('液晶', 5), ('台灣', 5), ('收購', 5), ('AVX', 5), ('銀行', 4)]\n",
      "Number of word in document (first09) :  568\n",
      "[('\\r\\n', 61), ('革新', 17), ('產業', 15), ('銀行', 14), ('重建', 11), ('優勢', 10), ('技術', 9), ('《', 8), ('收購', 7), ('決策', 7)]\n",
      "Number of word in document (first10) :  201\n",
      "[('\\r\\n', 24), ('損額', 4), ('技術', 3), ('優勢', 3), ('雖', 3), ('虧', 3), ('援助', 3), ('日經', 3), ('外流', 3), ('營損額', 3)]\n"
     ]
    }
   ],
   "source": [
    "wordDictionary = []\n",
    "for i in range(len(data)):\n",
    "    seg_list = jieba.cut(data[i], cut_all=False)\n",
    "    seg_list = list(seg_list)\n",
    "    wordDict = {}\n",
    "    for w in seg_list:\n",
    "        if (w not in stopword) and (w not in puncs_Full) and (w not in puncs_Half):\n",
    "            if w in wordDict:\n",
    "                wordDict[w] = wordDict[w] + 1\n",
    "            else:\n",
    "                wordDict[w] = 1\n",
    "    wordDictionary.append(wordDict)\n",
    "    print('Number of word in document ({0}) : '.format(title[i]), len(wordDict))\n",
    "    sort = sorted(wordDict.items(), key=lambda x: x[1], reverse = True)\n",
    "    print(sort[0:10])\n",
    "    data[i] = ' '.join(jieba.cut(data[i], cut_all=False))"
   ]
  },
  {
   "cell_type": "markdown",
   "metadata": {},
   "source": [
    "#### 顯示各文件低於閥值 (limit) 的字詞"
   ]
  },
  {
   "cell_type": "code",
   "execution_count": 9,
   "metadata": {},
   "outputs": [
    {
     "name": "stdout",
     "output_type": "stream",
     "text": [
      "----Document : first01----\n",
      "\n",
      "----Document : first02----\n",
      "\n",
      "----Document : first03----\n",
      "\n",
      "----Document : first04----\n",
      "\n",
      "----Document : first05----\n",
      "\n",
      "----Document : first06----\n",
      "\n",
      "----Document : first07----\n",
      "\n",
      "----Document : first08----\n",
      "\n",
      "----Document : first09----\n",
      "\n",
      "----Document : first10----\n",
      "\n"
     ]
    }
   ],
   "source": [
    "limit = 0\n",
    "wordsperdocument = 50\n",
    "for i in range(len(data)):\n",
    "    count = 0\n",
    "    print('----Document : {0}----'.format(title[i]))\n",
    "    for ind, value in wordDictionary[0].items():\n",
    "        if (value <= limit) & (count != wordsperdocument):\n",
    "            count += 1\n",
    "            print(ind, end = ', ')\n",
    "    print()"
   ]
  },
  {
   "cell_type": "markdown",
   "metadata": {},
   "source": [
    "#### 利用 wordDictionary 移除出現次數低於閥值 (limit) 的字詞，並顯示部份結果"
   ]
  },
  {
   "cell_type": "code",
   "execution_count": 10,
   "metadata": {},
   "outputs": [
    {
     "name": "stdout",
     "output_type": "stream",
     "text": [
      "document : first01\n",
      "﻿ 1 . 鴻夏戀   郭台銘 沒學 的 「 大阪 談判術 」 \r\n",
      " 鴻夏戀 談 了 四年 ， 過程... 為 目標 。 只是 鴻海 和 夏普 的 合作 談判 很 脆弱 ， 至今 尚難 定論 。 \r\n",
      " \r\n",
      "\n",
      "document : first02\n",
      "﻿ 2 . \t \r\n",
      " 郭台銘 進擊 碰壁 ： 鴻夏戀 仍 原地踏步 ？ \r\n",
      " 峰 迴 路轉 ， 撲 ...有 來 到 郭台銘 手上 ？ 邁向鴻夏 「 結婚 」 的 最後一哩路 ， 顯得 顛簸 。 \r\n",
      " \r\n",
      "\n",
      "document : first03\n",
      "﻿ 3 . \t 親會 夏 普高 層   郭台銘 ： 完成 九成   盼 29 日 簽約 \r\n",
      " 鴻海 ...。 據 報導 ， 郭董 表示 ， 將在 2 月 29 日 就 夏普 案召開 記者 會 。 \r\n",
      " \r\n",
      "\n",
      "document : first04\n",
      "﻿ 4 . \t 傳 鴻海 擬吃 夏普 2 ／ 3 股權 \r\n",
      " 鴻海 搶親 夏普 （ Sharp ） ...在 仔細 比 較 鴻海 和 INCJ 提案 後 ， 可以 做出 最 「 明智 」 的 決定 。 \r\n",
      "\n",
      "document : first05\n",
      "﻿ 5 . \t 郭董 為 何苦 追錢 坑 夏普 ？ \r\n",
      " 鴻海 集團 董事 長 郭台銘 在 外商 採...鴻海 有 科技 技術 與 量產 能力 ， 可結合 搶攻 智慧 家庭 市場   重要 度 ： 低 \r\n",
      "\n",
      "document : first06\n",
      "﻿ 6 . \t 夏普 社長 示愛   重燃鴻夏戀 \r\n",
      " 夏普 才剛 接受 堺 市 十代 廠 SDP ...像 空間 ， 看來鴻夏戀 成不成 ， 明天 鴻海 股東會 ， 將成 外界 矚目 焦點 ！ \r\n",
      " \r\n",
      "\n",
      "document : first07\n",
      "﻿ 7 . \t INCJ 嗆 鴻海 是 要 吃掉 夏普 \r\n",
      " 日本 產業 革新 機構 （ Ｉ Ｎ Ｃ...銘 就算 今天 想當 一回 稻盛和夫 ， 恐怕 也 敵不過 日本 人 的 團結 愛國 之心 。 \r\n",
      "\n",
      "document : first08\n",
      "﻿ 8 . \t 「 鴻夏戀 」 破局   敗給 團結 的 日本 \r\n",
      " 鴻海 併 夏普 的 「 鴻夏戀...此 ， 力排 眾議 ， 以 高出 原股價 一倍 多 的 72 美元 與 AVX 締結合 約 。 \r\n",
      "\n",
      "document : first09\n",
      "﻿ 9 . \t 夏普 收購案 背 後 的 光和影 \r\n",
      " 2 月 4 日 ， 陷入 經營 困境 中 的... ， 夏普 重建 方案 的 選擇 或 許會 成為 日本 電子業界 重組 的 標誌 性 案例 。 \r\n",
      "\n",
      "document : first10\n",
      "﻿ 10 . \t 夏普 證實 鴻海 具優勢 、 郭董 赴 日 談 「 最 後 一步 」 \r\n",
      " 台灣 ...2015 年 11 月 24 日以 來 新高 水準 ； 夏普 4 日收盤 狂飆 16.8% 。 \r\n",
      "\n"
     ]
    }
   ],
   "source": [
    "for i in range(len(data)):\n",
    "    for key, value in wordDictionary[0].items():\n",
    "        if value <= limit:\n",
    "            data[i] = data[i].replace(key, '')\n",
    "    print('document :', title[i])\n",
    "    print(data[i][:50], '...', data[i][-50:-1], sep='', end='\\n\\n')"
   ]
  },
  {
   "cell_type": "markdown",
   "metadata": {},
   "source": [
    "#### 移除所有標點符號、非中文英文數字之資料"
   ]
  },
  {
   "cell_type": "code",
   "execution_count": 11,
   "metadata": {},
   "outputs": [],
   "source": [
    "for i in range(len(data)):\n",
    "    data[i] = re.sub('[^\\u4e00-\\u9fff ]', '', data[i])\n",
    "#[^\\u4e00-\\u9fff A-Za-z0-9]"
   ]
  },
  {
   "cell_type": "markdown",
   "metadata": {},
   "source": [
    "#### 印出部份斷字結果"
   ]
  },
  {
   "cell_type": "code",
   "execution_count": 12,
   "metadata": {},
   "outputs": [
    {
     "name": "stdout",
     "output_type": "stream",
     "text": [
      "document : first01\n",
      "   鴻夏戀   郭台銘 沒學 的  大 ... 談判 很 脆弱  至今 尚難 定論  \n",
      "\n",
      "document : first02\n",
      "     郭台銘 進擊 碰壁  鴻夏戀  ... 婚  的 最後一哩路  顯得 顛簸  \n",
      "\n",
      "document : first03\n",
      "    親會 夏 普高 層   郭台銘  ...   日 就 夏普 案召開 記者 會  \n",
      "\n",
      "document : first04\n",
      "    傳 鴻海 擬吃 夏普    股權 ...  可以 做出 最  明智  的 決定 \n",
      "\n",
      "document : first05\n",
      "    郭董 為 何苦 追錢 坑 夏普  ...  智慧 家庭 市場   重要 度  低\n",
      "\n",
      "document : first06\n",
      "    夏普 社長 示愛   重燃鴻夏戀 ...  股東會  將成 外界 矚目 焦點  \n",
      "\n",
      "document : first07\n",
      "     嗆 鴻海 是 要 吃掉 夏普  ... 不過 日本 人 的 團結 愛國 之心 \n",
      "\n",
      "document : first08\n",
      "     鴻夏戀  破局   敗給 團結 ... 倍 多 的  美元 與  締結合 約 \n",
      "\n",
      "document : first09\n",
      "    夏普 收購案 背 後 的 光和影 ...  電子業界 重組 的 標誌 性 案例 \n",
      "\n",
      "document : first10\n",
      "    夏普 證實 鴻海 具優勢  郭董 ... 新高 水準  夏普  日收盤 狂飆  \n",
      "\n"
     ]
    }
   ],
   "source": [
    "for i in range(len(data)):\n",
    "    print('document :', title[i])\n",
    "    print(data[i][:20], ' ... ', data[i][-20:-1], sep='', end='\\n\\n')"
   ]
  },
  {
   "cell_type": "markdown",
   "metadata": {},
   "source": [
    "#### 初始化 TFIDF 物件，用以計算 tfidf"
   ]
  },
  {
   "cell_type": "code",
   "execution_count": 13,
   "metadata": {},
   "outputs": [],
   "source": [
    "tfidf_vectorizer = TfidfVectorizer(max_df = 1, min_df = 0, analyzer = 'word'\n",
    "                                   , stop_words = stopword, max_features = 10000)\n",
    "#tfidf_vectorizer = CountVectorizer(stop_words = stopword)"
   ]
  },
  {
   "cell_type": "markdown",
   "metadata": {},
   "source": [
    "#### 顯示初始化時輸入的停止詞彙 "
   ]
  },
  {
   "cell_type": "code",
   "execution_count": 14,
   "metadata": {},
   "outputs": [
    {
     "name": "stdout",
     "output_type": "stream",
     "text": [
      "frozenset({'', '等', '事業', '對象', 'INCJ', '假設', '之丁', '會計師', '而', '曾', '三千五百', '查核', '以人', '之研', '之劃', '規劃', '比', '今年', '＾', '之約', '依上', '且並', '家', '但本', '三名', '一回', '｢', '二親', '7000', '各位', '並監控', '六', '乃來', '】', '以', '三十分', '也將', 'WitsView', '總資產', '並引', '供', '仍會', '上述', '代工', '稻盛和夫', '！', '並合', '之半', '位達', '之會計', '入座', '群創', '促進本', '給出', '模型', '－', '此外', '之平', '陷入', '依循', '共為', '預算', '判斷', '召開', '一九', '乏力', '仟片', '以來', '並重', '利益', '之場', '日本', '伍拾', '做', '&', '–', '他們', '一新', '更', '仍', '就是', '10', '控制', '一四會計', '之執', '〃', '之時', '幅度', '。', '進行', '之持', '﹏', '或', '下方', '事及', '程序', '只是', '三等', '億日', '上斷', '2012', '〚', '供質', '以千', '這是', '一千', '能力', '上週', '其他', '經', '傳輸時', '超過', '下本', '並稱', '赴', '七年', '一套', '一月底', '上半年', '之獨', '稻盛', '計師', '百', '關鍵', '完成', '9', '形容', '不包', '二月', '正', '並檢', '｜', '中境', '五', '並無', '之永', '高橋', '一項', '｝', '董事', '按', ' ', '對', '了', '夏普', '之任', '｣', '並於給', '之部門', '一位', '下來', '並以', '一龍', '機構', '一度', '之架構', '因為', '方案', '無疑', '就', '不可', '條件', '仟個', '2', '淨', '事', 'NT', '上層', '3', '以不', '^', '自己', '上午', '黑衣', '下', '｛', '事項', '～', '自', '之輸入', '之市場', '之心', '之經', '正確', '禮樹', ';', '以口頭', '沒有', '資金', '不再', '”', '部門', '不過', '之相', '與', '（', '人之薪', '而且', '結果', '不法', '之運', '增加', '要', '不良', '多', '合理性', '並取', '總部', '仟及', '互網', '伙伴', '方面', '股份有限公司', '其中', '能力利益', '之下', '年', '一支', '依部', '測試', '以避', '7', '依經', '故', '手', '談', '下腳', '並依', '一致', '金額', '仍持', '不少', '不想', '\\n', '最大', '進入', '之廠', '並非', '執行', '中逆勢', '客戶超過', '之納', '罩', '及', '〗', '不棄', '主角', '之溢', '並向', '月', '本年', '中將', '5', '評估', '30', '二', '帳金額', '持有', '可', '享有', '＠', '一', '二百', '仍將', '在', '三星', '以筆', '另', '_', '一向', '五日', '倫理守', '以護', '以供', '有助', '雖然', '一成則', '股東', '不快', '僱及', '\"', '一遭', '之丙', '之順', '代廠', '：', '預測', '資訊', '提案', '該', '計算', '【', '說', '深陷', '延長', '不時', '會計', '分攤', '之驗', '之授', '企業', 'LG', '不太可能', '之一', '提供', '之應', '仟玖佰', '五個', '內', '〛', '是否', '社長', '估計', '認', '之不', '佰壹拾', '依來', '並斷', '擁有', '}', '報導', '並呈', '約', '上', '並列', '卻', '郭台銘', '一億', '得到', '第二', '市場', '較', '依權', '一則', '並應', '會', '民國', '資金評估', '事業部', '之利得', '6', '供應將', '#', '之輸', '之組', '不償', '不見', '之中', '之庫', '候人案', '仟元及', '之大', '之事', '休法', '不利素', '稅後淨利', '上面', '之補', ']', '大', '一百', '我們', '之利', '三八', '<', '不必', '鴻夏戀', '中箭', '中陸', '和', 'IGZO', '一站', '；', '中劃', '一流', '不願', '住院', '達', '階段', '一手', '一旦', '雙方', '分析', '取得', '之履', '8', '一方', '這份', '一來', '詳合', '任職', '不僅', '之承', '報告增加', '』', '個', '相關', '之來', '之至', 'JDI', '一路', '三支', '＼', '％', '今', '由', 'iPhone', '｀', '能', '上揚', '＃', ',', '為何', '一早', '舉止', '之五', '中房', '主要', '但', '上不斷', '內容', '麥克風', '新', '德拉', '一個', '一大', '傳輸系', '依集邦', '一整天', '上千', '三方', '之年', '上個', '》', '一部', '出現', '可以', '顯示', '､', '之無償', '並積極', '中信', '〔', '任越', '結轉', '指出', '三日', '決定', '五權', '〿', '年度', '點之', '回到', '又', '一經', '下述', '2016', '整體', '之種', '之內', '中明確', '一步', '不算', '利', '鴻海', '部分', '＇', '候人', '值', '傳輸到', '並說', '｟', '已經', '本', '持續', '『', '之薪', '去年同期', \"'\", '並爭', '0', '其', '主力', '若', '之上', '人運', '之後淨', '註', '之份', '仟元', '不同', '三成', '四', '並經', '之延遲', '中風趣', '來', '不料', '之運用', '三點', '借記', '的', '日', '以順利', '之延', '晉三', '‧', '百之', '列', '一家', '並擬', '電子', '不願進', '以落', '不要', '=', '前', '計算資金', '一倍', '減損', '‟', '4', '年本', '三親', '七千', '四年', '>', '‛', '?', '以進', '乘上', '營業', '過去', '堺', '確性', '科目', '不能', '這家', '包括', '現金', '度', '一把', '之後純', '下半年', '請', '性事', '代人', '主因', '並參酌', '[', '之績', '進', '將', '並確', '之透', '不超過', '三箭', '-', '29', '不太花', '開關鍵', '之將', '點名', '佔', '主張', '僱用', '正確性', '來源', '應該', '並不斷', '下合', '以彌補', '台幣', '之水', '這個', '之親', '一百九十', '子公司', '發生', '土城', '目前', '因此', '除了', '不致', '評價', '一有', '事部', '資產', '之壽命', '以該', '以內', '三家', '有', '＿', '並於', '〟', '並擁', '黑衣人', '並就', '＝', '據', '以強', '最終', '支出', '＊', '不順', '!', '成本', '一天', '九億元', '預估', '不手', '不單', '並視', '一勞永逸', '旗下', '然而', '做出', '之用', '之樞', '*', '認為', '予確', '人士', '維持', '|', '立刻', '提出', '修改', '之部', '就算', '發表', '入主', '並申', '訂單', '「', '1', '同期', '佔率', '依', '高達', '並不', '人持', '並預計', '加上', '位元', '〙', '一心', '$', '並加蓋', '之家', '以能', '購案', '但是', '之細', '晶華', '之溝', '月底', '…', '接受', '不利', '他', '昨日', '不論', '不符', '並沒有', '人中', '依職', '一月', '之後', '鴻', '三十五', '不善', '出', '之間', '如果', '(', '＜', '不及', '之議', '並認', '元', '）', '也', '一年', '〕', '得', '〜', '郭董', '‘', '如此', '久而久之', '用', '.', '之市', '併', '附', '一千七百', '案', '一些', '很', '上台', '媒體', '以其', '成為', '之丕', 'NHK', '佔本', '來遊', '九十', '特性', '估算', '收入', '〾', '例及', '集團', '並擔', '〝', '依買', '無法', '借案', '權益', '［', '人化', '並宣導', '權', '什麼', '地區', 'SDP', '於', '之', '記者', '並與', '？', '並將', '、', '僱人', '上本', '並進', '之日', '一波', '他應', '並未', '事意', '意見', '從', '，', '］', '不會分', '日元', '並對', '大阪', '之無', '彙', '〰', '„', '最', '認列', '任何', '人之', '之當', '展現', '2015', '億元', '今天', '｡', '一再', '億日圓', '係', '一份', '影響', '時', '營業外', '／', '三十九', '伍佰貳', '＄', '之供', '買', '一次', '案召開', '股東會', '購', '之權', '將能', '依集', '並', '000', '並引進', ')', '事宜', '率', '萬張', '是', '位應', '“', '供應商', '五大', '一夕', '並在', '長', '影響財務', '並訂', '’', '沒', '外界', '至', '下應', '無形', '＋', '依券', '不看', '份有', '公司', '並繼', '要求', '廠', '總額', '都', '任會', '仟元案', '無', '但個', '可能', '以節', '佰柒拾', '三大', '主幹', '不斷', '附註', '以給', '並組織', '並且', '以喪失', '以及', '二家', '工廠', ':', '尺寸', '表示', '一條', '報告', '由於', '佰元筆', '之觀', '受到', '〖', '日圓', '之處', '倡議', '+', '安倍', '上層察覺', '總裁', '3500', '重要', '面板', '一季', '一對', '業務', '之互', '值之', '以便', '一百三十元', '不足以', '不二', '策層', '｠', '＞', '/', '並不重', '人次', '對夏普', '人', '夏', '後', '已', '一事', '中', '之旺', '引述', '一擲', '之達', '一口', '\\\\', '~', '＂', '夏普是', '使用', '重大', '三線', '一役', '向', '一開始', 'Display', '以維護', '邱', '下午', '這', '及與', '到', '市', '一副', '一樣', '不確', '%', '＆', '才', '之衍', '首度', '之暴', '並無顯', '〘', '並不會', '流量', '中稱', '相對', '東洋', '」', '再', '合', '一百四', '之詢', '我', '@', '品牌', '實地', '人本', '文件', '之本', '三', '〞', '一直', '因應', '之判斷', '之列', '—', '一般', '25', '並無給', '報表', '讓', '不是', '12', '人將', '兩家', '共同', '例如', '億', '最高', '說明', '前往', '三種', '蘋果', '一搏', '一二年', '被', '公開', '加工', '之連', '看', '經營', '去年', '把', '如下', '仟玖佰柒拾', '依修', '三公', '為', '以確', '同時', '局面', '高', '財務', '本會', '{', '之後事', '所', '清單', '不會', '不', '三千', '一環', '傳出'})\n"
     ]
    }
   ],
   "source": [
    "print(tfidf_vectorizer.get_stop_words())"
   ]
  },
  {
   "cell_type": "markdown",
   "metadata": {},
   "source": [
    "#### 計算 TFIDF 詞頻矩陣"
   ]
  },
  {
   "cell_type": "code",
   "execution_count": 15,
   "metadata": {},
   "outputs": [
    {
     "name": "stderr",
     "output_type": "stream",
     "text": [
      "/home/dongdong/.local/lib/python3.5/site-packages/sklearn/feature_extraction/text.py:286: UserWarning: Your stop_words may be inconsistent with your preprocessing. Tokenizing the stop words generated tokens ['display', 'igzo', 'incj', 'iphone', 'jdi', 'lg', 'nhk', 'nt', 'sdp', 'witsview'] not in stop_words.\n",
      "  sorted(inconsistent))\n"
     ]
    }
   ],
   "source": [
    "tfidf_matrix = tfidf_vectorizer.fit_transform(data)"
   ]
  },
  {
   "cell_type": "markdown",
   "metadata": {},
   "source": [
    "#### 顯示 TFIDF 詞頻矩陣大小"
   ]
  },
  {
   "cell_type": "code",
   "execution_count": 16,
   "metadata": {},
   "outputs": [
    {
     "data": {
      "text/plain": [
       "(10, 1582)"
      ]
     },
     "execution_count": 16,
     "metadata": {},
     "output_type": "execute_result"
    }
   ],
   "source": [
    "tfidf_matrix.shape"
   ]
  },
  {
   "cell_type": "markdown",
   "metadata": {},
   "source": [
    "#### 顯示部份 TFIDF 詞頻矩陣中的字詞"
   ]
  },
  {
   "cell_type": "code",
   "execution_count": 17,
   "metadata": {
    "scrolled": true
   },
   "outputs": [
    {
     "name": "stdout",
     "output_type": "stream",
     "text": [
      "['上市', '上海', '上漲', '下台', '下滑', '下跌', '中國大陸', '中央社', '中階', '主導性', '主管', '主義經濟', '之後股價', '予人景氣', '事情', '事業營', '事要', '二二', '二是', '五十二', '五十元', '五千', '五年', '五成', '五美元', '五點', '亞洲', '交代', '交易', '交易所', '交流', '交給', '亮眼', '人並', '人員', '人均', '人才', '人才流失', '人稻', '人達成', '仁寶', '仁寶等', '介入', '仍不離', '仍強', '仍處', '仔細', '代表性', '以下', '以交換']\n"
     ]
    }
   ],
   "source": [
    "words = tfidf_vectorizer.get_feature_names()\n",
    "print(words[0:50])"
   ]
  },
  {
   "cell_type": "markdown",
   "metadata": {},
   "source": [
    "#### 顯示 TFIDF > 閥值 (limit) 的資料"
   ]
  },
  {
   "cell_type": "raw",
   "metadata": {},
   "source": [
    "limit = 0.1\n",
    "wordsperdocument = 10\n",
    "for i in range(len(data)):\n",
    "    count = 0\n",
    "    print('----Document : {0}----'.format(title[i]))\n",
    "    for j in range(len(words)):\n",
    "        if (tfidf_matrix[i,j] > limit) and (count != wordsperdocument):\n",
    "            print(words[j], tfidf_matrix[i,j])\n",
    "            count += 1"
   ]
  },
  {
   "cell_type": "code",
   "execution_count": null,
   "metadata": {},
   "outputs": [],
   "source": [
    "f, ax = plt.subplots(figsize=(12,10))\n",
    "plt.title('Pearson Correlation of Movie Features')\n",
    "sns.heatmap(movie_num.astype(float).corr(), linewidths=0.25, vmax=1.0, square=True,\n",
    "           cmap=\"YlGnBu\", linecolor='black', annot=True)"
   ]
  },
  {
   "cell_type": "code",
   "execution_count": 45,
   "metadata": {},
   "outputs": [],
   "source": [
    "from sklearn.preprocessing import StandardScaler\n",
    "X_std = StandardScaler().fit_transform(data.values)"
   ]
  },
  {
   "cell_type": "code",
   "execution_count": 53,
   "metadata": {},
   "outputs": [
    {
     "data": {
      "text/plain": [
       "<matplotlib.axes._subplots.AxesSubplot at 0x7fa945565a20>"
      ]
     },
     "execution_count": 53,
     "metadata": {},
     "output_type": "execute_result"
    },
    {
     "data": {
      "image/png": "[encoded data removed]",
      "text/plain": [
       "<Figure size 1080x1080 with 2 Axes>"
      ]
     },
     "metadata": {
      "needs_background": "light"
     },
     "output_type": "display_data"
    }
   ],
   "source": [
    "f, ax = plt.subplots(figsize=(15,15))\n",
    "plt.title('Correlation of Documents', fontsize = 13)\n",
    "sns.heatmap(data.astype(float).corr(), linewidths=0.25, vmax=1.0, square=True,\n",
    "           cmap=\"YlGnBu\", linecolor='black', annot=True)"
   ]
  },
  {
   "cell_type": "code",
   "execution_count": 54,
   "metadata": {},
   "outputs": [],
   "source": [
    "pca = PCA()\n",
    "pca_value = pca.fit_transform(X_std)"
   ]
  },
  {
   "cell_type": "code",
   "execution_count": 55,
   "metadata": {},
   "outputs": [
    {
     "data": {
      "text/plain": [
       "array([[-6.27773600e-02,  9.37931185e-01,  7.88490969e-01, ...,\n",
       "        -2.21909261e+00, -1.04147392e+00,  1.65803901e-01],\n",
       "       [ 2.33181245e-01, -1.39303797e+00, -1.34095701e+00, ...,\n",
       "        -1.25128996e-01,  2.69728980e-14,  2.99010340e-01],\n",
       "       [-7.13140250e-01,  1.65469009e-01,  3.68054507e-03, ...,\n",
       "        -9.80281495e-02,  7.27814248e-01, -3.43603566e-01],\n",
       "       ...,\n",
       "       [ 6.46519678e-01,  4.83218156e-01, -5.73324656e-01, ...,\n",
       "        -5.26987551e-01, -7.88923684e-01, -1.91140121e-01],\n",
       "       [ 7.27037325e-01, -4.96567097e-01,  3.67012522e-01, ...,\n",
       "        -1.14582752e-01, -1.39642414e-01,  3.97030345e-02],\n",
       "       [-8.66593489e-01,  8.85450428e-01, -5.17192670e-01, ...,\n",
       "        -8.88998991e-02, -1.34381635e-01, -6.81699047e-01]])"
      ]
     },
     "execution_count": 55,
     "metadata": {},
     "output_type": "execute_result"
    }
   ],
   "source": [
    "pca_value"
   ]
  },
  {
   "cell_type": "code",
   "execution_count": 57,
   "metadata": {},
   "outputs": [],
   "source": [
    "pca = PCA(n_components=7)\n",
    "x_7d = pca.fit_transform(X_std)"
   ]
  },
  {
   "cell_type": "code",
   "execution_count": 58,
   "metadata": {},
   "outputs": [],
   "source": [
    "pca4 = PCA(n_components=4)\n",
    "x_4d = pca.fit_transform(X_std)"
   ]
  },
  {
   "cell_type": "code",
   "execution_count": 61,
   "metadata": {},
   "outputs": [
    {
     "data": {
      "image/png": "[encoded data removed]",
      "text/plain": [
       "<Figure size 504x504 with 1 Axes>"
      ]
     },
     "metadata": {
      "needs_background": "light"
     },
     "output_type": "display_data"
    }
   ],
   "source": [
    "#Set a 3 KMeans clustering\n",
    "kmeans = KMeans(n_clusters = 3)\n",
    "\n",
    "#Compute cluster centers and predict cluster indices\n",
    "X_clustered = kmeans.fit_predict(x_7d)\n",
    "\n",
    "#Define our own color map\n",
    "LABEL_COLOR_MAP = {0:'r', 1: 'g', 2: 'b'}\n",
    "label_color = [LABEL_COLOR_MAP[l] for l in X_clustered]\n",
    "\n",
    "# Plot the scatter digram\n",
    "plt.figure(figsize = (7,7))\n",
    "plt.scatter(x_7d[:,0],x_7d[:,2], c= label_color, alpha=0.5) \n",
    "plt.show()"
   ]
  },
  {
   "cell_type": "code",
   "execution_count": 62,
   "metadata": {},
   "outputs": [
    {
     "data": {
      "image/png": "[encoded data removed]",
      "text/plain": [
       "<Figure size 504x504 with 1 Axes>"
      ]
     },
     "metadata": {
      "needs_background": "light"
     },
     "output_type": "display_data"
    }
   ],
   "source": [
    "#Set a 3 KMeans clustering\n",
    "kmeans = KMeans(n_clusters = 3)\n",
    "\n",
    "#Compute cluster centers and predict cluster indices\n",
    "X_clustered = kmeans.fit_predict(x_4d)\n",
    "\n",
    "#Define our own color map\n",
    "LABEL_COLOR_MAP = {0:'r', 1: 'g', 2: 'b'}\n",
    "label_color = [LABEL_COLOR_MAP[l] for l in X_clustered]\n",
    "\n",
    "# Plot the scatter digram\n",
    "plt.figure(figsize = (7,7))\n",
    "plt.scatter(x_4d[:,0],x_4d[:,2], c= label_color, alpha=0.5) \n",
    "plt.show()"
   ]
  },
  {
   "cell_type": "code",
   "execution_count": null,
   "metadata": {},
   "outputs": [],
   "source": []
  },
  {
   "cell_type": "code",
   "execution_count": null,
   "metadata": {},
   "outputs": [],
   "source": []
  },
  {
   "cell_type": "code",
   "execution_count": null,
   "metadata": {},
   "outputs": [],
   "source": []
  },
  {
   "cell_type": "code",
   "execution_count": null,
   "metadata": {},
   "outputs": [],
   "source": []
  },
  {
   "cell_type": "code",
   "execution_count": null,
   "metadata": {},
   "outputs": [],
   "source": []
  },
  {
   "cell_type": "code",
   "execution_count": null,
   "metadata": {},
   "outputs": [],
   "source": []
  }
 ],
 "metadata": {
  "kernelspec": {
   "display_name": "Python 3",
   "language": "python",
   "name": "python3"
  },
  "language_info": {
   "codemirror_mode": {
    "name": "ipython",
    "version": 3
   },
   "file_extension": ".py",
   "mimetype": "text/x-python",
   "name": "python",
   "nbconvert_exporter": "python",
   "pygments_lexer": "ipython3",
   "version": "3.5.2"
  },
  "varInspector": {
   "cols": {
    "lenName": 16,
    "lenType": 16,
    "lenVar": 40
   },
   "kernels_config": {
    "python": {
     "delete_cmd_postfix": "",
     "delete_cmd_prefix": "del ",
     "library": "var_list.py",
     "varRefreshCmd": "print(var_dic_list())"
    },
    "r": {
     "delete_cmd_postfix": ") ",
     "delete_cmd_prefix": "rm(",
     "library": "var_list.r",
     "varRefreshCmd": "cat(var_dic_list()) "
    }
   },
   "position": {
    "height": "428px",
    "left": "1493px",
    "right": "20px",
    "top": "115px",
    "width": "350px"
   },
   "types_to_exclude": [
    "module",
    "function",
    "builtin_function_or_method",
    "instance",
    "_Feature"
   ],
   "window_display": false
  }
 },
 "nbformat": 4,
 "nbformat_minor": 2
}
